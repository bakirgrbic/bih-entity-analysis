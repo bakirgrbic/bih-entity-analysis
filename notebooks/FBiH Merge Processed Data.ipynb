{
 "cells": [
  {
   "cell_type": "markdown",
   "id": "020e36ca-12c3-48d5-8c07-dbad12829720",
   "metadata": {},
   "source": [
    "# FBiH Merge Processed Data"
   ]
  },
  {
   "cell_type": "code",
   "execution_count": 2,
   "id": "70b2c419-4361-4f09-84e9-b005e174cd49",
   "metadata": {},
   "outputs": [],
   "source": [
    "import pandas as pd"
   ]
  },
  {
   "cell_type": "markdown",
   "id": "a485a261-d57f-4fcd-b6b2-c20c18dd1fa6",
   "metadata": {},
   "source": [
    "## Non political data"
   ]
  },
  {
   "cell_type": "markdown",
   "id": "d0b83286-a39b-44e5-a08c-0b3e4df5eef0",
   "metadata": {},
   "source": [
    "**Some Notes on the tables**\n",
    "\n",
    "`gross_average_wages.xlsx` and `employees.xlsx` both have the same amount of records and go from 2005 to 2024.\n",
    "\n",
    "`census_2013.xlsx` is only for the year 2013 which is fine as it will be supplemented with political data and be used as a sanity check for making the assumption that people vote based on ethnic lines.\n",
    "\n",
    "`businesses_per_sector.xlsx` only goes form 2012 to 2023. It might be useful as a proxy for education given the amount of businesses in extractive sectors such as agriculture and/or mining."
   ]
  },
  {
   "cell_type": "code",
   "execution_count": null,
   "id": "89a8c381-619a-44de-bef8-53a25edb5839",
   "metadata": {},
   "outputs": [],
   "source": []
  },
  {
   "cell_type": "markdown",
   "id": "92e6f613-5b64-414b-921e-2b837bc416dc",
   "metadata": {},
   "source": [
    "## Transform and Merge Political data"
   ]
  },
  {
   "cell_type": "code",
   "execution_count": null,
   "id": "16a9be3c-184d-438f-b6b2-15c38ae521b4",
   "metadata": {},
   "outputs": [],
   "source": []
  }
 ],
 "metadata": {
  "kernelspec": {
   "display_name": "Python 3 (ipykernel)",
   "language": "python",
   "name": "python3"
  },
  "language_info": {
   "codemirror_mode": {
    "name": "ipython",
    "version": 3
   },
   "file_extension": ".py",
   "mimetype": "text/x-python",
   "name": "python",
   "nbconvert_exporter": "python",
   "pygments_lexer": "ipython3",
   "version": "3.12.5"
  }
 },
 "nbformat": 4,
 "nbformat_minor": 5
}
