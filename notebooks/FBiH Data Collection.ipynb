{
 "cells": [
  {
   "cell_type": "markdown",
   "id": "cb3f1fd6-3a1e-4aca-a064-3257e75334af",
   "metadata": {},
   "source": [
    "# FBiH Data Collection\n",
    "\n",
    "Outlines my data collection method and how to recreate it. Does not contain any code but more just my process.\n",
    "\n",
    "\n",
    "Data obtained from the [Institute for Statistics of FBiH](https://px-web.fzs.ba/pxweb/en/?rxid=7e91d240-74c9-4427-9011-89cc3bc680d0). THERE ARE 10 Cantons in total, leaving 79 municipalities in FBiH"
   ]
  },
  {
   "cell_type": "markdown",
   "id": "0301c9fe-eb96-40c9-b604-270c0ad5c232",
   "metadata": {
    "jp-MarkdownHeadingCollapsed": true
   },
   "source": [
    "# Explored and Unused Databases (because there was no municipal data)"
   ]
  },
  {
   "cell_type": "markdown",
   "id": "c69a214e-c13b-442e-9cc4-1f290f75ccf6",
   "metadata": {},
   "source": [
    "- [x] Anketa o potrosnji domacinstava - Household Budget Survey\n",
    "- [x] Anketa o radnoj snazi ARS - Labour Force Survey (LFS)\n",
    "- [x] Bruto domaći proizvod (BDP) -Gross domestic product (GDP)\n",
    "- [x] Cijene-Prices\n",
    "- [x] Energetika - Energy Statistics\n",
    "- [x] Esspros\n",
    "- [x] Gradjevinarstvo - Construction -----> NOTHING USED, no municipal data BUT may be useful for entity comparison as a proxy for public good investment\n",
    "- [x] Industrija-Industry\n",
    "- [x] Investicije u stalna sredstva – Gross fixed capital formation\n",
    "- [x] Istraživanje i razvoj - Research and development\n",
    "- [x] Nacionalni zdravstveni racuni - National Health Accounts\n",
    "- [x] Obrazovanje - Education -----> NOTHING USED, no municipal data BUT there is canton level data for number of pupils enrolled in primary school\n",
    "- [x] Poljoprivreda, sumarstvo i ribarstvo - Agriculture, forestry and fishing\n",
    "- [x] Pravosuđe – Justice Statistics\n",
    "- [x] Prijevoz i komunikacije - Transport and Communications -----> NOTHING USED, no municipal data BUT there is data on entity roads and bridges built\n",
    "- [x] Socijalna zastita - Social protection\n",
    "- [x] Vanjska trgovina - Foreign Trade"
   ]
  },
  {
   "cell_type": "markdown",
   "id": "70cf76a1-6bbe-4ee2-97b0-9d8c59f481d7",
   "metadata": {
    "jp-MarkdownHeadingCollapsed": true
   },
   "source": [
    "# Main Dependent Variable: Gross Average Wages"
   ]
  },
  {
   "cell_type": "markdown",
   "id": "609b5981-ff87-49b8-8cc3-2942cf63c191",
   "metadata": {},
   "source": [
    "**Location on website:** Zaposlenost i place - Employment and wages >> Place - Wages >> Table 6. GROSS WAGES BY CANTONS AND MUNICIPALITIES (KM)\n",
    "\n",
    "**Name of downloaded file:** Place.csv\n",
    "\n",
    "I selected all 89 Cantons-Municipalities, for all years, and chose the annual year reported value \"0 1-X11\"."
   ]
  },
  {
   "cell_type": "markdown",
   "id": "58d4becf-c6b6-4ed5-83b4-a53440740d7b",
   "metadata": {},
   "source": [
    "# Independent Variable: Political Data\n",
    "\n",
    "See `BiH Political Data Collection.ipynb`"
   ]
  },
  {
   "cell_type": "markdown",
   "id": "4913d934-9d26-4208-b107-7a2d8520bc7c",
   "metadata": {},
   "source": [
    "# Control Variables"
   ]
  },
  {
   "cell_type": "markdown",
   "id": "d7c61a61-3749-46a0-bff0-3c753d24c5af",
   "metadata": {},
   "source": [
    "## From PA2 Specification"
   ]
  },
  {
   "cell_type": "markdown",
   "id": "ae29910c-a488-4704-9b43-d20e85b24900",
   "metadata": {
    "jp-MarkdownHeadingCollapsed": true
   },
   "source": [
    "### Register of Business Entities per Canton and Municipality"
   ]
  },
  {
   "cell_type": "markdown",
   "id": "503e97d7-9c4e-4b19-a7e2-791c74e4af3f",
   "metadata": {},
   "source": [
    "**Location on website:** Registar poslovnih subjekata - Register of Business Entities >> REGISTER OF BUSINESS ENTITIES IN FBIH BY CANTON AND MUNICIPALITY\n",
    "\n",
    "**Name of downloaded file:** Registar.csv\n",
    "\n",
    "Not sure what the difference between Legal Entity, Parts of one, and Crafts mean. Data can be broken down per economic sector. I chose all entities for all years for each entity for all sectors."
   ]
  },
  {
   "cell_type": "markdown",
   "id": "b9a7243a-b6b3-4f03-9352-25f7cc1eb879",
   "metadata": {
    "jp-MarkdownHeadingCollapsed": true
   },
   "source": [
    "### POPULATION BY ETHNIC/NATIONAL AFFILIATION AND SEX, BY MUNICIPALITIES (2013)"
   ]
  },
  {
   "cell_type": "markdown",
   "id": "a8809c37-246d-4cc6-85c1-05c7a69984bc",
   "metadata": {},
   "source": [
    "**Location on website:** POPIS 2013 Konačni rezultati-CENSUS 2013 Final Results >> KNJIGA 2 Etnicka-nacionalna pripadnost, vjeroispovijest, maternji jezik >> POPULATION BY ETHNIC/NATIONAL AFFILIATION AND SEX, BY MUNICIPALITIES\n",
    "\n",
    "**Name of downloaded file:** Popis2013_Knjiga2.csv"
   ]
  },
  {
   "cell_type": "markdown",
   "id": "a736e9a6-e681-4f11-89da-ae4ce1340f3e",
   "metadata": {},
   "source": [
    "### PERSONS IN EMPLOYMENT BY CANTONS AND MUNICIPALITIES"
   ]
  },
  {
   "cell_type": "markdown",
   "id": "526ab6b0-4568-4e68-b4aa-e607a0cf519d",
   "metadata": {},
   "source": [
    "**Location on website:** Zaposlenost i place - Employment and wages >> Zaposlenost - Employment >> Table 4. PERSONS IN EMPLOYMENT BY CANTONS AND MUNICIPALITIES\n",
    "\n",
    "**Name of downloaded file:** Zaposlenost.csv\n",
    "\n",
    "There exists a breakdown for each canton how many people work in each sector but not at the municipal level. Could not find this breakdown for employeed peopel in canton but this might be helpful to control for workers in each canton."
   ]
  },
  {
   "cell_type": "markdown",
   "id": "f78d5ae6-a2b2-4ae4-b8a5-2be66f602100",
   "metadata": {},
   "source": [
    "## New possible ones"
   ]
  },
  {
   "cell_type": "markdown",
   "id": "eb3e6d80-9b34-4837-9bfa-ba230c94caa7",
   "metadata": {},
   "source": [
    "### BIRTHS BY VITALITY, AND LIVEBIRTHS BY SEX, BIRTH PLACE AND MARRIAGE\n",
    "\n",
    "**Location on website:** Stanovnistvo-Population >> BIRTHS BY VITALITY, AND LIVEBIRTHS BY SEX, BIRTH PLACE AND MARRIAGE\n",
    "    \n",
    "**Name of downloaded file:** ???\n",
    "\n",
    "This database has information on marriages and divorces as well, but this may not be useful for the study."
   ]
  },
  {
   "cell_type": "markdown",
   "id": "8b1b907e-df56-4f8f-842e-6ac7b83894da",
   "metadata": {},
   "source": [
    "#### TOURIST ARRIVALS AND TOURIST NIGHTS BY MUNICIPALITIES AND YEARS\n",
    "\n",
    "**Location on website:** Turizam - Tourism >> Dolasci i noćenje turista - Tourist arrivals-nights >> \n",
    "TOURIST ARRIVALS AND TOURIST NIGHTS BY MUNICIPALITIES AND YEARS\n",
    "    \n",
    "**Name of downloaded file:** ???\n",
    "\n",
    "Municipal level data for tourists broken down to domestic and foreign ones. Measures arrivals and nigts stayed. There is a table for canton level tourists as well."
   ]
  },
  {
   "cell_type": "markdown",
   "id": "0d30e176-cbca-4a18-b2b4-06297abee853",
   "metadata": {},
   "source": [
    "# Other Notes\n",
    "\n",
    "2013 census has data on people employeed in each municipaility, human capital controls for the year, and population by municipality."
   ]
  },
  {
   "cell_type": "markdown",
   "id": "c11b9eb2-dfc7-429d-943f-00296abad7d3",
   "metadata": {},
   "source": []
  }
 ],
 "metadata": {
  "kernelspec": {
   "display_name": "Python 3 (ipykernel)",
   "language": "python",
   "name": "python3"
  },
  "language_info": {
   "codemirror_mode": {
    "name": "ipython",
    "version": 3
   },
   "file_extension": ".py",
   "mimetype": "text/x-python",
   "name": "python",
   "nbconvert_exporter": "python",
   "pygments_lexer": "ipython3",
   "version": "3.12.5"
  }
 },
 "nbformat": 4,
 "nbformat_minor": 5
}
