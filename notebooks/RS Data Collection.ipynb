{
 "cells": [
  {
   "cell_type": "markdown",
   "id": "7c9bfc8e-d755-4608-b6fa-f4f0ba39e492",
   "metadata": {},
   "source": [
    "# NOTE\n",
    "I did not use this notebook as the control variables between the entities did not match up."
   ]
  },
  {
   "cell_type": "markdown",
   "id": "cb3f1fd6-3a1e-4aca-a064-3257e75334af",
   "metadata": {},
   "source": [
    "# RS Data Collection\n",
    "\n",
    "Outlines my data collection method and how to recreate it. Does not contain any code but more just my process.\n",
    "\n",
    "Data obtained from the [RS Institute of Statistics](https://www.rzs.rs.ba/?up_mi=18) and clicking the \"Database\" tab (note the connection is http and not secure). THERE ARE 64 municipalities in RS, NO cantons."
   ]
  },
  {
   "cell_type": "markdown",
   "id": "0301c9fe-eb96-40c9-b604-270c0ad5c232",
   "metadata": {},
   "source": [
    "# Explored and Unused Databases (mainly because there was no municipal data)\n",
    "I used firefox translate as the website would break for translating to anything else other than cyrillic for its own language controls\n",
    "\n",
    "- [x] External Trade\n",
    "- [x] Construction -----> NOTHING USED, there is municipal level data on apartments but don't think this is a good proxy for public goods\n",
    "- [x] Forestry -----> NOTHING USED, there is municipal level data\n",
    "- [ ] Prices\n",
    "- [ ] National Accounts\n",
    "- [ ] Investments\n",
    "- [ ] Population\n",
    "- [x] Structural Business Statistics\n",
    "- [x] Distributive Trade and other services\n",
    "- [ ] Traffic\n",
    "- [ ] Education -----> NOTHING USED, there is municipal level data for enrolled students in \"high\" education\n",
    "- [x] The Environement\n",
    "- [ ] Industry\n",
    "- [ ] The Judiciary\n",
    "- [ ] Science, Technology, and Innovation\n",
    "- [x] Energy"
   ]
  },
  {
   "cell_type": "markdown",
   "id": "6087ff5a-8e00-40ea-bb56-37dd2d62edff",
   "metadata": {},
   "source": [
    "# Explored and Municipal Level Data present"
   ]
  },
  {
   "cell_type": "markdown",
   "id": "70cf76a1-6bbe-4ee2-97b0-9d8c59f481d7",
   "metadata": {},
   "source": [
    "## Main Dependent Variable: Gross Average Wages"
   ]
  },
  {
   "cell_type": "markdown",
   "id": "609b5981-ff87-49b8-8cc3-2942cf63c191",
   "metadata": {},
   "source": [
    "**Location on website:** Employeement and Wages >> Salaries >> AVERAGE SALARIES PER MONTH\n",
    "\n",
    "**Name of downloaded file:** data.xlsx (converted it to csv and renamed to gross_average_wages.csv)\n",
    "\n",
    "I selected gross average salaries for all areas and years. Note that there are more than just 64 areas so things such as cities are included as well as all of RS too."
   ]
  }
 ],
 "metadata": {
  "kernelspec": {
   "display_name": "Python 3 (ipykernel)",
   "language": "python",
   "name": "python3"
  },
  "language_info": {
   "codemirror_mode": {
    "name": "ipython",
    "version": 3
   },
   "file_extension": ".py",
   "mimetype": "text/x-python",
   "name": "python",
   "nbconvert_exporter": "python",
   "pygments_lexer": "ipython3",
   "version": "3.12.5"
  }
 },
 "nbformat": 4,
 "nbformat_minor": 5
}
