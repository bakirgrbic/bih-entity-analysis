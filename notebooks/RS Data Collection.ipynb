{
 "cells": [
  {
   "cell_type": "markdown",
   "id": "cb3f1fd6-3a1e-4aca-a064-3257e75334af",
   "metadata": {},
   "source": [
    "# RS Data Collection \n",
    "\n",
    "Outlines my data collection method and how to recreate it. Does not contain any code but more just my process.\n",
    "\n",
    "Data obtained from the [RS Institute of Statistics](https://www.rzs.rs.ba/?up_mi=18) and clicking the \"Database\" tab (note the connection is http and not secure). THERE ARE 64 municipalities in RS, NO cantons."
   ]
  },
  {
   "cell_type": "markdown",
   "id": "0301c9fe-eb96-40c9-b604-270c0ad5c232",
   "metadata": {},
   "source": [
    "# Explored and Unused Databases (mainly because there was no municipal data)\n",
    "I used firefox translate as the website would break for translating to anything else other than cyrillic for its own language controls\n",
    "\n",
    "- [x] External Trade\n",
    "- [x] Construction -----> NOTHING USED, there is municipal level data on apartments but don't think this is a good proxy for public goods\n",
    "- [x] Forestry -----> NOTHING USED, there is municipal level data\n",
    "- [ ] Prices\n",
    "- [ ] National Accounts\n",
    "- [ ] Investments\n",
    "- [ ] Population\n",
    "- [x] Structural Business Statistics\n",
    "- [x] Distributive Trade and other services\n",
    "- [ ] Traffic\n",
    "- [ ] Education -----> NOTHING USED, there is municipal level data for enrolled students in \"high\" education\n",
    "- [x] The Environement\n",
    "- [ ] Industry\n",
    "- [ ] The Judiciary\n",
    "- [ ] Science, Technology, and Innovation\n",
    "- [x] Energy"
   ]
  },
  {
   "cell_type": "markdown",
   "id": "6087ff5a-8e00-40ea-bb56-37dd2d62edff",
   "metadata": {},
   "source": [
    "# Explored and Municipal Level Data present"
   ]
  },
  {
   "cell_type": "markdown",
   "id": "70cf76a1-6bbe-4ee2-97b0-9d8c59f481d7",
   "metadata": {},
   "source": [
    "## Main Dependent Variable: Gross Average Wages"
   ]
  },
  {
   "cell_type": "markdown",
   "id": "609b5981-ff87-49b8-8cc3-2942cf63c191",
   "metadata": {},
   "source": [
    "**Location on website:** Employeement and Wages >> Salaries >> AVERAGE SALARIES PER MONTH\n",
    "\n",
    "**Name of downloaded file:** data.xlsx (converted it to csv and renamed to gross_average_wages.csv)\n",
    "\n",
    "I selected gross average salaries for all areas and years. Note that there are more than just 64 areas so things such as cities are included as well as all of RS too."
   ]
  },
  {
   "cell_type": "markdown",
   "id": "58d4becf-c6b6-4ed5-83b4-a53440740d7b",
   "metadata": {},
   "source": [
    "## Independent Variable: Entity group\n",
    "\n",
    "All of the entities are FBiH for data gathered here"
   ]
  },
  {
   "cell_type": "markdown",
   "id": "4913d934-9d26-4208-b107-7a2d8520bc7c",
   "metadata": {},
   "source": [
    "# Control Variables"
   ]
  },
  {
   "cell_type": "markdown",
   "id": "d7c61a61-3749-46a0-bff0-3c753d24c5af",
   "metadata": {},
   "source": [
    "## From PA2 Specification"
   ]
  },
  {
   "cell_type": "markdown",
   "id": "ae29910c-a488-4704-9b43-d20e85b24900",
   "metadata": {},
   "source": [
    "### tod\n",
    "Register of Business Entities per Canton and Municipality\n",
    "\n",
    "**Location on website:** Registar poslovnih subjekata - Register of Business Entities >> REGISTER OF BUSINESS ENTITIES IN FBIH BY CANTON AND MUNICIPALITY\n",
    "\n",
    "**Name of downloaded file:** Registar.csv\n",
    "\n",
    "Not sure what the difference between Legal Entity, Parts of one, and Crafts mean. Data can be broken down per economic sector. I chose all entities for all years for each entity for all sectors."
   ]
  },
  {
   "cell_type": "markdown",
   "id": "b9a7243a-b6b3-4f03-9352-25f7cc1eb879",
   "metadata": {},
   "source": [
    "### POPULATION BY ETHNIC/NATIONAL AFFILIATION AND SEX, BY MUNICIPALITIES (2013)\n",
    "\n",
    "**Location on website:** The UP. 2013 >> Population - Nationality, Religion and Mother Language >> POPULATION ACCORDING TO ETHNCITY AND GENDER, MUNICIPALITIES\n",
    "\n",
    "**Name of downloaded file:** data.xlsx (converted it to csv and renamed to municipal_ethnicity.csv)\n",
    "\n",
    "Choose all areas, only Bosniaks, Croats, and Serbs for TOTAL untis."
   ]
  },
  {
   "cell_type": "markdown",
   "id": "a736e9a6-e681-4f11-89da-ae4ce1340f3e",
   "metadata": {},
   "source": [
    "### PERSONS IN EMPLOYMENT BY CANTONS AND MUNICIPALITIES\n",
    "\n",
    "**Location on website:** Zaposlenost i place - Employment and wages >> Zaposlenost - Employment >> Table 4. PERSONS IN EMPLOYMENT BY CANTONS AND MUNICIPALITIES\n",
    "\n",
    "**Name of downloaded file:** Zaposlenost.csv\n",
    "\n",
    "There exists a breakdown for each canton how many people work in each sector but not at the municipal level. Could not find this breakdown for employeed peopel in canton but this might be helpful to control for workers in each canton."
   ]
  },
  {
   "cell_type": "markdown",
   "id": "f78d5ae6-a2b2-4ae4-b8a5-2be66f602100",
   "metadata": {},
   "source": [
    "## New possible ones"
   ]
  },
  {
   "cell_type": "markdown",
   "id": "eb3e6d80-9b34-4837-9bfa-ba230c94caa7",
   "metadata": {},
   "source": [
    "### BIRTHS BY VITALITY, AND LIVEBIRTHS BY SEX, BIRTH PLACE AND MARRIAGE\n",
    "\n",
    "**Location on website:** Stanovnistvo-Population >> BIRTHS BY VITALITY, AND LIVEBIRTHS BY SEX, BIRTH PLACE AND MARRIAGE\n",
    "    \n",
    "**Name of downloaded file:** ???\n",
    "\n",
    "This database has information on marriages and divorces as well, but this may not be useful for the study."
   ]
  },
  {
   "cell_type": "markdown",
   "id": "8b1b907e-df56-4f8f-842e-6ac7b83894da",
   "metadata": {},
   "source": [
    "#### TOURIST ARRIVALS AND TOURIST NIGHTS BY MUNICIPALITIES AND YEARS\n",
    "\n",
    "**Location on website:** Turizam - Tourism >> Dolasci i noćenje turista - Tourist arrivals-nights >> \n",
    "TOURIST ARRIVALS AND TOURIST NIGHTS BY MUNICIPALITIES AND YEARS\n",
    "    \n",
    "**Name of downloaded file:** ???\n",
    "\n",
    "Municipal level data for tourists broken down to domestic and foreign ones. Measures arrivals and nigts stayed. There is a table for canton level tourists as well."
   ]
  },
  {
   "cell_type": "markdown",
   "id": "0d30e176-cbca-4a18-b2b4-06297abee853",
   "metadata": {},
   "source": [
    "# Other Notes\n",
    "\n",
    "2013 census has data on people employeed in each municipaility, human capital controls for the year, and population by municipality."
   ]
  }
 ],
 "metadata": {
  "kernelspec": {
   "display_name": "Python 3 (ipykernel)",
   "language": "python",
   "name": "python3"
  },
  "language_info": {
   "codemirror_mode": {
    "name": "ipython",
    "version": 3
   },
   "file_extension": ".py",
   "mimetype": "text/x-python",
   "name": "python",
   "nbconvert_exporter": "python",
   "pygments_lexer": "ipython3",
   "version": "3.12.5"
  }
 },
 "nbformat": 4,
 "nbformat_minor": 5
}
