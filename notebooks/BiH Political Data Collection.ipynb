{
 "cells": [
  {
   "cell_type": "markdown",
   "id": "aa6f2411-13db-44cf-a798-6abd1476f74c",
   "metadata": {},
   "source": [
    "# BiH Political Data Collection\n",
    "\n",
    "Voting data for the following years obtained from the [Central Election Commission BiH](https://www.izbori.ba/?Lang=6). Used to control for ethnic concentration and policy preferences.\n",
    "* [2010](https://www.izbori.ba/Finalni2010/Finalni/PredsjednistvoBiH/Nivo701702.aspx)\n",
    "* [2014](https://www.izbori.ba/Potvrdjeni2014/Finalni/PredsjednistvoBiH/Nivo703.aspx)\n",
    "* [2018](https://www.izbori.ba/rezultati_izbora?resId=25&langId=4#/1/2/0/0/703)\n",
    "* [2022](https://www.izbori.ba/Rezultati_izbora/?resId=32&langId=4#/1/1/0/0/701)"
   ]
  },
  {
   "cell_type": "markdown",
   "id": "82f5a921-2a15-4027-ac91-43afd94cc181",
   "metadata": {},
   "source": [
    "I could use AI and a headless browser to scrape for both entities in each municipality. \n",
    "\n",
    "Questions to answer are:\n",
    "* How will I classify different parties to connect them to ethnicities?"
   ]
  },
  {
   "cell_type": "code",
   "execution_count": null,
   "id": "2c73a1f6-8247-40ac-be80-19af15259bf7",
   "metadata": {},
   "outputs": [],
   "source": []
  }
 ],
 "metadata": {
  "kernelspec": {
   "display_name": "Python 3 (ipykernel)",
   "language": "python",
   "name": "python3"
  },
  "language_info": {
   "codemirror_mode": {
    "name": "ipython",
    "version": 3
   },
   "file_extension": ".py",
   "mimetype": "text/x-python",
   "name": "python",
   "nbconvert_exporter": "python",
   "pygments_lexer": "ipython3",
   "version": "3.12.5"
  }
 },
 "nbformat": 4,
 "nbformat_minor": 5
}
