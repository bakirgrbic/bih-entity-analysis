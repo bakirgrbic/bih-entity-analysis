{
 "cells": [
  {
   "cell_type": "markdown",
   "id": "aa6f2411-13db-44cf-a798-6abd1476f74c",
   "metadata": {},
   "source": [
    "# BiH Political Data Collection"
   ]
  },
  {
   "cell_type": "markdown",
   "id": "3524d748-510f-4d04-b959-e6f718d075f2",
   "metadata": {},
   "source": [
    "Voting data for the following years obtained from the [Central Election Commission BiH](https://www.izbori.ba/?Lang=6). Used to control for ethnic concentration and policy preferences.\n",
    "* [2010](https://www.izbori.ba/Finalni2010/Finalni/PredsjednistvoBiH/Nivo701702.aspx)\n",
    "* [2014](https://www.izbori.ba/Potvrdjeni2014/Finalni/PredsjednistvoBiH/Nivo703.aspx)\n",
    "* [2018](https://www.izbori.ba/rezultati_izbora?resId=25&langId=4#/1/2/0/0/703)\n",
    "* [2022](https://www.izbori.ba/Rezultati_izbora/?resId=32&langId=4#/1/1/0/0/701)\n",
    "\n",
    "I will be focusing on the voting data associated with the presidential elections of the country. For reference, there are three presidents in BiH, one for each major ethnic group and the Bosniak and Croat ones are voted for in FBiH. As my analysis is limited to FBiH, I will only collect data on those two presidential races.\n",
    "\n",
    "The great thing about the presidential voting data is that the website classifies each candidate to be a Bosniak or Croat so I can avoid needing to make the decision of which party or candidate represents a specific ethnic group.\n",
    "\n",
    "I will be scraping (or calling APIs for) the data from the above websites and as they do not have a robots.txt, I will assume they are okay with me doing this."
   ]
  },
  {
   "cell_type": "markdown",
   "id": "bde07b4e-24fb-48f9-9b5e-2a07e312557e",
   "metadata": {},
   "source": [
    "## Prerequisites"
   ]
  },
  {
   "cell_type": "code",
   "execution_count": 1,
   "id": "2afb5e5a-7ede-4293-8c7a-e8b44377aafa",
   "metadata": {},
   "outputs": [],
   "source": [
    "import json\n",
    "import requests\n",
    "import sqlite3\n",
    "\n",
    "import bs4 as bs\n",
    "import pandas as pd\n",
    "\n",
    "from tools.scrape import (\n",
    "    create_db, \n",
    "    insert_candidates, \n",
    "    insert_year,\n",
    "    get_year_id,\n",
    "    insert_municipalities,\n",
    "    get_municipality_id_per_year,\n",
    "    get_candidate_ids,\n",
    "    insert_candidate_results,\n",
    "    modern_scrape,\n",
    "    older_scrape,\n",
    ")\n",
    "from tools.config import SAVE_DIR"
   ]
  },
  {
   "cell_type": "markdown",
   "id": "abe93a55-82e5-41f3-bb59-8d6183021ed8",
   "metadata": {},
   "source": [
    "Going to set up the schema for the database and save the db file in the processed folder. Details on the implemenation of most helper functions can be found in `notebooks/tools/scrape.py`."
   ]
  },
  {
   "cell_type": "code",
   "execution_count": 2,
   "id": "94f4f0a3-04e2-40e9-aa97-87a15eb8cbb1",
   "metadata": {},
   "outputs": [],
   "source": [
    "create_db()"
   ]
  },
  {
   "cell_type": "markdown",
   "id": "82f5a921-2a15-4027-ac91-43afd94cc181",
   "metadata": {},
   "source": [
    "## 2022"
   ]
  },
  {
   "cell_type": "markdown",
   "id": "d86c860c-5e15-445f-bc44-d024076f37c1",
   "metadata": {},
   "source": [
    "I will be starting with this since it is very similar to the 2018 website and is more modern than the 2014 or 2010 website which will likely require a different scraping script."
   ]
  },
  {
   "cell_type": "markdown",
   "id": "ee5529fb-69b4-44be-b79f-2f18af949c50",
   "metadata": {},
   "source": [
    "### 1: Insert into Years"
   ]
  },
  {
   "cell_type": "markdown",
   "id": "e085f152-80a8-4665-85f5-f9a09b2fde9c",
   "metadata": {},
   "source": [
    "To make inserting into the db faster I will prefill it with municipality and year."
   ]
  },
  {
   "cell_type": "code",
   "execution_count": 3,
   "id": "32830682-92ab-40a3-ac91-b9c1d9874a13",
   "metadata": {},
   "outputs": [
    {
     "name": "stdout",
     "output_type": "stream",
     "text": [
      "Successfully inserted 1 year.\n"
     ]
    }
   ],
   "source": [
    "insert_year(2022)"
   ]
  },
  {
   "cell_type": "markdown",
   "id": "174a71e3-febf-4963-ada9-97f48c63d893",
   "metadata": {},
   "source": [
    "### 2: Insert into Municipalities"
   ]
  },
  {
   "cell_type": "markdown",
   "id": "5d88f7ac-d900-4a4d-84f9-180e08a3ea47",
   "metadata": {},
   "source": [
    "I got the following html from inspecting the dropdown for municipalities. The codes are what is important here."
   ]
  },
  {
   "cell_type": "code",
   "execution_count": 4,
   "id": "d6b183ae-0fd7-4c15-b59a-81d9d1e3cc30",
   "metadata": {},
   "outputs": [],
   "source": [
    "scroll_down_html = \"\"\"\n",
    "<select class=\"ddlMenu ng-pristine ng-valid\" ng-model=\"electoralUnitSelectedId\" ng-change=\"race_1_ElectoralUnitChange()\">\n",
    "                        <option value=\"0\">-</option>\n",
    "                        <!-- ngRepeat: eu in electoralUnitList --><option ng-selected=\"false\" ng-repeat=\"eu in electoralUnitList\" value=\"1\" ng-class=\"{inactiveEu: !eu.active}\" class=\"ng-binding ng-scope\">VELIKA KLADUŠA (001)</option><!-- end ngRepeat: eu in electoralUnitList --><option ng-selected=\"true\" ng-repeat=\"eu in electoralUnitList\" value=\"2\" ng-class=\"{inactiveEu: !eu.active}\" class=\"ng-binding ng-scope\" selected=\"selected\">CAZIN (002)</option><!-- end ngRepeat: eu in electoralUnitList --><option ng-selected=\"false\" ng-repeat=\"eu in electoralUnitList\" value=\"3\" ng-class=\"{inactiveEu: !eu.active}\" class=\"ng-binding ng-scope\">BIHAĆ (003)</option><!-- end ngRepeat: eu in electoralUnitList --><option ng-selected=\"false\" ng-repeat=\"eu in electoralUnitList\" value=\"4\" ng-class=\"{inactiveEu: !eu.active}\" class=\"ng-binding ng-scope\">BOSANSKA KRUPA (004)</option><!-- end ngRepeat: eu in electoralUnitList --><option ng-selected=\"false\" ng-repeat=\"eu in electoralUnitList\" value=\"5\" ng-class=\"{inactiveEu: !eu.active}\" class=\"ng-binding ng-scope\">BUŽIM (005)</option><!-- end ngRepeat: eu in electoralUnitList --><option ng-selected=\"false\" ng-repeat=\"eu in electoralUnitList\" value=\"17\" ng-class=\"{inactiveEu: !eu.active}\" class=\"ng-binding ng-scope\">ODŽAK (017)</option><!-- end ngRepeat: eu in electoralUnitList --><option ng-selected=\"false\" ng-repeat=\"eu in electoralUnitList\" value=\"20\" ng-class=\"{inactiveEu: !eu.active}\" class=\"ng-binding ng-scope\">DOMALJEVAC - ŠAMAC (020)</option><!-- end ngRepeat: eu in electoralUnitList --><option ng-selected=\"false\" ng-repeat=\"eu in electoralUnitList\" value=\"22\" ng-class=\"{inactiveEu: !eu.active}\" class=\"ng-binding ng-scope\">ORAŠJE (022)</option><!-- end ngRepeat: eu in electoralUnitList --><option ng-selected=\"false\" ng-repeat=\"eu in electoralUnitList\" value=\"25\" ng-class=\"{inactiveEu: !eu.active}\" class=\"ng-binding ng-scope\">GRADAČAC (025)</option><!-- end ngRepeat: eu in electoralUnitList --><option ng-selected=\"false\" ng-repeat=\"eu in electoralUnitList\" value=\"27\" ng-class=\"{inactiveEu: !eu.active}\" class=\"ng-binding ng-scope\">BRČKO DISTRIKT BIH (OPCIJA FBIH) (027)</option><!-- end ngRepeat: eu in electoralUnitList --><option ng-selected=\"false\" ng-repeat=\"eu in electoralUnitList\" value=\"30\" ng-class=\"{inactiveEu: !eu.active}\" class=\"ng-binding ng-scope\">BOSANSKI PETROVAC (030)</option><!-- end ngRepeat: eu in electoralUnitList --><option ng-selected=\"false\" ng-repeat=\"eu in electoralUnitList\" value=\"32\" ng-class=\"{inactiveEu: !eu.active}\" class=\"ng-binding ng-scope\">SANSKI MOST (032)</option><!-- end ngRepeat: eu in electoralUnitList --><option ng-selected=\"false\" ng-repeat=\"eu in electoralUnitList\" value=\"36\" ng-class=\"{inactiveEu: !eu.active}\" class=\"ng-binding ng-scope\">DOBOJ ISTOK (036)</option><!-- end ngRepeat: eu in electoralUnitList --><option ng-selected=\"false\" ng-repeat=\"eu in electoralUnitList\" value=\"37\" ng-class=\"{inactiveEu: !eu.active}\" class=\"ng-binding ng-scope\">DOBOJ JUG (037)</option><!-- end ngRepeat: eu in electoralUnitList --><option ng-selected=\"false\" ng-repeat=\"eu in electoralUnitList\" value=\"39\" ng-class=\"{inactiveEu: !eu.active}\" class=\"ng-binding ng-scope\">TEŠANJ (039)</option><!-- end ngRepeat: eu in electoralUnitList --><option ng-selected=\"false\" ng-repeat=\"eu in electoralUnitList\" value=\"42\" ng-class=\"{inactiveEu: !eu.active}\" class=\"ng-binding ng-scope\">MAGLAJ (042)</option><!-- end ngRepeat: eu in electoralUnitList --><option ng-selected=\"false\" ng-repeat=\"eu in electoralUnitList\" value=\"44\" ng-class=\"{inactiveEu: !eu.active}\" class=\"ng-binding ng-scope\">GRAČANICA (044)</option><!-- end ngRepeat: eu in electoralUnitList --><option ng-selected=\"false\" ng-repeat=\"eu in electoralUnitList\" value=\"47\" ng-class=\"{inactiveEu: !eu.active}\" class=\"ng-binding ng-scope\">LUKAVAC (047)</option><!-- end ngRepeat: eu in electoralUnitList --><option ng-selected=\"false\" ng-repeat=\"eu in electoralUnitList\" value=\"49\" ng-class=\"{inactiveEu: !eu.active}\" class=\"ng-binding ng-scope\">SREBRENIK (049)</option><!-- end ngRepeat: eu in electoralUnitList --><option ng-selected=\"false\" ng-repeat=\"eu in electoralUnitList\" value=\"50\" ng-class=\"{inactiveEu: !eu.active}\" class=\"ng-binding ng-scope\">TUZLA (050)</option><!-- end ngRepeat: eu in electoralUnitList --><option ng-selected=\"false\" ng-repeat=\"eu in electoralUnitList\" value=\"52\" ng-class=\"{inactiveEu: !eu.active}\" class=\"ng-binding ng-scope\">ČELIĆ (052)</option><!-- end ngRepeat: eu in electoralUnitList --><option ng-selected=\"false\" ng-repeat=\"eu in electoralUnitList\" value=\"55\" ng-class=\"{inactiveEu: !eu.active}\" class=\"ng-binding ng-scope\">TEOČAK (055)</option><!-- end ngRepeat: eu in electoralUnitList --><option ng-selected=\"false\" ng-repeat=\"eu in electoralUnitList\" value=\"57\" ng-class=\"{inactiveEu: !eu.active}\" class=\"ng-binding ng-scope\">DRVAR (057)</option><!-- end ngRepeat: eu in electoralUnitList --><option ng-selected=\"false\" ng-repeat=\"eu in electoralUnitList\" value=\"59\" ng-class=\"{inactiveEu: !eu.active}\" class=\"ng-binding ng-scope\">KLJUČ (059)</option><!-- end ngRepeat: eu in electoralUnitList --><option ng-selected=\"false\" ng-repeat=\"eu in electoralUnitList\" value=\"65\" ng-class=\"{inactiveEu: !eu.active}\" class=\"ng-binding ng-scope\">JAJCE (065)</option><!-- end ngRepeat: eu in electoralUnitList --><option ng-selected=\"false\" ng-repeat=\"eu in electoralUnitList\" value=\"67\" ng-class=\"{inactiveEu: !eu.active}\" class=\"ng-binding ng-scope\">DOBRETIĆI (067)</option><!-- end ngRepeat: eu in electoralUnitList --><option ng-selected=\"false\" ng-repeat=\"eu in electoralUnitList\" value=\"75\" ng-class=\"{inactiveEu: !eu.active}\" class=\"ng-binding ng-scope\">ŽEPČE (075)</option><!-- end ngRepeat: eu in electoralUnitList --><option ng-selected=\"false\" ng-repeat=\"eu in electoralUnitList\" value=\"77\" ng-class=\"{inactiveEu: !eu.active}\" class=\"ng-binding ng-scope\">ZAVIDOVIĆI (077)</option><!-- end ngRepeat: eu in electoralUnitList --><option ng-selected=\"false\" ng-repeat=\"eu in electoralUnitList\" value=\"78\" ng-class=\"{inactiveEu: !eu.active}\" class=\"ng-binding ng-scope\">BANOVIĆI (078)</option><!-- end ngRepeat: eu in electoralUnitList --><option ng-selected=\"false\" ng-repeat=\"eu in electoralUnitList\" value=\"79\" ng-class=\"{inactiveEu: !eu.active}\" class=\"ng-binding ng-scope\">ŽIVINICE (079)</option><!-- end ngRepeat: eu in electoralUnitList --><option ng-selected=\"false\" ng-repeat=\"eu in electoralUnitList\" value=\"80\" ng-class=\"{inactiveEu: !eu.active}\" class=\"ng-binding ng-scope\">KALESIJA (080)</option><!-- end ngRepeat: eu in electoralUnitList --><option ng-selected=\"false\" ng-repeat=\"eu in electoralUnitList\" value=\"82\" ng-class=\"{inactiveEu: !eu.active}\" class=\"ng-binding ng-scope\">SAPNA (082)</option><!-- end ngRepeat: eu in electoralUnitList --><option ng-selected=\"false\" ng-repeat=\"eu in electoralUnitList\" value=\"84\" ng-class=\"{inactiveEu: !eu.active}\" class=\"ng-binding ng-scope\">BOSANSKO GRAHOVO (084)</option><!-- end ngRepeat: eu in electoralUnitList --><option ng-selected=\"false\" ng-repeat=\"eu in electoralUnitList\" value=\"85\" ng-class=\"{inactiveEu: !eu.active}\" class=\"ng-binding ng-scope\">GLAMOČ (085)</option><!-- end ngRepeat: eu in electoralUnitList --><option ng-selected=\"false\" ng-repeat=\"eu in electoralUnitList\" value=\"89\" ng-class=\"{inactiveEu: !eu.active}\" class=\"ng-binding ng-scope\">DONJI VAKUF (089)</option><!-- end ngRepeat: eu in electoralUnitList --><option ng-selected=\"false\" ng-repeat=\"eu in electoralUnitList\" value=\"91\" ng-class=\"{inactiveEu: !eu.active}\" class=\"ng-binding ng-scope\">TRAVNIK (091)</option><!-- end ngRepeat: eu in electoralUnitList --><option ng-selected=\"false\" ng-repeat=\"eu in electoralUnitList\" value=\"93\" ng-class=\"{inactiveEu: !eu.active}\" class=\"ng-binding ng-scope\">ZENICA (093)</option><!-- end ngRepeat: eu in electoralUnitList --><option ng-selected=\"false\" ng-repeat=\"eu in electoralUnitList\" value=\"94\" ng-class=\"{inactiveEu: !eu.active}\" class=\"ng-binding ng-scope\">KAKANJ (094)</option><!-- end ngRepeat: eu in electoralUnitList --><option ng-selected=\"false\" ng-repeat=\"eu in electoralUnitList\" value=\"95\" ng-class=\"{inactiveEu: !eu.active}\" class=\"ng-binding ng-scope\">VAREŠ (095)</option><!-- end ngRepeat: eu in electoralUnitList --><option ng-selected=\"false\" ng-repeat=\"eu in electoralUnitList\" value=\"96\" ng-class=\"{inactiveEu: !eu.active}\" class=\"ng-binding ng-scope\">OLOVO (096)</option><!-- end ngRepeat: eu in electoralUnitList --><option ng-selected=\"false\" ng-repeat=\"eu in electoralUnitList\" value=\"98\" ng-class=\"{inactiveEu: !eu.active}\" class=\"ng-binding ng-scope\">KLADANJ (098)</option><!-- end ngRepeat: eu in electoralUnitList --><option ng-selected=\"false\" ng-repeat=\"eu in electoralUnitList\" value=\"106\" ng-class=\"{inactiveEu: !eu.active}\" class=\"ng-binding ng-scope\">LIVNO (106)</option><!-- end ngRepeat: eu in electoralUnitList --><option ng-selected=\"false\" ng-repeat=\"eu in electoralUnitList\" value=\"107\" ng-class=\"{inactiveEu: !eu.active}\" class=\"ng-binding ng-scope\">KUPRES (107)</option><!-- end ngRepeat: eu in electoralUnitList --><option ng-selected=\"false\" ng-repeat=\"eu in electoralUnitList\" value=\"109\" ng-class=\"{inactiveEu: !eu.active}\" class=\"ng-binding ng-scope\">BUGOJNO (109)</option><!-- end ngRepeat: eu in electoralUnitList --><option ng-selected=\"false\" ng-repeat=\"eu in electoralUnitList\" value=\"110\" ng-class=\"{inactiveEu: !eu.active}\" class=\"ng-binding ng-scope\">GORNJI VAKUF - USKOPLJE (110)</option><!-- end ngRepeat: eu in electoralUnitList --><option ng-selected=\"false\" ng-repeat=\"eu in electoralUnitList\" value=\"111\" ng-class=\"{inactiveEu: !eu.active}\" class=\"ng-binding ng-scope\">NOVI TRAVNIK (111)</option><!-- end ngRepeat: eu in electoralUnitList --><option ng-selected=\"false\" ng-repeat=\"eu in electoralUnitList\" value=\"112\" ng-class=\"{inactiveEu: !eu.active}\" class=\"ng-binding ng-scope\">VITEZ (112)</option><!-- end ngRepeat: eu in electoralUnitList --><option ng-selected=\"false\" ng-repeat=\"eu in electoralUnitList\" value=\"113\" ng-class=\"{inactiveEu: !eu.active}\" class=\"ng-binding ng-scope\">BUSOVAČA (113)</option><!-- end ngRepeat: eu in electoralUnitList --><option ng-selected=\"false\" ng-repeat=\"eu in electoralUnitList\" value=\"114\" ng-class=\"{inactiveEu: !eu.active}\" class=\"ng-binding ng-scope\">FOJNICA (114)</option><!-- end ngRepeat: eu in electoralUnitList --><option ng-selected=\"false\" ng-repeat=\"eu in electoralUnitList\" value=\"115\" ng-class=\"{inactiveEu: !eu.active}\" class=\"ng-binding ng-scope\">KISELJAK (115)</option><!-- end ngRepeat: eu in electoralUnitList --><option ng-selected=\"false\" ng-repeat=\"eu in electoralUnitList\" value=\"116\" ng-class=\"{inactiveEu: !eu.active}\" class=\"ng-binding ng-scope\">VISOKO (116)</option><!-- end ngRepeat: eu in electoralUnitList --><option ng-selected=\"false\" ng-repeat=\"eu in electoralUnitList\" value=\"117\" ng-class=\"{inactiveEu: !eu.active}\" class=\"ng-binding ng-scope\">BREZA (117)</option><!-- end ngRepeat: eu in electoralUnitList --><option ng-selected=\"false\" ng-repeat=\"eu in electoralUnitList\" value=\"118\" ng-class=\"{inactiveEu: !eu.active}\" class=\"ng-binding ng-scope\">ILIJAŠ (118)</option><!-- end ngRepeat: eu in electoralUnitList --><option ng-selected=\"false\" ng-repeat=\"eu in electoralUnitList\" value=\"124\" ng-class=\"{inactiveEu: !eu.active}\" class=\"ng-binding ng-scope\">TOMISLAVGRAD (124)</option><!-- end ngRepeat: eu in electoralUnitList --><option ng-selected=\"false\" ng-repeat=\"eu in electoralUnitList\" value=\"125\" ng-class=\"{inactiveEu: !eu.active}\" class=\"ng-binding ng-scope\">PROZOR - RAMA (125)</option><!-- end ngRepeat: eu in electoralUnitList --><option ng-selected=\"false\" ng-repeat=\"eu in electoralUnitList\" value=\"126\" ng-class=\"{inactiveEu: !eu.active}\" class=\"ng-binding ng-scope\">JABLANICA (126)</option><!-- end ngRepeat: eu in electoralUnitList --><option ng-selected=\"false\" ng-repeat=\"eu in electoralUnitList\" value=\"127\" ng-class=\"{inactiveEu: !eu.active}\" class=\"ng-binding ng-scope\">KONJIC (127)</option><!-- end ngRepeat: eu in electoralUnitList --><option ng-selected=\"false\" ng-repeat=\"eu in electoralUnitList\" value=\"129\" ng-class=\"{inactiveEu: !eu.active}\" class=\"ng-binding ng-scope\">KREŠEVO (129)</option><!-- end ngRepeat: eu in electoralUnitList --><option ng-selected=\"false\" ng-repeat=\"eu in electoralUnitList\" value=\"130\" ng-class=\"{inactiveEu: !eu.active}\" class=\"ng-binding ng-scope\">HADŽIĆI (130)</option><!-- end ngRepeat: eu in electoralUnitList --><option ng-selected=\"false\" ng-repeat=\"eu in electoralUnitList\" value=\"131\" ng-class=\"{inactiveEu: !eu.active}\" class=\"ng-binding ng-scope\">ILIDŽA (131)</option><!-- end ngRepeat: eu in electoralUnitList --><option ng-selected=\"false\" ng-repeat=\"eu in electoralUnitList\" value=\"133\" ng-class=\"{inactiveEu: !eu.active}\" class=\"ng-binding ng-scope\">NOVI GRAD SARAJEVO (133)</option><!-- end ngRepeat: eu in electoralUnitList --><option ng-selected=\"false\" ng-repeat=\"eu in electoralUnitList\" value=\"135\" ng-class=\"{inactiveEu: !eu.active}\" class=\"ng-binding ng-scope\">VOGOŠĆA (135)</option><!-- end ngRepeat: eu in electoralUnitList --><option ng-selected=\"false\" ng-repeat=\"eu in electoralUnitList\" value=\"136\" ng-class=\"{inactiveEu: !eu.active}\" class=\"ng-binding ng-scope\">CENTAR SARAJEVO (136)</option><!-- end ngRepeat: eu in electoralUnitList --><option ng-selected=\"false\" ng-repeat=\"eu in electoralUnitList\" value=\"137\" ng-class=\"{inactiveEu: !eu.active}\" class=\"ng-binding ng-scope\">STARI GRAD SARAJEVO (137)</option><!-- end ngRepeat: eu in electoralUnitList --><option ng-selected=\"false\" ng-repeat=\"eu in electoralUnitList\" value=\"139\" ng-class=\"{inactiveEu: !eu.active}\" class=\"ng-binding ng-scope\">NOVO SARAJEVO (139)</option><!-- end ngRepeat: eu in electoralUnitList --><option ng-selected=\"false\" ng-repeat=\"eu in electoralUnitList\" value=\"141\" ng-class=\"{inactiveEu: !eu.active}\" class=\"ng-binding ng-scope\">TRNOVO (FBIH) (141)</option><!-- end ngRepeat: eu in electoralUnitList --><option ng-selected=\"false\" ng-repeat=\"eu in electoralUnitList\" value=\"143\" ng-class=\"{inactiveEu: !eu.active}\" class=\"ng-binding ng-scope\">PALE (FBIH) (143)</option><!-- end ngRepeat: eu in electoralUnitList --><option ng-selected=\"false\" ng-repeat=\"eu in electoralUnitList\" value=\"148\" ng-class=\"{inactiveEu: !eu.active}\" class=\"ng-binding ng-scope\">POSUŠJE (148)</option><!-- end ngRepeat: eu in electoralUnitList --><option ng-selected=\"false\" ng-repeat=\"eu in electoralUnitList\" value=\"149\" ng-class=\"{inactiveEu: !eu.active}\" class=\"ng-binding ng-scope\">GRUDE (149)</option><!-- end ngRepeat: eu in electoralUnitList --><option ng-selected=\"false\" ng-repeat=\"eu in electoralUnitList\" value=\"150\" ng-class=\"{inactiveEu: !eu.active}\" class=\"ng-binding ng-scope\">ŠIROKI BRIJEG (150)</option><!-- end ngRepeat: eu in electoralUnitList --><option ng-selected=\"false\" ng-repeat=\"eu in electoralUnitList\" value=\"165\" ng-class=\"{inactiveEu: !eu.active}\" class=\"ng-binding ng-scope\">FOČA (FBIH) (165)</option><!-- end ngRepeat: eu in electoralUnitList --><option ng-selected=\"false\" ng-repeat=\"eu in electoralUnitList\" value=\"167\" ng-class=\"{inactiveEu: !eu.active}\" class=\"ng-binding ng-scope\">GORAŽDE (167)</option><!-- end ngRepeat: eu in electoralUnitList --><option ng-selected=\"false\" ng-repeat=\"eu in electoralUnitList\" value=\"171\" ng-class=\"{inactiveEu: !eu.active}\" class=\"ng-binding ng-scope\">LJUBUŠKI (171)</option><!-- end ngRepeat: eu in electoralUnitList --><option ng-selected=\"false\" ng-repeat=\"eu in electoralUnitList\" value=\"172\" ng-class=\"{inactiveEu: !eu.active}\" class=\"ng-binding ng-scope\">ČITLUK (172)</option><!-- end ngRepeat: eu in electoralUnitList --><option ng-selected=\"false\" ng-repeat=\"eu in electoralUnitList\" value=\"173\" ng-class=\"{inactiveEu: !eu.active}\" class=\"ng-binding ng-scope\">ČAPLJINA (173)</option><!-- end ngRepeat: eu in electoralUnitList --><option ng-selected=\"false\" ng-repeat=\"eu in electoralUnitList\" value=\"174\" ng-class=\"{inactiveEu: !eu.active}\" class=\"ng-binding ng-scope\">NEUM (174)</option><!-- end ngRepeat: eu in electoralUnitList --><option ng-selected=\"false\" ng-repeat=\"eu in electoralUnitList\" value=\"176\" ng-class=\"{inactiveEu: !eu.active}\" class=\"ng-binding ng-scope\">STOLAC (176)</option><!-- end ngRepeat: eu in electoralUnitList --><option ng-selected=\"false\" ng-repeat=\"eu in electoralUnitList\" value=\"181\" ng-class=\"{inactiveEu: !eu.active}\" class=\"ng-binding ng-scope\">RAVNO (181)</option><!-- end ngRepeat: eu in electoralUnitList --><option ng-selected=\"false\" ng-repeat=\"eu in electoralUnitList\" value=\"183\" ng-class=\"{inactiveEu: !eu.active}\" class=\"ng-binding ng-scope\">USORA (183)</option><!-- end ngRepeat: eu in electoralUnitList --><option ng-selected=\"false\" ng-repeat=\"eu in electoralUnitList\" value=\"199\" ng-class=\"{inactiveEu: !eu.active}\" class=\"ng-binding ng-scope\">GRAD MOSTAR (199)</option><!-- end ngRepeat: eu in electoralUnitList -->\n",
    "                    </select>\n",
    "\"\"\""
   ]
  },
  {
   "cell_type": "code",
   "execution_count": 5,
   "id": "807fb545-aa0d-4b23-b649-fd405940d502",
   "metadata": {},
   "outputs": [],
   "source": [
    "soup = bs.BeautifulSoup(scroll_down_html)\n",
    "municipality_to_code = {\n",
    "    option.text.split(\"(\")[0].strip().lower() : int(option.get(\"value\"))\n",
    "    for option in soup.find_all(\"option\")\n",
    "    if int(option.get(\"value\")) != 0\n",
    "}"
   ]
  },
  {
   "cell_type": "markdown",
   "id": "a4b75db3-40f3-4ee1-b0c3-99af489e48c8",
   "metadata": {},
   "source": [
    "I had some trouble with the websites having different ways of naming the municipalites on each different election so I had an LLM make this for me to have a standardized way of names to codes. "
   ]
  },
  {
   "cell_type": "code",
   "execution_count": 6,
   "id": "57808e2c-5d96-45d6-adc8-30e673975d96",
   "metadata": {},
   "outputs": [],
   "source": [
    "utf8_ascii_municips = {\n",
    "    \"banovići\": \"banovici\",\n",
    "    \"bihać\": \"bihac\",\n",
    "    \"bosanska krupa\": \"bosanska krupa\",\n",
    "    \"bosanski petrovac\": \"bosanski petrovac\",\n",
    "    \"bosansko grahovo\": \"bosansko grahovo\",\n",
    "    \"breza\": \"breza\",\n",
    "    \"brčko distrikt bih\": \"brcko distrikt bih\",\n",
    "    \"bugojno\": \"bugojno\",\n",
    "    \"busovača\": \"busovaca\",\n",
    "    \"bužim\": \"buzim\",\n",
    "    \"cazin\": \"cazin\",\n",
    "    \"centar sarajevo\": \"centar sarajevo\",\n",
    "    \"doboj istok\": \"doboj istok\",\n",
    "    \"doboj jug\": \"doboj jug\",\n",
    "    \"dobretići\": \"dobretici\",\n",
    "    \"domaljevac - šamac\": \"domaljevac samac\",\n",
    "    \"donji vakuf\": \"donji vakuf\",\n",
    "    \"drvar\": \"drvar\",\n",
    "    \"fojnica\": \"fojnica\",\n",
    "    \"foča\": \"foca\",\n",
    "    \"glamoč\": \"glamoc\",\n",
    "    \"goražde\": \"gorazde\",\n",
    "    \"gornji vakuf - uskoplje\": \"gornji vakuf uskoplje\",\n",
    "    \"grad mostar\": \"grad mostar\",\n",
    "    \"gradačac\": \"gradacac\",\n",
    "    \"gračanica\": \"gracanica\",\n",
    "    \"grude\": \"grude\",\n",
    "    \"hadžići\": \"hadzici\",\n",
    "    \"ilidža\": \"ilidza\",\n",
    "    \"ilijaš\": \"ilijas\",\n",
    "    \"jablanica\": \"jablanica\",\n",
    "    \"jajce\": \"jajce\",\n",
    "    \"kakanj\": \"kakanj\",\n",
    "    \"kalesija\": \"kalesija\",\n",
    "    \"kiseljak\": \"kiseljak\",\n",
    "    \"kladanj\": \"kladanj\",\n",
    "    \"ključ\": \"kljuc\",\n",
    "    \"konjic\": \"konjic\",\n",
    "    \"kreševo\": \"kresevo\",\n",
    "    \"kupres\": \"kupres\",\n",
    "    \"livno\": \"livno\",\n",
    "    \"ljubuški\": \"ljubuski\",\n",
    "    \"lukavac\": \"lukavac\",\n",
    "    \"maglaj\": \"maglaj\",\n",
    "    \"neum\": \"neum\",\n",
    "    \"novi grad sarajevo\": \"novi grad sarajevo\",\n",
    "    \"novi travnik\": \"novi travnik\",\n",
    "    \"novo sarajevo\": \"novo sarajevo\",\n",
    "    \"odžak\": \"odzak\",\n",
    "    \"olovo\": \"olovo\",\n",
    "    \"orašje\": \"orasje\",\n",
    "    \"pale\": \"pale\",\n",
    "    \"posušje\": \"posusje\",\n",
    "    \"prozor - rama\": \"prozor rama\",\n",
    "    \"ravno\": \"ravno\",\n",
    "    \"sanski most\": \"sanski most\",\n",
    "    \"sapna\": \"sapna\",\n",
    "    \"srebrenik\": \"srebrenik\",\n",
    "    \"stari grad sarajevo\": \"stari grad sarajevo\",\n",
    "    \"stolac\": \"stolac\",\n",
    "    \"teočak\": \"teocak\",\n",
    "    \"tešanj\": \"tesanj\",\n",
    "    \"tomislavgrad\": \"tomislavgrad\",\n",
    "    \"travnik\": \"travnik\",\n",
    "    \"trnovo\": \"trnovo\",\n",
    "    \"tuzla\": \"tuzla\",\n",
    "    \"usora\": \"usora\",\n",
    "    \"vareš\": \"vares\",\n",
    "    \"velika kladuša\": \"velika kladusa\",\n",
    "    \"visoko\": \"visoko\",\n",
    "    \"vitez\": \"vitez\",\n",
    "    \"vogošća\": \"vogosca\",\n",
    "    \"zavidovići\": \"zavidovici\",\n",
    "    \"zenica\": \"zenica\",\n",
    "    \"čapljina\": \"capljina\",\n",
    "    \"čelić\": \"celic\",\n",
    "    \"čitluk\": \"citluk\",\n",
    "    \"široki brijeg\": \"siroki brijeg\",\n",
    "    \"žepče\": \"zepce\",\n",
    "    \"živinice\": \"zivinice\"\n",
    "}"
   ]
  },
  {
   "cell_type": "markdown",
   "id": "a806927e-b683-4ab2-904f-558fb8cca311",
   "metadata": {},
   "source": [
    "To go from old municipality names to standardized ones."
   ]
  },
  {
   "cell_type": "code",
   "execution_count": 7,
   "id": "2215f467-a360-4321-8121-db1465bdf83f",
   "metadata": {},
   "outputs": [],
   "source": [
    "m_to_c = { \n",
    "    utf8_ascii_municips[municipality] : municipality_to_code[municipality] \n",
    "    for municipality in municipality_to_code.keys()\n",
    "}"
   ]
  },
  {
   "cell_type": "markdown",
   "id": "2056f3be-e5f1-4cc8-a7c6-4a55b13a8df4",
   "metadata": {},
   "source": [
    "Now to insert the municipalites to the year."
   ]
  },
  {
   "cell_type": "code",
   "execution_count": 8,
   "id": "4c6e50ea-afc9-4c21-b303-9e222180c0f3",
   "metadata": {},
   "outputs": [
    {
     "name": "stdout",
     "output_type": "stream",
     "text": [
      "Successfully inserted 80 municipalites.\n"
     ]
    }
   ],
   "source": [
    "municips = list(m_to_c)\n",
    "insert_municipalities(2022, municips)"
   ]
  },
  {
   "cell_type": "markdown",
   "id": "bd155a2b-128b-437e-9e22-fd8b0a2b5418",
   "metadata": {},
   "source": [
    "### 3: Insert into Candidates"
   ]
  },
  {
   "cell_type": "markdown",
   "id": "d6c3054c-f5d3-4925-947c-3fa801eaf784",
   "metadata": {},
   "source": [
    "Since this data is all on one page and to avoid making my scraping script more complicated I will do this by hand."
   ]
  },
  {
   "cell_type": "code",
   "execution_count": 9,
   "id": "0879fab9-1fa2-442c-a287-fd78cf9bb7a0",
   "metadata": {},
   "outputs": [
    {
     "name": "stdout",
     "output_type": "stream",
     "text": [
      "Successfully inserted 5 candidates.\n"
     ]
    }
   ],
   "source": [
    "candidates = [\n",
    "    (\"DENIS BEĆIROVIĆ - UJEDINJENI ZA SLOBODNU BOSNU I HERCEGOVINU\", \"B\"),\n",
    "    (\"BAKIR IZETBEGOVIĆ - SDA - STRANKA DEMOKRATSKE AKCIJE\", \"B\"),\n",
    "    (\"MIRSAD HADŽIKADIĆ - PLATFORMA ZA PROGRES\", \"B\"),\n",
    "    (\"ŽELJKO KOMŠIĆ - DEMOKRATSKA FRONTA - DF\", \"C\"),\n",
    "    (\"BORJANA KRIŠTO - HDZ BIH-HRVATSKA DEMOKRATSKA ZAJEDNICA BOSNE I HERCEGOVINE\", \"C\"),\n",
    "]\n",
    "insert_candidates(candidates)"
   ]
  },
  {
   "cell_type": "markdown",
   "id": "9b25c0b4-8c71-4d05-bfcb-aec8546f66a9",
   "metadata": {},
   "source": [
    "### 4: Insert election results into CandidateResults"
   ]
  },
  {
   "cell_type": "code",
   "execution_count": 10,
   "id": "c2958743-d272-4c1f-abfb-2120cbbfd6f3",
   "metadata": {},
   "outputs": [
    {
     "name": "stdout",
     "output_type": "stream",
     "text": [
      "Successfully inserted 5 candidate results for velika kladusa.\n",
      "Successfully inserted 5 candidate results for cazin.\n",
      "Successfully inserted 5 candidate results for bihac.\n",
      "Successfully inserted 5 candidate results for bosanska krupa.\n",
      "Successfully inserted 5 candidate results for buzim.\n",
      "Successfully inserted 5 candidate results for odzak.\n",
      "Successfully inserted 5 candidate results for domaljevac samac.\n",
      "Successfully inserted 5 candidate results for orasje.\n",
      "Successfully inserted 5 candidate results for gradacac.\n",
      "Successfully inserted 5 candidate results for brcko distrikt bih.\n",
      "Successfully inserted 5 candidate results for bosanski petrovac.\n",
      "Successfully inserted 5 candidate results for sanski most.\n",
      "Successfully inserted 5 candidate results for doboj istok.\n",
      "Successfully inserted 5 candidate results for doboj jug.\n",
      "Successfully inserted 5 candidate results for tesanj.\n",
      "Successfully inserted 5 candidate results for maglaj.\n",
      "Successfully inserted 5 candidate results for gracanica.\n",
      "Successfully inserted 5 candidate results for lukavac.\n",
      "Successfully inserted 5 candidate results for srebrenik.\n",
      "Successfully inserted 5 candidate results for tuzla.\n",
      "Successfully inserted 5 candidate results for celic.\n",
      "Successfully inserted 5 candidate results for teocak.\n",
      "Successfully inserted 5 candidate results for drvar.\n",
      "Successfully inserted 5 candidate results for kljuc.\n",
      "Successfully inserted 5 candidate results for jajce.\n",
      "Successfully inserted 5 candidate results for dobretici.\n",
      "Successfully inserted 5 candidate results for zepce.\n",
      "Successfully inserted 5 candidate results for zavidovici.\n",
      "Successfully inserted 5 candidate results for banovici.\n",
      "Successfully inserted 5 candidate results for zivinice.\n",
      "Successfully inserted 5 candidate results for kalesija.\n",
      "Successfully inserted 5 candidate results for sapna.\n",
      "Successfully inserted 5 candidate results for bosansko grahovo.\n",
      "Successfully inserted 5 candidate results for glamoc.\n",
      "Successfully inserted 5 candidate results for donji vakuf.\n",
      "Successfully inserted 5 candidate results for travnik.\n",
      "Successfully inserted 5 candidate results for zenica.\n",
      "Successfully inserted 5 candidate results for kakanj.\n",
      "Successfully inserted 5 candidate results for vares.\n",
      "Successfully inserted 5 candidate results for olovo.\n",
      "Successfully inserted 5 candidate results for kladanj.\n",
      "Successfully inserted 5 candidate results for livno.\n",
      "Successfully inserted 5 candidate results for kupres.\n",
      "Successfully inserted 5 candidate results for bugojno.\n",
      "Successfully inserted 5 candidate results for gornji vakuf uskoplje.\n",
      "Successfully inserted 5 candidate results for novi travnik.\n",
      "Successfully inserted 5 candidate results for vitez.\n",
      "Successfully inserted 5 candidate results for busovaca.\n",
      "Successfully inserted 5 candidate results for fojnica.\n",
      "Successfully inserted 5 candidate results for kiseljak.\n",
      "Successfully inserted 5 candidate results for visoko.\n",
      "Successfully inserted 5 candidate results for breza.\n",
      "Successfully inserted 5 candidate results for ilijas.\n",
      "Successfully inserted 5 candidate results for tomislavgrad.\n",
      "Successfully inserted 5 candidate results for prozor rama.\n",
      "Successfully inserted 5 candidate results for jablanica.\n",
      "Successfully inserted 5 candidate results for konjic.\n",
      "Successfully inserted 5 candidate results for kresevo.\n",
      "Successfully inserted 5 candidate results for hadzici.\n",
      "Successfully inserted 5 candidate results for ilidza.\n",
      "Successfully inserted 5 candidate results for novi grad sarajevo.\n",
      "Successfully inserted 5 candidate results for vogosca.\n",
      "Successfully inserted 5 candidate results for centar sarajevo.\n",
      "Successfully inserted 5 candidate results for stari grad sarajevo.\n",
      "Successfully inserted 5 candidate results for novo sarajevo.\n",
      "Successfully inserted 5 candidate results for trnovo.\n",
      "Successfully inserted 5 candidate results for pale.\n",
      "Successfully inserted 5 candidate results for posusje.\n",
      "Successfully inserted 5 candidate results for grude.\n",
      "Successfully inserted 5 candidate results for siroki brijeg.\n",
      "Successfully inserted 5 candidate results for foca.\n",
      "Successfully inserted 5 candidate results for gorazde.\n",
      "Successfully inserted 5 candidate results for ljubuski.\n",
      "Successfully inserted 5 candidate results for citluk.\n",
      "Successfully inserted 5 candidate results for capljina.\n",
      "Successfully inserted 5 candidate results for neum.\n",
      "Successfully inserted 5 candidate results for stolac.\n",
      "Successfully inserted 5 candidate results for ravno.\n",
      "Successfully inserted 5 candidate results for usora.\n",
      "Successfully inserted 5 candidate results for grad mostar.\n"
     ]
    }
   ],
   "source": [
    "year_key = \"WebResult_2022GENT1_2022_4_20_14_10_43\"\n",
    "modern_scrape(2022, year_key, m_to_c)"
   ]
  },
  {
   "cell_type": "markdown",
   "id": "ef15b851-5bd4-4b54-aa40-abcbbc170771",
   "metadata": {},
   "source": [
    "### 5: Sanity Check"
   ]
  },
  {
   "cell_type": "code",
   "execution_count": 11,
   "id": "f1a2b7c0-1d14-4c6d-84e4-2a7aaa4b7b7b",
   "metadata": {},
   "outputs": [],
   "source": [
    "try:\n",
    "    conn = sqlite3.connect(SAVE_DIR + \"political_data.db\")\n",
    "\n",
    "    sql_query = \"\"\"\n",
    "        SELECT\n",
    "            m.name AS municipality_name,\n",
    "            y.year,\n",
    "            c.name,\n",
    "            c.ethnicity,\n",
    "            cr.votes\n",
    "        FROM \n",
    "            Municipalities as m\n",
    "        JOIN\n",
    "            Years AS y ON m.year_id = y.year_id\n",
    "        JOIN\n",
    "            CandidateResults AS cr ON m.municipality_id = cr.municipality_id\n",
    "        JOIN\n",
    "            Candidates AS c ON cr.candidate_id = c.candidate_id\n",
    "        WHERE\n",
    "            y.year = 2022\n",
    "    \"\"\"\n",
    "\n",
    "    df = pd.read_sql_query(sql_query, conn)\n",
    "except sqlite3.Error as e:\n",
    "    print(f\"An error occurred: {e}\")\n",
    "finally:\n",
    "    conn.close()"
   ]
  },
  {
   "cell_type": "code",
   "execution_count": 12,
   "id": "23b090be-224c-4d62-80f7-6f5b83379a03",
   "metadata": {},
   "outputs": [
    {
     "data": {
      "text/html": [
       "<div>\n",
       "<style scoped>\n",
       "    .dataframe tbody tr th:only-of-type {\n",
       "        vertical-align: middle;\n",
       "    }\n",
       "\n",
       "    .dataframe tbody tr th {\n",
       "        vertical-align: top;\n",
       "    }\n",
       "\n",
       "    .dataframe thead th {\n",
       "        text-align: right;\n",
       "    }\n",
       "</style>\n",
       "<table border=\"1\" class=\"dataframe\">\n",
       "  <thead>\n",
       "    <tr style=\"text-align: right;\">\n",
       "      <th></th>\n",
       "      <th>municipality_name</th>\n",
       "      <th>year</th>\n",
       "      <th>name</th>\n",
       "      <th>ethnicity</th>\n",
       "      <th>votes</th>\n",
       "    </tr>\n",
       "  </thead>\n",
       "  <tbody>\n",
       "    <tr>\n",
       "      <th>0</th>\n",
       "      <td>velika kladusa</td>\n",
       "      <td>2022</td>\n",
       "      <td>DENIS BEĆIROVIĆ - UJEDINJENI ZA SLOBODNU BOSNU...</td>\n",
       "      <td>B</td>\n",
       "      <td>4662</td>\n",
       "    </tr>\n",
       "    <tr>\n",
       "      <th>1</th>\n",
       "      <td>velika kladusa</td>\n",
       "      <td>2022</td>\n",
       "      <td>BAKIR IZETBEGOVIĆ - SDA - STRANKA DEMOKRATSKE ...</td>\n",
       "      <td>B</td>\n",
       "      <td>3039</td>\n",
       "    </tr>\n",
       "    <tr>\n",
       "      <th>2</th>\n",
       "      <td>velika kladusa</td>\n",
       "      <td>2022</td>\n",
       "      <td>ŽELJKO KOMŠIĆ - DEMOKRATSKA FRONTA - DF</td>\n",
       "      <td>C</td>\n",
       "      <td>2999</td>\n",
       "    </tr>\n",
       "    <tr>\n",
       "      <th>3</th>\n",
       "      <td>velika kladusa</td>\n",
       "      <td>2022</td>\n",
       "      <td>MIRSAD HADŽIKADIĆ - PLATFORMA ZA PROGRES</td>\n",
       "      <td>B</td>\n",
       "      <td>690</td>\n",
       "    </tr>\n",
       "    <tr>\n",
       "      <th>4</th>\n",
       "      <td>velika kladusa</td>\n",
       "      <td>2022</td>\n",
       "      <td>BORJANA KRIŠTO - HDZ BIH-HRVATSKA DEMOKRATSKA ...</td>\n",
       "      <td>C</td>\n",
       "      <td>190</td>\n",
       "    </tr>\n",
       "    <tr>\n",
       "      <th>...</th>\n",
       "      <td>...</td>\n",
       "      <td>...</td>\n",
       "      <td>...</td>\n",
       "      <td>...</td>\n",
       "      <td>...</td>\n",
       "    </tr>\n",
       "    <tr>\n",
       "      <th>395</th>\n",
       "      <td>grad mostar</td>\n",
       "      <td>2022</td>\n",
       "      <td>BORJANA KRIŠTO - HDZ BIH-HRVATSKA DEMOKRATSKA ...</td>\n",
       "      <td>C</td>\n",
       "      <td>21651</td>\n",
       "    </tr>\n",
       "    <tr>\n",
       "      <th>396</th>\n",
       "      <td>grad mostar</td>\n",
       "      <td>2022</td>\n",
       "      <td>ŽELJKO KOMŠIĆ - DEMOKRATSKA FRONTA - DF</td>\n",
       "      <td>C</td>\n",
       "      <td>9332</td>\n",
       "    </tr>\n",
       "    <tr>\n",
       "      <th>397</th>\n",
       "      <td>grad mostar</td>\n",
       "      <td>2022</td>\n",
       "      <td>DENIS BEĆIROVIĆ - UJEDINJENI ZA SLOBODNU BOSNU...</td>\n",
       "      <td>B</td>\n",
       "      <td>8822</td>\n",
       "    </tr>\n",
       "    <tr>\n",
       "      <th>398</th>\n",
       "      <td>grad mostar</td>\n",
       "      <td>2022</td>\n",
       "      <td>BAKIR IZETBEGOVIĆ - SDA - STRANKA DEMOKRATSKE ...</td>\n",
       "      <td>B</td>\n",
       "      <td>6157</td>\n",
       "    </tr>\n",
       "    <tr>\n",
       "      <th>399</th>\n",
       "      <td>grad mostar</td>\n",
       "      <td>2022</td>\n",
       "      <td>MIRSAD HADŽIKADIĆ - PLATFORMA ZA PROGRES</td>\n",
       "      <td>B</td>\n",
       "      <td>822</td>\n",
       "    </tr>\n",
       "  </tbody>\n",
       "</table>\n",
       "<p>400 rows × 5 columns</p>\n",
       "</div>"
      ],
      "text/plain": [
       "    municipality_name  year  \\\n",
       "0      velika kladusa  2022   \n",
       "1      velika kladusa  2022   \n",
       "2      velika kladusa  2022   \n",
       "3      velika kladusa  2022   \n",
       "4      velika kladusa  2022   \n",
       "..                ...   ...   \n",
       "395       grad mostar  2022   \n",
       "396       grad mostar  2022   \n",
       "397       grad mostar  2022   \n",
       "398       grad mostar  2022   \n",
       "399       grad mostar  2022   \n",
       "\n",
       "                                                  name ethnicity  votes  \n",
       "0    DENIS BEĆIROVIĆ - UJEDINJENI ZA SLOBODNU BOSNU...         B   4662  \n",
       "1    BAKIR IZETBEGOVIĆ - SDA - STRANKA DEMOKRATSKE ...         B   3039  \n",
       "2              ŽELJKO KOMŠIĆ - DEMOKRATSKA FRONTA - DF         C   2999  \n",
       "3             MIRSAD HADŽIKADIĆ - PLATFORMA ZA PROGRES         B    690  \n",
       "4    BORJANA KRIŠTO - HDZ BIH-HRVATSKA DEMOKRATSKA ...         C    190  \n",
       "..                                                 ...       ...    ...  \n",
       "395  BORJANA KRIŠTO - HDZ BIH-HRVATSKA DEMOKRATSKA ...         C  21651  \n",
       "396            ŽELJKO KOMŠIĆ - DEMOKRATSKA FRONTA - DF         C   9332  \n",
       "397  DENIS BEĆIROVIĆ - UJEDINJENI ZA SLOBODNU BOSNU...         B   8822  \n",
       "398  BAKIR IZETBEGOVIĆ - SDA - STRANKA DEMOKRATSKE ...         B   6157  \n",
       "399           MIRSAD HADŽIKADIĆ - PLATFORMA ZA PROGRES         B    822  \n",
       "\n",
       "[400 rows x 5 columns]"
      ]
     },
     "execution_count": 12,
     "metadata": {},
     "output_type": "execute_result"
    }
   ],
   "source": [
    "df"
   ]
  },
  {
   "cell_type": "markdown",
   "id": "0d5376d7-715d-478c-ae7b-10cb8745395e",
   "metadata": {},
   "source": [
    "The above checks out!"
   ]
  },
  {
   "cell_type": "markdown",
   "id": "8a944201-01c2-4a19-8b7b-60eb3455f658",
   "metadata": {},
   "source": [
    "## 2018"
   ]
  },
  {
   "cell_type": "markdown",
   "id": "d76fd975-cc4f-4797-bb78-017ce9e0c1e6",
   "metadata": {},
   "source": [
    "### 1: Insert into Years"
   ]
  },
  {
   "cell_type": "code",
   "execution_count": 13,
   "id": "858499a2-676a-4eff-8529-022cd6bdeeff",
   "metadata": {},
   "outputs": [
    {
     "name": "stdout",
     "output_type": "stream",
     "text": [
      "Successfully inserted 1 year.\n"
     ]
    }
   ],
   "source": [
    "insert_year(2018)"
   ]
  },
  {
   "cell_type": "markdown",
   "id": "845416d8-7025-4a54-9c80-76c0b3c0eedf",
   "metadata": {},
   "source": [
    "### 2: Insert into Municipalities"
   ]
  },
  {
   "cell_type": "markdown",
   "id": "5564ff71-3fe2-4d4e-9ec4-caed28c9dcc1",
   "metadata": {},
   "source": [
    "`municips` defined in 2022 above in the same step."
   ]
  },
  {
   "cell_type": "code",
   "execution_count": 14,
   "id": "b56438da-06d6-4634-9f96-3458d8d5fd90",
   "metadata": {},
   "outputs": [
    {
     "name": "stdout",
     "output_type": "stream",
     "text": [
      "Successfully inserted 80 municipalites.\n"
     ]
    }
   ],
   "source": [
    "insert_municipalities(2018, municips)"
   ]
  },
  {
   "cell_type": "markdown",
   "id": "77d786b2-93db-46d7-a1fb-03ea9d9cf78d",
   "metadata": {},
   "source": [
    "### 3: Insert into Candidates"
   ]
  },
  {
   "cell_type": "code",
   "execution_count": 15,
   "id": "f0aedabf-e209-42d8-8a2f-cd49a5fe48d3",
   "metadata": {},
   "outputs": [
    {
     "name": "stdout",
     "output_type": "stream",
     "text": [
      "Successfully inserted 11 candidates.\n"
     ]
    }
   ],
   "source": [
    "candidates = [\n",
    "    (\"DŽAFEROVIĆ ŠEFIK - SDA - STRANKA DEMOKRATSKE AKCIJE\", \"B\"),\n",
    "    (\"BEĆIROVIĆ DENIS - SDP - SOCIJALDEMOKRATSKA PARTIJA BOSNE I HERCEGOVINE\", \"B\"),\n",
    "    (\"RADONČIĆ FAHRUDIN - SBB-FAHRUDIN RADONČIĆ\", \"B\"),\n",
    "    (\"HADŽIKADIĆ MIRSAD - MIRSAD HADŽIKADIĆ-PLATFORMA ZA PROGRES\", \"B\"),\n",
    "    (\"ŠEPIĆ SENAD - NEZAVISNI BLOK\", \"B\"),\n",
    "    (\"JERLAGIĆ AMER - STRANKA ZA BOSNU I HERCEGOVINU\", \"B\"),\n",
    "    (\"KOMŠIĆ ŽELJKO - DEMOKRATSKA FRONTA\", \"C\"),\n",
    "    (\"ČOVIĆ DRAGAN - HDZ BIH-HRVATSKA DEMOKRATSKA ZAJEDNICA BOSNE I HERCEGOVINE\", \"C\"),\n",
    "    (\"ZELENIKA DIANA - HRVATSKA DEMOKRATSKA ZAJEDNICA 1990 - HDZ 1990\", \"C\"),\n",
    "    (\"FALATAR BORIŠA - NAŠA STRANKA\", \"C\"),\n",
    "    (\"IVANKOVIĆ-LIJANOVIĆ JERKO - NARODNA STRANKA RADOM ZA BOLJITAK\", \"C\"),\n",
    "]\n",
    "insert_candidates(candidates)"
   ]
  },
  {
   "cell_type": "markdown",
   "id": "8f73fbac-ff47-4dcc-91ca-24cb50438b05",
   "metadata": {},
   "source": [
    "### 4: Insert election results into CandidateResults"
   ]
  },
  {
   "cell_type": "code",
   "execution_count": 16,
   "id": "b91d5958-3aff-47b5-85ff-97e12d502b50",
   "metadata": {},
   "outputs": [
    {
     "name": "stdout",
     "output_type": "stream",
     "text": [
      "Successfully inserted 11 candidate results for velika kladusa.\n",
      "Successfully inserted 11 candidate results for cazin.\n",
      "Successfully inserted 11 candidate results for bihac.\n",
      "Successfully inserted 11 candidate results for bosanska krupa.\n",
      "Successfully inserted 11 candidate results for buzim.\n",
      "Successfully inserted 11 candidate results for odzak.\n",
      "Successfully inserted 11 candidate results for domaljevac samac.\n",
      "Successfully inserted 11 candidate results for orasje.\n",
      "Successfully inserted 11 candidate results for gradacac.\n",
      "Successfully inserted 11 candidate results for brcko distrikt bih.\n",
      "Successfully inserted 11 candidate results for bosanski petrovac.\n",
      "Successfully inserted 11 candidate results for sanski most.\n",
      "Successfully inserted 11 candidate results for doboj istok.\n",
      "Successfully inserted 11 candidate results for doboj jug.\n",
      "Successfully inserted 11 candidate results for tesanj.\n",
      "Successfully inserted 11 candidate results for maglaj.\n",
      "Successfully inserted 11 candidate results for gracanica.\n",
      "Successfully inserted 11 candidate results for lukavac.\n",
      "Successfully inserted 11 candidate results for srebrenik.\n",
      "Successfully inserted 11 candidate results for tuzla.\n",
      "Successfully inserted 11 candidate results for celic.\n",
      "Successfully inserted 11 candidate results for teocak.\n",
      "Successfully inserted 11 candidate results for drvar.\n",
      "Successfully inserted 11 candidate results for kljuc.\n",
      "Successfully inserted 11 candidate results for jajce.\n",
      "Successfully inserted 11 candidate results for dobretici.\n",
      "Successfully inserted 11 candidate results for zepce.\n",
      "Successfully inserted 11 candidate results for zavidovici.\n",
      "Successfully inserted 11 candidate results for banovici.\n",
      "Successfully inserted 11 candidate results for zivinice.\n",
      "Successfully inserted 11 candidate results for kalesija.\n",
      "Successfully inserted 11 candidate results for sapna.\n",
      "Successfully inserted 11 candidate results for bosansko grahovo.\n",
      "Successfully inserted 11 candidate results for glamoc.\n",
      "Successfully inserted 11 candidate results for donji vakuf.\n",
      "Successfully inserted 11 candidate results for travnik.\n",
      "Successfully inserted 11 candidate results for zenica.\n",
      "Successfully inserted 11 candidate results for kakanj.\n",
      "Successfully inserted 11 candidate results for vares.\n",
      "Successfully inserted 11 candidate results for olovo.\n",
      "Successfully inserted 11 candidate results for kladanj.\n",
      "Successfully inserted 11 candidate results for livno.\n",
      "Successfully inserted 11 candidate results for kupres.\n",
      "Successfully inserted 11 candidate results for bugojno.\n",
      "Successfully inserted 11 candidate results for gornji vakuf uskoplje.\n",
      "Successfully inserted 11 candidate results for novi travnik.\n",
      "Successfully inserted 11 candidate results for vitez.\n",
      "Successfully inserted 11 candidate results for busovaca.\n",
      "Successfully inserted 11 candidate results for fojnica.\n",
      "Successfully inserted 11 candidate results for kiseljak.\n",
      "Successfully inserted 11 candidate results for visoko.\n",
      "Successfully inserted 11 candidate results for breza.\n",
      "Successfully inserted 11 candidate results for ilijas.\n",
      "Successfully inserted 11 candidate results for tomislavgrad.\n",
      "Successfully inserted 11 candidate results for prozor rama.\n",
      "Successfully inserted 11 candidate results for jablanica.\n",
      "Successfully inserted 11 candidate results for konjic.\n",
      "Successfully inserted 11 candidate results for kresevo.\n",
      "Successfully inserted 11 candidate results for hadzici.\n",
      "Successfully inserted 11 candidate results for ilidza.\n",
      "Successfully inserted 11 candidate results for novi grad sarajevo.\n",
      "Successfully inserted 11 candidate results for vogosca.\n",
      "Successfully inserted 11 candidate results for centar sarajevo.\n",
      "Successfully inserted 11 candidate results for stari grad sarajevo.\n",
      "Successfully inserted 11 candidate results for novo sarajevo.\n",
      "Successfully inserted 11 candidate results for trnovo.\n",
      "Successfully inserted 11 candidate results for pale.\n",
      "Successfully inserted 11 candidate results for posusje.\n",
      "Successfully inserted 11 candidate results for grude.\n",
      "Successfully inserted 11 candidate results for siroki brijeg.\n",
      "Successfully inserted 11 candidate results for foca.\n",
      "Successfully inserted 11 candidate results for gorazde.\n",
      "Successfully inserted 11 candidate results for ljubuski.\n",
      "Successfully inserted 11 candidate results for citluk.\n",
      "Successfully inserted 11 candidate results for capljina.\n",
      "Successfully inserted 11 candidate results for neum.\n",
      "Successfully inserted 11 candidate results for stolac.\n",
      "Successfully inserted 11 candidate results for ravno.\n",
      "Successfully inserted 11 candidate results for usora.\n",
      "Successfully inserted 11 candidate results for grad mostar.\n"
     ]
    }
   ],
   "source": [
    "year_key = \"WebResult_2018GEN_2018_10_4_15_40_5\"\n",
    "modern_scrape(2018, year_key, m_to_c)"
   ]
  },
  {
   "cell_type": "markdown",
   "id": "c2d99db3-6487-48ec-8c53-804a750fee2d",
   "metadata": {},
   "source": [
    "### 5: Sanity Check"
   ]
  },
  {
   "cell_type": "code",
   "execution_count": 17,
   "id": "e54c9e2a-7c96-47a8-94d6-f9601183e88f",
   "metadata": {},
   "outputs": [],
   "source": [
    "try:\n",
    "    conn = sqlite3.connect(SAVE_DIR + \"political_data.db\")\n",
    "\n",
    "    sql_query = \"\"\"\n",
    "        SELECT\n",
    "            m.name AS municipality_name,\n",
    "            y.year,\n",
    "            c.name,\n",
    "            c.ethnicity,\n",
    "            cr.votes\n",
    "        FROM \n",
    "            Municipalities as m\n",
    "        JOIN\n",
    "            Years AS y ON m.year_id = y.year_id\n",
    "        JOIN\n",
    "            CandidateResults AS cr ON m.municipality_id = cr.municipality_id\n",
    "        JOIN\n",
    "            Candidates AS c ON cr.candidate_id = c.candidate_id\n",
    "        WHERE y.year = 2018\n",
    "    \"\"\"\n",
    "\n",
    "    df = pd.read_sql_query(sql_query, conn)\n",
    "except sqlite3.Error as e:\n",
    "    print(f\"An error occurred: {e}\")\n",
    "finally:\n",
    "    conn.close()"
   ]
  },
  {
   "cell_type": "code",
   "execution_count": 18,
   "id": "dc69dfdd-b016-46f3-932b-2da88c0b5d23",
   "metadata": {},
   "outputs": [
    {
     "data": {
      "text/html": [
       "<div>\n",
       "<style scoped>\n",
       "    .dataframe tbody tr th:only-of-type {\n",
       "        vertical-align: middle;\n",
       "    }\n",
       "\n",
       "    .dataframe tbody tr th {\n",
       "        vertical-align: top;\n",
       "    }\n",
       "\n",
       "    .dataframe thead th {\n",
       "        text-align: right;\n",
       "    }\n",
       "</style>\n",
       "<table border=\"1\" class=\"dataframe\">\n",
       "  <thead>\n",
       "    <tr style=\"text-align: right;\">\n",
       "      <th></th>\n",
       "      <th>municipality_name</th>\n",
       "      <th>year</th>\n",
       "      <th>name</th>\n",
       "      <th>ethnicity</th>\n",
       "      <th>votes</th>\n",
       "    </tr>\n",
       "  </thead>\n",
       "  <tbody>\n",
       "    <tr>\n",
       "      <th>0</th>\n",
       "      <td>velika kladusa</td>\n",
       "      <td>2018</td>\n",
       "      <td>DŽAFEROVIĆ ŠEFIK - SDA - STRANKA DEMOKRATSKE A...</td>\n",
       "      <td>B</td>\n",
       "      <td>2691</td>\n",
       "    </tr>\n",
       "    <tr>\n",
       "      <th>1</th>\n",
       "      <td>velika kladusa</td>\n",
       "      <td>2018</td>\n",
       "      <td>BEĆIROVIĆ DENIS - SDP - SOCIJALDEMOKRATSKA PAR...</td>\n",
       "      <td>B</td>\n",
       "      <td>2545</td>\n",
       "    </tr>\n",
       "    <tr>\n",
       "      <th>2</th>\n",
       "      <td>velika kladusa</td>\n",
       "      <td>2018</td>\n",
       "      <td>KOMŠIĆ ŽELJKO - DEMOKRATSKA FRONTA</td>\n",
       "      <td>C</td>\n",
       "      <td>2342</td>\n",
       "    </tr>\n",
       "    <tr>\n",
       "      <th>3</th>\n",
       "      <td>velika kladusa</td>\n",
       "      <td>2018</td>\n",
       "      <td>HADŽIKADIĆ MIRSAD - MIRSAD HADŽIKADIĆ-PLATFORM...</td>\n",
       "      <td>B</td>\n",
       "      <td>1313</td>\n",
       "    </tr>\n",
       "    <tr>\n",
       "      <th>4</th>\n",
       "      <td>velika kladusa</td>\n",
       "      <td>2018</td>\n",
       "      <td>RADONČIĆ FAHRUDIN - SBB-FAHRUDIN RADONČIĆ</td>\n",
       "      <td>B</td>\n",
       "      <td>1090</td>\n",
       "    </tr>\n",
       "    <tr>\n",
       "      <th>...</th>\n",
       "      <td>...</td>\n",
       "      <td>...</td>\n",
       "      <td>...</td>\n",
       "      <td>...</td>\n",
       "      <td>...</td>\n",
       "    </tr>\n",
       "    <tr>\n",
       "      <th>875</th>\n",
       "      <td>grad mostar</td>\n",
       "      <td>2018</td>\n",
       "      <td>HADŽIKADIĆ MIRSAD - MIRSAD HADŽIKADIĆ-PLATFORM...</td>\n",
       "      <td>B</td>\n",
       "      <td>1471</td>\n",
       "    </tr>\n",
       "    <tr>\n",
       "      <th>876</th>\n",
       "      <td>grad mostar</td>\n",
       "      <td>2018</td>\n",
       "      <td>FALATAR BORIŠA - NAŠA STRANKA</td>\n",
       "      <td>C</td>\n",
       "      <td>977</td>\n",
       "    </tr>\n",
       "    <tr>\n",
       "      <th>877</th>\n",
       "      <td>grad mostar</td>\n",
       "      <td>2018</td>\n",
       "      <td>ŠEPIĆ SENAD - NEZAVISNI BLOK</td>\n",
       "      <td>B</td>\n",
       "      <td>472</td>\n",
       "    </tr>\n",
       "    <tr>\n",
       "      <th>878</th>\n",
       "      <td>grad mostar</td>\n",
       "      <td>2018</td>\n",
       "      <td>JERLAGIĆ AMER - STRANKA ZA BOSNU I HERCEGOVINU</td>\n",
       "      <td>B</td>\n",
       "      <td>259</td>\n",
       "    </tr>\n",
       "    <tr>\n",
       "      <th>879</th>\n",
       "      <td>grad mostar</td>\n",
       "      <td>2018</td>\n",
       "      <td>IVANKOVIĆ-LIJANOVIĆ JERKO - NARODNA STRANKA RA...</td>\n",
       "      <td>C</td>\n",
       "      <td>182</td>\n",
       "    </tr>\n",
       "  </tbody>\n",
       "</table>\n",
       "<p>880 rows × 5 columns</p>\n",
       "</div>"
      ],
      "text/plain": [
       "    municipality_name  year  \\\n",
       "0      velika kladusa  2018   \n",
       "1      velika kladusa  2018   \n",
       "2      velika kladusa  2018   \n",
       "3      velika kladusa  2018   \n",
       "4      velika kladusa  2018   \n",
       "..                ...   ...   \n",
       "875       grad mostar  2018   \n",
       "876       grad mostar  2018   \n",
       "877       grad mostar  2018   \n",
       "878       grad mostar  2018   \n",
       "879       grad mostar  2018   \n",
       "\n",
       "                                                  name ethnicity  votes  \n",
       "0    DŽAFEROVIĆ ŠEFIK - SDA - STRANKA DEMOKRATSKE A...         B   2691  \n",
       "1    BEĆIROVIĆ DENIS - SDP - SOCIJALDEMOKRATSKA PAR...         B   2545  \n",
       "2                   KOMŠIĆ ŽELJKO - DEMOKRATSKA FRONTA         C   2342  \n",
       "3    HADŽIKADIĆ MIRSAD - MIRSAD HADŽIKADIĆ-PLATFORM...         B   1313  \n",
       "4            RADONČIĆ FAHRUDIN - SBB-FAHRUDIN RADONČIĆ         B   1090  \n",
       "..                                                 ...       ...    ...  \n",
       "875  HADŽIKADIĆ MIRSAD - MIRSAD HADŽIKADIĆ-PLATFORM...         B   1471  \n",
       "876                      FALATAR BORIŠA - NAŠA STRANKA         C    977  \n",
       "877                       ŠEPIĆ SENAD - NEZAVISNI BLOK         B    472  \n",
       "878     JERLAGIĆ AMER - STRANKA ZA BOSNU I HERCEGOVINU         B    259  \n",
       "879  IVANKOVIĆ-LIJANOVIĆ JERKO - NARODNA STRANKA RA...         C    182  \n",
       "\n",
       "[880 rows x 5 columns]"
      ]
     },
     "execution_count": 18,
     "metadata": {},
     "output_type": "execute_result"
    }
   ],
   "source": [
    "df"
   ]
  },
  {
   "cell_type": "markdown",
   "id": "08f13915-424e-404f-ba63-1914658da8c5",
   "metadata": {},
   "source": [
    "## 2014"
   ]
  },
  {
   "cell_type": "code",
   "execution_count": 19,
   "id": "4371b4bc-6cbf-4ec3-bdd4-cafa93786c48",
   "metadata": {},
   "outputs": [
    {
     "name": "stdout",
     "output_type": "stream",
     "text": [
      "Successfully inserted 1 year.\n"
     ]
    }
   ],
   "source": [
    "insert_year(2014)"
   ]
  },
  {
   "cell_type": "markdown",
   "id": "7a5fdb99-78af-45aa-b916-34a697150373",
   "metadata": {},
   "source": [
    "### 2: Insert into Municipalities"
   ]
  },
  {
   "cell_type": "markdown",
   "id": "905deb0e-0b41-4b88-8c42-abbe2c32e138",
   "metadata": {},
   "source": [
    "`municips` defined in 2022 above in the same step."
   ]
  },
  {
   "cell_type": "code",
   "execution_count": 20,
   "id": "c517ed39-8ce3-4c77-8eae-78071042f9f9",
   "metadata": {},
   "outputs": [
    {
     "name": "stdout",
     "output_type": "stream",
     "text": [
      "Successfully inserted 80 municipalites.\n"
     ]
    }
   ],
   "source": [
    "insert_municipalities(2014, municips)"
   ]
  },
  {
   "cell_type": "markdown",
   "id": "1b78ee40-1efa-4eea-8f1d-43100e7e9aaf",
   "metadata": {},
   "source": [
    "### 3: Insert into Candidates"
   ]
  },
  {
   "cell_type": "code",
   "execution_count": 21,
   "id": "e1429890-0c91-4397-ab33-1f71c9bb2b19",
   "metadata": {},
   "outputs": [
    {
     "name": "stdout",
     "output_type": "stream",
     "text": [
      "Successfully inserted 14 candidates.\n"
     ]
    }
   ],
   "source": [
    "candidates = [\n",
    "    (\"IZETBEGOVIĆ BAKIR - SDA - STRANKA DEMOKRATSKE AKCIJE\", \"B\"),\n",
    "    (\"RADONČIĆ FAHRUDIN - SBB - FAHRUDIN RADONČIĆ\", \"B\"),\n",
    "    (\"SULJAGIĆ EMIR - DEMOKRATSKA FRONTA-ŽELJKO KOMŠIĆ\", \"B\"),\n",
    "    (\"HADŽIOMEROVIĆ BAKIR - SDP-SOCIJALDEMOKRATSKA PARTIJA BIH\", \"B\"),\n",
    "    (\"HALILOVIĆ SEFER - BPS-SEFER HALILOVIĆ\", \"B\"),\n",
    "    (\"CERIĆ MUSTAFA - CERIĆ MUSTAFA\", \"B\"),\n",
    "    (\"BAJRAMOVIĆ DŽEBRAIL - STRANKA DIJASPORE BOSNE I HERCEGOVINE\", \"B\"),\n",
    "    (\"KEBO MIRSAD - KEBO MIRSAD\", \"B\"),\n",
    "    (\"TUZLIĆ HALIL - TUZLIĆ HALIL\", \"B\"),\n",
    "    (\"ŽIGIĆ ADIL - ŽIGIĆ ADIL\", \"B\"),\n",
    "    (\"ČOVIĆ DRAGAN - HDZ BIH - HRVATSKA DEMOKRATSKA ZAJEDNICA BOSNE I HERCEGOVINE\", \"C\"),\n",
    "    (\"RAGUŽ MARTIN - HDZ 1990 HRVATSKA DEMOKRATSKA ZAJEDNICA\", \"C\"),\n",
    "    (\"BUDIMIR ŽIVKO - STRANKA PRAVDE I POVJERENJA\", \"C\"),\n",
    "    (\"POPOVIĆ ANTO - DEMOKRATSKA FRONTA-ŽELJKO KOMŠIĆ\", \"C\"),\n",
    "]\n",
    "insert_candidates(candidates)"
   ]
  },
  {
   "cell_type": "markdown",
   "id": "b4a512e3-2877-4553-89d7-afc4ff294032",
   "metadata": {},
   "source": [
    "### 4: Insert election results into CandidateResults"
   ]
  },
  {
   "cell_type": "code",
   "execution_count": 22,
   "id": "18725e5b-bc10-4326-8d02-61923bb95744",
   "metadata": {},
   "outputs": [
    {
     "name": "stdout",
     "output_type": "stream",
     "text": [
      "Starting browser.\n",
      "Successfully found 80 links. Starting iteration...\n",
      "--- Loop 1 of 80 ---\n",
      "Clicking link: 001 - VELIKA KLADUŠA\n",
      "Scraped 14 candidate results for 001 - VELIKA KLADUŠA.\n",
      "Successfully inserted 14 candidate results for velika kladusa.\n",
      "--- Loop 2 of 80 ---\n",
      "Clicking link: 002 - CAZIN\n",
      "Scraped 14 candidate results for 002 - CAZIN.\n",
      "Successfully inserted 14 candidate results for cazin.\n",
      "--- Loop 3 of 80 ---\n",
      "Clicking link: 003 - BIHAĆ\n",
      "Scraped 14 candidate results for 003 - BIHAĆ.\n",
      "Successfully inserted 14 candidate results for bihac.\n",
      "--- Loop 4 of 80 ---\n",
      "Clicking link: 004 - BOSANSKA KRUPA\n",
      "Scraped 14 candidate results for 004 - BOSANSKA KRUPA.\n",
      "Successfully inserted 14 candidate results for bosanska krupa.\n",
      "--- Loop 5 of 80 ---\n",
      "Clicking link: 005 - BUŽIM\n",
      "Scraped 14 candidate results for 005 - BUŽIM.\n",
      "Successfully inserted 14 candidate results for buzim.\n",
      "--- Loop 6 of 80 ---\n",
      "Clicking link: 017 - ODŽAK\n",
      "Scraped 14 candidate results for 017 - ODŽAK.\n",
      "Successfully inserted 14 candidate results for odzak.\n",
      "--- Loop 7 of 80 ---\n",
      "Clicking link: 020 - DOMALJEVAC - ŠAMAC\n",
      "Scraped 14 candidate results for 020 - DOMALJEVAC - ŠAMAC.\n",
      "Successfully inserted 14 candidate results for domaljevac samac.\n",
      "--- Loop 8 of 80 ---\n",
      "Clicking link: 022 - ORAŠJE\n",
      "Scraped 14 candidate results for 022 - ORAŠJE.\n",
      "Successfully inserted 14 candidate results for orasje.\n",
      "--- Loop 9 of 80 ---\n",
      "Clicking link: 025 - GRADAČAC\n",
      "Scraped 14 candidate results for 025 - GRADAČAC.\n",
      "Successfully inserted 14 candidate results for gradacac.\n",
      "--- Loop 10 of 80 ---\n",
      "Clicking link: 027 - BRČKO DISTRIKT BIH (OPCIJA FBIH)\n",
      "Scraped 14 candidate results for 027 - BRČKO DISTRIKT BIH (OPCIJA FBIH).\n",
      "Successfully inserted 14 candidate results for brcko distrikt bih.\n",
      "--- Loop 11 of 80 ---\n",
      "Clicking link: 030 - BOSANSKI PETROVAC\n",
      "Scraped 14 candidate results for 030 - BOSANSKI PETROVAC.\n",
      "Successfully inserted 14 candidate results for bosanski petrovac.\n",
      "--- Loop 12 of 80 ---\n",
      "Clicking link: 032 - SANSKI MOST\n",
      "Scraped 14 candidate results for 032 - SANSKI MOST.\n",
      "Successfully inserted 14 candidate results for sanski most.\n",
      "--- Loop 13 of 80 ---\n",
      "Clicking link: 036 - DOBOJ ISTOK\n",
      "Scraped 14 candidate results for 036 - DOBOJ ISTOK.\n",
      "Successfully inserted 14 candidate results for doboj istok.\n",
      "--- Loop 14 of 80 ---\n",
      "Clicking link: 037 - DOBOJ JUG\n",
      "Scraped 14 candidate results for 037 - DOBOJ JUG.\n",
      "Successfully inserted 14 candidate results for doboj jug.\n",
      "--- Loop 15 of 80 ---\n",
      "Clicking link: 039 - TEŠANJ\n",
      "Scraped 14 candidate results for 039 - TEŠANJ.\n",
      "Successfully inserted 14 candidate results for tesanj.\n",
      "--- Loop 16 of 80 ---\n",
      "Clicking link: 042 - MAGLAJ\n",
      "Scraped 14 candidate results for 042 - MAGLAJ.\n",
      "Successfully inserted 14 candidate results for maglaj.\n",
      "--- Loop 17 of 80 ---\n",
      "Clicking link: 044 - GRAČANICA\n",
      "Scraped 14 candidate results for 044 - GRAČANICA.\n",
      "Successfully inserted 14 candidate results for gracanica.\n",
      "--- Loop 18 of 80 ---\n",
      "Clicking link: 047 - LUKAVAC\n",
      "Scraped 14 candidate results for 047 - LUKAVAC.\n",
      "Successfully inserted 14 candidate results for lukavac.\n",
      "--- Loop 19 of 80 ---\n",
      "Clicking link: 049 - SREBRENIK\n",
      "Scraped 14 candidate results for 049 - SREBRENIK.\n",
      "Successfully inserted 14 candidate results for srebrenik.\n",
      "--- Loop 20 of 80 ---\n",
      "Clicking link: 050 - TUZLA\n",
      "Scraped 14 candidate results for 050 - TUZLA.\n",
      "Successfully inserted 14 candidate results for tuzla.\n",
      "--- Loop 21 of 80 ---\n",
      "Clicking link: 052 - ČELIĆ\n",
      "Scraped 14 candidate results for 052 - ČELIĆ.\n",
      "Successfully inserted 14 candidate results for celic.\n",
      "--- Loop 22 of 80 ---\n",
      "Clicking link: 055 - TEOČAK\n",
      "Scraped 14 candidate results for 055 - TEOČAK.\n",
      "Successfully inserted 14 candidate results for teocak.\n",
      "--- Loop 23 of 80 ---\n",
      "Clicking link: 057 - DRVAR\n",
      "Scraped 14 candidate results for 057 - DRVAR.\n",
      "Successfully inserted 14 candidate results for drvar.\n",
      "--- Loop 24 of 80 ---\n",
      "Clicking link: 059 - KLJUČ\n",
      "Scraped 14 candidate results for 059 - KLJUČ.\n",
      "Successfully inserted 14 candidate results for kljuc.\n",
      "--- Loop 25 of 80 ---\n",
      "Clicking link: 065 - JAJCE\n",
      "Scraped 14 candidate results for 065 - JAJCE.\n",
      "Successfully inserted 14 candidate results for jajce.\n",
      "--- Loop 26 of 80 ---\n",
      "Clicking link: 067 - DOBRETIĆI\n",
      "Scraped 14 candidate results for 067 - DOBRETIĆI.\n",
      "Successfully inserted 14 candidate results for dobretici.\n",
      "--- Loop 27 of 80 ---\n",
      "Clicking link: 075 - ŽEPČE\n",
      "Scraped 14 candidate results for 075 - ŽEPČE.\n",
      "Successfully inserted 14 candidate results for zepce.\n",
      "--- Loop 28 of 80 ---\n",
      "Clicking link: 077 - ZAVIDOVIĆI\n",
      "Scraped 14 candidate results for 077 - ZAVIDOVIĆI.\n",
      "Successfully inserted 14 candidate results for zavidovici.\n",
      "--- Loop 29 of 80 ---\n",
      "Clicking link: 078 - BANOVIĆI\n",
      "Scraped 14 candidate results for 078 - BANOVIĆI.\n",
      "Successfully inserted 14 candidate results for banovici.\n",
      "--- Loop 30 of 80 ---\n",
      "Clicking link: 079 - ŽIVINICE\n",
      "Scraped 14 candidate results for 079 - ŽIVINICE.\n",
      "Successfully inserted 14 candidate results for zivinice.\n",
      "--- Loop 31 of 80 ---\n",
      "Clicking link: 080 - KALESIJA\n",
      "Scraped 14 candidate results for 080 - KALESIJA.\n",
      "Successfully inserted 14 candidate results for kalesija.\n",
      "--- Loop 32 of 80 ---\n",
      "Clicking link: 082 - SAPNA\n",
      "Scraped 14 candidate results for 082 - SAPNA.\n",
      "Successfully inserted 14 candidate results for sapna.\n",
      "--- Loop 33 of 80 ---\n",
      "Clicking link: 084 - BOSANSKO GRAHOVO\n",
      "Scraped 14 candidate results for 084 - BOSANSKO GRAHOVO.\n",
      "Successfully inserted 14 candidate results for bosansko grahovo.\n",
      "--- Loop 34 of 80 ---\n",
      "Clicking link: 085 - GLAMOČ\n",
      "Scraped 14 candidate results for 085 - GLAMOČ.\n",
      "Successfully inserted 14 candidate results for glamoc.\n",
      "--- Loop 35 of 80 ---\n",
      "Clicking link: 089 - DONJI VAKUF\n",
      "Scraped 14 candidate results for 089 - DONJI VAKUF.\n",
      "Successfully inserted 14 candidate results for donji vakuf.\n",
      "--- Loop 36 of 80 ---\n",
      "Clicking link: 091 - TRAVNIK\n",
      "Scraped 14 candidate results for 091 - TRAVNIK.\n",
      "Successfully inserted 14 candidate results for travnik.\n",
      "--- Loop 37 of 80 ---\n",
      "Clicking link: 093 - ZENICA\n",
      "Scraped 14 candidate results for 093 - ZENICA.\n",
      "Successfully inserted 14 candidate results for zenica.\n",
      "--- Loop 38 of 80 ---\n",
      "Clicking link: 094 - KAKANJ\n",
      "Scraped 14 candidate results for 094 - KAKANJ.\n",
      "Successfully inserted 14 candidate results for kakanj.\n",
      "--- Loop 39 of 80 ---\n",
      "Clicking link: 095 - VAREŠ\n",
      "Scraped 14 candidate results for 095 - VAREŠ.\n",
      "Successfully inserted 14 candidate results for vares.\n",
      "--- Loop 40 of 80 ---\n",
      "Clicking link: 096 - OLOVO\n",
      "Scraped 14 candidate results for 096 - OLOVO.\n",
      "Successfully inserted 14 candidate results for olovo.\n",
      "--- Loop 41 of 80 ---\n",
      "Clicking link: 098 - KLADANJ\n",
      "Scraped 14 candidate results for 098 - KLADANJ.\n",
      "Successfully inserted 14 candidate results for kladanj.\n",
      "--- Loop 42 of 80 ---\n",
      "Clicking link: 106 - LIVNO\n",
      "Scraped 14 candidate results for 106 - LIVNO.\n",
      "Successfully inserted 14 candidate results for livno.\n",
      "--- Loop 43 of 80 ---\n",
      "Clicking link: 107 - KUPRES (FBIH)\n",
      "Scraped 14 candidate results for 107 - KUPRES (FBIH).\n",
      "Successfully inserted 14 candidate results for kupres.\n",
      "--- Loop 44 of 80 ---\n",
      "Clicking link: 109 - BUGOJNO\n",
      "Scraped 14 candidate results for 109 - BUGOJNO.\n",
      "Successfully inserted 14 candidate results for bugojno.\n",
      "--- Loop 45 of 80 ---\n",
      "Clicking link: 110 - GORNJI VAKUF - USKOPLJE\n",
      "Scraped 14 candidate results for 110 - GORNJI VAKUF - USKOPLJE.\n",
      "Successfully inserted 14 candidate results for gornji vakuf uskoplje.\n",
      "--- Loop 46 of 80 ---\n",
      "Clicking link: 111 - NOVI TRAVNIK\n",
      "Scraped 14 candidate results for 111 - NOVI TRAVNIK.\n",
      "Successfully inserted 14 candidate results for novi travnik.\n",
      "--- Loop 47 of 80 ---\n",
      "Clicking link: 112 - VITEZ\n",
      "Scraped 14 candidate results for 112 - VITEZ.\n",
      "Successfully inserted 14 candidate results for vitez.\n",
      "--- Loop 48 of 80 ---\n",
      "Clicking link: 113 - BUSOVAČA\n",
      "Scraped 14 candidate results for 113 - BUSOVAČA.\n",
      "Successfully inserted 14 candidate results for busovaca.\n",
      "--- Loop 49 of 80 ---\n",
      "Clicking link: 114 - FOJNICA\n",
      "Scraped 14 candidate results for 114 - FOJNICA.\n",
      "Successfully inserted 14 candidate results for fojnica.\n",
      "--- Loop 50 of 80 ---\n",
      "Clicking link: 115 - KISELJAK\n",
      "Scraped 14 candidate results for 115 - KISELJAK.\n",
      "Successfully inserted 14 candidate results for kiseljak.\n",
      "--- Loop 51 of 80 ---\n",
      "Clicking link: 116 - VISOKO\n",
      "Scraped 14 candidate results for 116 - VISOKO.\n",
      "Successfully inserted 14 candidate results for visoko.\n",
      "--- Loop 52 of 80 ---\n",
      "Clicking link: 117 - BREZA\n",
      "Scraped 14 candidate results for 117 - BREZA.\n",
      "Successfully inserted 14 candidate results for breza.\n",
      "--- Loop 53 of 80 ---\n",
      "Clicking link: 118 - ILIJAŠ\n",
      "Scraped 14 candidate results for 118 - ILIJAŠ.\n",
      "Successfully inserted 14 candidate results for ilijas.\n",
      "--- Loop 54 of 80 ---\n",
      "Clicking link: 124 - TOMISLAVGRAD\n",
      "Scraped 14 candidate results for 124 - TOMISLAVGRAD.\n",
      "Successfully inserted 14 candidate results for tomislavgrad.\n",
      "--- Loop 55 of 80 ---\n",
      "Clicking link: 125 - PROZOR - RAMA\n",
      "Scraped 14 candidate results for 125 - PROZOR - RAMA.\n",
      "Successfully inserted 14 candidate results for prozor rama.\n",
      "--- Loop 56 of 80 ---\n",
      "Clicking link: 126 - JABLANICA\n",
      "Scraped 14 candidate results for 126 - JABLANICA.\n",
      "Successfully inserted 14 candidate results for jablanica.\n",
      "--- Loop 57 of 80 ---\n",
      "Clicking link: 127 - KONJIC\n",
      "Scraped 14 candidate results for 127 - KONJIC.\n",
      "Successfully inserted 14 candidate results for konjic.\n",
      "--- Loop 58 of 80 ---\n",
      "Clicking link: 129 - KREŠEVO\n",
      "Scraped 14 candidate results for 129 - KREŠEVO.\n",
      "Successfully inserted 14 candidate results for kresevo.\n",
      "--- Loop 59 of 80 ---\n",
      "Clicking link: 130 - HADŽIĆI\n",
      "Scraped 14 candidate results for 130 - HADŽIĆI.\n",
      "Successfully inserted 14 candidate results for hadzici.\n",
      "--- Loop 60 of 80 ---\n",
      "Clicking link: 131 - ILIDŽA\n",
      "Scraped 14 candidate results for 131 - ILIDŽA.\n",
      "Successfully inserted 14 candidate results for ilidza.\n",
      "--- Loop 61 of 80 ---\n",
      "Clicking link: 133 - NOVI GRAD SARAJEVO\n",
      "Scraped 14 candidate results for 133 - NOVI GRAD SARAJEVO.\n",
      "Successfully inserted 14 candidate results for novi grad sarajevo.\n",
      "--- Loop 62 of 80 ---\n",
      "Clicking link: 135 - VOGOŠĆA\n",
      "Scraped 14 candidate results for 135 - VOGOŠĆA.\n",
      "Successfully inserted 14 candidate results for vogosca.\n",
      "--- Loop 63 of 80 ---\n",
      "Clicking link: 136 - CENTAR SARAJEVO\n",
      "Scraped 14 candidate results for 136 - CENTAR SARAJEVO.\n",
      "Successfully inserted 14 candidate results for centar sarajevo.\n",
      "--- Loop 64 of 80 ---\n",
      "Clicking link: 137 - STARI GRAD SARAJEVO\n",
      "Scraped 14 candidate results for 137 - STARI GRAD SARAJEVO.\n",
      "Successfully inserted 14 candidate results for stari grad sarajevo.\n",
      "--- Loop 65 of 80 ---\n",
      "Clicking link: 139 - NOVO SARAJEVO\n",
      "Scraped 14 candidate results for 139 - NOVO SARAJEVO.\n",
      "Successfully inserted 14 candidate results for novo sarajevo.\n",
      "--- Loop 66 of 80 ---\n",
      "Clicking link: 141 - TRNOVO (FBIH)\n",
      "Scraped 14 candidate results for 141 - TRNOVO (FBIH).\n",
      "Successfully inserted 14 candidate results for trnovo.\n",
      "--- Loop 67 of 80 ---\n",
      "Clicking link: 143 - PALE (FBIH)\n",
      "Scraped 14 candidate results for 143 - PALE (FBIH).\n",
      "Successfully inserted 14 candidate results for pale.\n",
      "--- Loop 68 of 80 ---\n",
      "Clicking link: 148 - POSUŠJE\n",
      "Scraped 14 candidate results for 148 - POSUŠJE.\n",
      "Successfully inserted 14 candidate results for posusje.\n",
      "--- Loop 69 of 80 ---\n",
      "Clicking link: 149 - GRUDE\n",
      "Scraped 14 candidate results for 149 - GRUDE.\n",
      "Successfully inserted 14 candidate results for grude.\n",
      "--- Loop 70 of 80 ---\n",
      "Clicking link: 150 - ŠIROKI BRIJEG\n",
      "Scraped 14 candidate results for 150 - ŠIROKI BRIJEG.\n",
      "Successfully inserted 14 candidate results for siroki brijeg.\n",
      "--- Loop 71 of 80 ---\n",
      "Clicking link: 165 - FOČA (FBIH)\n",
      "Scraped 14 candidate results for 165 - FOČA (FBIH).\n",
      "Successfully inserted 14 candidate results for foca.\n",
      "--- Loop 72 of 80 ---\n",
      "Clicking link: 167 - GORAŽDE\n",
      "Scraped 14 candidate results for 167 - GORAŽDE.\n",
      "Successfully inserted 14 candidate results for gorazde.\n",
      "--- Loop 73 of 80 ---\n",
      "Clicking link: 171 - LJUBUŠKI\n",
      "Scraped 14 candidate results for 171 - LJUBUŠKI.\n",
      "Successfully inserted 14 candidate results for ljubuski.\n",
      "--- Loop 74 of 80 ---\n",
      "Clicking link: 172 - ČITLUK\n",
      "Scraped 14 candidate results for 172 - ČITLUK.\n",
      "Successfully inserted 14 candidate results for citluk.\n",
      "--- Loop 75 of 80 ---\n",
      "Clicking link: 173 - ČAPLJINA\n",
      "Scraped 14 candidate results for 173 - ČAPLJINA.\n",
      "Successfully inserted 14 candidate results for capljina.\n",
      "--- Loop 76 of 80 ---\n",
      "Clicking link: 174 - NEUM\n",
      "Scraped 14 candidate results for 174 - NEUM.\n",
      "Successfully inserted 14 candidate results for neum.\n",
      "--- Loop 77 of 80 ---\n",
      "Clicking link: 176 - STOLAC\n",
      "Scraped 14 candidate results for 176 - STOLAC.\n",
      "Successfully inserted 14 candidate results for stolac.\n",
      "--- Loop 78 of 80 ---\n",
      "Clicking link: 181 - RAVNO\n",
      "Scraped 14 candidate results for 181 - RAVNO.\n",
      "Successfully inserted 14 candidate results for ravno.\n",
      "--- Loop 79 of 80 ---\n",
      "Clicking link: 183 - USORA\n",
      "Scraped 14 candidate results for 183 - USORA.\n",
      "Successfully inserted 14 candidate results for usora.\n",
      "--- Loop 80 of 80 ---\n",
      "Clicking link: 199 - GRAD MOSTAR\n",
      "Scraped 14 candidate results for 199 - GRAD MOSTAR.\n",
      "Successfully inserted 14 candidate results for grad mostar.\n",
      "\n",
      "Successfully iterated through all links!\n",
      "All done. Closing the browser.\n"
     ]
    }
   ],
   "source": [
    "url = \"https://www.izbori.ba/Potvrdjeni2014/Finalni/PredsjednistvoBiH/Nivo701702.aspx\"\n",
    "headless = True\n",
    "year = 2014\n",
    "# m_to_c defined in 2022 section\n",
    "\n",
    "older_scrape(url, headless, year, m_to_c)"
   ]
  },
  {
   "cell_type": "markdown",
   "id": "4912b831-ca7a-4a6b-813f-fe77d4fb54bc",
   "metadata": {},
   "source": [
    "### 5: Sanity Check"
   ]
  },
  {
   "cell_type": "code",
   "execution_count": 23,
   "id": "72f1963c-fe5f-4771-a516-7238e7e91428",
   "metadata": {},
   "outputs": [],
   "source": [
    "try:\n",
    "    conn = sqlite3.connect(SAVE_DIR + \"political_data.db\")\n",
    "\n",
    "    sql_query = \"\"\"\n",
    "        SELECT\n",
    "            m.name AS municipality_name,\n",
    "            y.year,\n",
    "            c.name,\n",
    "            c.ethnicity,\n",
    "            cr.votes\n",
    "        FROM \n",
    "            Municipalities as m\n",
    "        JOIN\n",
    "            Years AS y ON m.year_id = y.year_id\n",
    "        JOIN\n",
    "            CandidateResults AS cr ON m.municipality_id = cr.municipality_id\n",
    "        JOIN\n",
    "            Candidates AS c ON cr.candidate_id = c.candidate_id\n",
    "        WHERE y.year = 2014\n",
    "    \"\"\"\n",
    "\n",
    "    df = pd.read_sql_query(sql_query, conn)\n",
    "except sqlite3.Error as e:\n",
    "    print(f\"An error occurred: {e}\")\n",
    "finally:\n",
    "    conn.close()"
   ]
  },
  {
   "cell_type": "code",
   "execution_count": 24,
   "id": "c16acc2a-e167-477f-b020-f49f30f6238b",
   "metadata": {},
   "outputs": [
    {
     "data": {
      "text/html": [
       "<div>\n",
       "<style scoped>\n",
       "    .dataframe tbody tr th:only-of-type {\n",
       "        vertical-align: middle;\n",
       "    }\n",
       "\n",
       "    .dataframe tbody tr th {\n",
       "        vertical-align: top;\n",
       "    }\n",
       "\n",
       "    .dataframe thead th {\n",
       "        text-align: right;\n",
       "    }\n",
       "</style>\n",
       "<table border=\"1\" class=\"dataframe\">\n",
       "  <thead>\n",
       "    <tr style=\"text-align: right;\">\n",
       "      <th></th>\n",
       "      <th>municipality_name</th>\n",
       "      <th>year</th>\n",
       "      <th>name</th>\n",
       "      <th>ethnicity</th>\n",
       "      <th>votes</th>\n",
       "    </tr>\n",
       "  </thead>\n",
       "  <tbody>\n",
       "    <tr>\n",
       "      <th>0</th>\n",
       "      <td>velika kladusa</td>\n",
       "      <td>2014</td>\n",
       "      <td>RADONČIĆ FAHRUDIN - SBB - FAHRUDIN RADONČIĆ</td>\n",
       "      <td>B</td>\n",
       "      <td>3210</td>\n",
       "    </tr>\n",
       "    <tr>\n",
       "      <th>1</th>\n",
       "      <td>velika kladusa</td>\n",
       "      <td>2014</td>\n",
       "      <td>IZETBEGOVIĆ BAKIR - SDA - STRANKA DEMOKRATSKE ...</td>\n",
       "      <td>B</td>\n",
       "      <td>3034</td>\n",
       "    </tr>\n",
       "    <tr>\n",
       "      <th>2</th>\n",
       "      <td>velika kladusa</td>\n",
       "      <td>2014</td>\n",
       "      <td>BUDIMIR ŽIVKO - STRANKA PRAVDE I POVJERENJA</td>\n",
       "      <td>C</td>\n",
       "      <td>1400</td>\n",
       "    </tr>\n",
       "    <tr>\n",
       "      <th>3</th>\n",
       "      <td>velika kladusa</td>\n",
       "      <td>2014</td>\n",
       "      <td>HADŽIOMEROVIĆ BAKIR - SDP-SOCIJALDEMOKRATSKA P...</td>\n",
       "      <td>B</td>\n",
       "      <td>1390</td>\n",
       "    </tr>\n",
       "    <tr>\n",
       "      <th>4</th>\n",
       "      <td>velika kladusa</td>\n",
       "      <td>2014</td>\n",
       "      <td>SULJAGIĆ EMIR - DEMOKRATSKA FRONTA-ŽELJKO KOMŠIĆ</td>\n",
       "      <td>B</td>\n",
       "      <td>917</td>\n",
       "    </tr>\n",
       "    <tr>\n",
       "      <th>...</th>\n",
       "      <td>...</td>\n",
       "      <td>...</td>\n",
       "      <td>...</td>\n",
       "      <td>...</td>\n",
       "      <td>...</td>\n",
       "    </tr>\n",
       "    <tr>\n",
       "      <th>1115</th>\n",
       "      <td>grad mostar</td>\n",
       "      <td>2014</td>\n",
       "      <td>POPOVIĆ ANTO - DEMOKRATSKA FRONTA-ŽELJKO KOMŠIĆ</td>\n",
       "      <td>C</td>\n",
       "      <td>280</td>\n",
       "    </tr>\n",
       "    <tr>\n",
       "      <th>1116</th>\n",
       "      <td>grad mostar</td>\n",
       "      <td>2014</td>\n",
       "      <td>KEBO MIRSAD - KEBO MIRSAD</td>\n",
       "      <td>B</td>\n",
       "      <td>171</td>\n",
       "    </tr>\n",
       "    <tr>\n",
       "      <th>1117</th>\n",
       "      <td>grad mostar</td>\n",
       "      <td>2014</td>\n",
       "      <td>BAJRAMOVIĆ DŽEBRAIL - STRANKA DIJASPORE BOSNE ...</td>\n",
       "      <td>B</td>\n",
       "      <td>82</td>\n",
       "    </tr>\n",
       "    <tr>\n",
       "      <th>1118</th>\n",
       "      <td>grad mostar</td>\n",
       "      <td>2014</td>\n",
       "      <td>TUZLIĆ HALIL - TUZLIĆ HALIL</td>\n",
       "      <td>B</td>\n",
       "      <td>58</td>\n",
       "    </tr>\n",
       "    <tr>\n",
       "      <th>1119</th>\n",
       "      <td>grad mostar</td>\n",
       "      <td>2014</td>\n",
       "      <td>ŽIGIĆ ADIL - ŽIGIĆ ADIL</td>\n",
       "      <td>B</td>\n",
       "      <td>41</td>\n",
       "    </tr>\n",
       "  </tbody>\n",
       "</table>\n",
       "<p>1120 rows × 5 columns</p>\n",
       "</div>"
      ],
      "text/plain": [
       "     municipality_name  year  \\\n",
       "0       velika kladusa  2014   \n",
       "1       velika kladusa  2014   \n",
       "2       velika kladusa  2014   \n",
       "3       velika kladusa  2014   \n",
       "4       velika kladusa  2014   \n",
       "...                ...   ...   \n",
       "1115       grad mostar  2014   \n",
       "1116       grad mostar  2014   \n",
       "1117       grad mostar  2014   \n",
       "1118       grad mostar  2014   \n",
       "1119       grad mostar  2014   \n",
       "\n",
       "                                                   name ethnicity  votes  \n",
       "0           RADONČIĆ FAHRUDIN - SBB - FAHRUDIN RADONČIĆ         B   3210  \n",
       "1     IZETBEGOVIĆ BAKIR - SDA - STRANKA DEMOKRATSKE ...         B   3034  \n",
       "2           BUDIMIR ŽIVKO - STRANKA PRAVDE I POVJERENJA         C   1400  \n",
       "3     HADŽIOMEROVIĆ BAKIR - SDP-SOCIJALDEMOKRATSKA P...         B   1390  \n",
       "4      SULJAGIĆ EMIR - DEMOKRATSKA FRONTA-ŽELJKO KOMŠIĆ         B    917  \n",
       "...                                                 ...       ...    ...  \n",
       "1115    POPOVIĆ ANTO - DEMOKRATSKA FRONTA-ŽELJKO KOMŠIĆ         C    280  \n",
       "1116                          KEBO MIRSAD - KEBO MIRSAD         B    171  \n",
       "1117  BAJRAMOVIĆ DŽEBRAIL - STRANKA DIJASPORE BOSNE ...         B     82  \n",
       "1118                        TUZLIĆ HALIL - TUZLIĆ HALIL         B     58  \n",
       "1119                            ŽIGIĆ ADIL - ŽIGIĆ ADIL         B     41  \n",
       "\n",
       "[1120 rows x 5 columns]"
      ]
     },
     "execution_count": 24,
     "metadata": {},
     "output_type": "execute_result"
    }
   ],
   "source": [
    "df"
   ]
  },
  {
   "cell_type": "markdown",
   "id": "cfd9b7d9-9083-4712-8a99-fd1247febd4a",
   "metadata": {},
   "source": [
    "It works"
   ]
  },
  {
   "cell_type": "markdown",
   "id": "fd78b330-908b-4d2f-b9b2-e05626ba19f1",
   "metadata": {},
   "source": [
    "## 2010"
   ]
  },
  {
   "cell_type": "code",
   "execution_count": 25,
   "id": "2eedc99f-d343-4337-967d-8324268dcd86",
   "metadata": {},
   "outputs": [
    {
     "name": "stdout",
     "output_type": "stream",
     "text": [
      "Successfully inserted 1 year.\n"
     ]
    }
   ],
   "source": [
    "insert_year(2010)"
   ]
  },
  {
   "cell_type": "markdown",
   "id": "69681202-ba16-4177-958e-63367f56240b",
   "metadata": {},
   "source": [
    "### 2: Insert into Municipalities"
   ]
  },
  {
   "cell_type": "markdown",
   "id": "7793fcde-968f-4a7c-97bb-8c9ad2e5cce8",
   "metadata": {},
   "source": [
    "`municips` defined in 2022 above in the same step."
   ]
  },
  {
   "cell_type": "code",
   "execution_count": 26,
   "id": "b3bf04ec-33dc-4a85-bfaf-9c4c3678d136",
   "metadata": {},
   "outputs": [
    {
     "name": "stdout",
     "output_type": "stream",
     "text": [
      "Successfully inserted 80 municipalites.\n"
     ]
    }
   ],
   "source": [
    "insert_municipalities(2010, municips)"
   ]
  },
  {
   "cell_type": "markdown",
   "id": "7700fb6a-ce46-4cd3-87a2-692a59239188",
   "metadata": {},
   "source": [
    "### 3: Insert into Candidates"
   ]
  },
  {
   "cell_type": "code",
   "execution_count": 27,
   "id": "6247a549-5a61-49cc-a017-53935be11d28",
   "metadata": {},
   "outputs": [
    {
     "name": "stdout",
     "output_type": "stream",
     "text": [
      "Successfully inserted 14 candidates.\n"
     ]
    }
   ],
   "source": [
    "candidates = [\n",
    "    (\"IZETBEGOVIĆ BAKIR - SDA - STRANKA DEMOKRATSKE AKCIJE\", \"B\"),\n",
    "    (\"RADONČIĆ FAHRUDIN - SAVEZ ZA BOLJU BUDUĆNOST BIH - SBB BIH FAHRUDIN RADONČIĆ\", \"B\"),\n",
    "    (\"SILAJDŽIĆ HARIS - STRANKA ZA BOSNU I HERCEGOVINU\", \"B\"),\n",
    "    (\"ĐEDOVIĆ IBRAHIM - DEMOKRATSKA NARODNA ZAJEDNICA - DNZ BIH\", \"B\"),\n",
    "    (\"DEMIROVIĆ MUJO - BPS - SEFER HALILOVIĆ\", \"B\"),\n",
    "    (\"LATIĆ ĐEMAL - STRANKA DEMOKRATSKE AKTIVNOSTI A-sda\", \"B\"),\n",
    "    (\"SPAHIĆ IBRAHIM - GRAĐANSKA DEMOKRATSKA STRANKA BOSNE I HERCEGOVINE\", \"B\"),\n",
    "    (\"KEŠETOVIĆ IZUDIN - BOSS - BOSANSKA STRANKA - MIRNES AJANOVIĆ\", \"B\"),\n",
    "    (\"JUSIĆ AIDA - JUSIĆ AIDA - NEZAVISNI KANDIDAT\", \"B\"),\n",
    "    (\"KOMŠIĆ ŽELJKO - SDP - SOCIJALDEMOKRATSKA PARTIJA BIH\", \"C\"),\n",
    "    (\"KRIŠTO BORJANA - HDZ BIH - HRVATSKA DEMOKRATSKA ZAJEDNICA BOSNE I HERCEGOVINE\", \"C\"),\n",
    "    (\"RAGUŽ MARTIN - HRVATSKA KOALICIJA HDZ 1990 - HSP BIH\", \"C\"),\n",
    "    (\"IVANKOVIĆ-LIJANOVIĆ JERKO - NARODNA STRANKA RADOM ZA BOLJITAK\", \"C\"),\n",
    "    (\"GALIĆ PERO - GALIĆ PERO - NEOVISNI KANDIDAT\", \"C\"),\n",
    "    (\"KUTLE MILE - KUTLE MILE - NEOVISNI KANDIDAT\", \"C\"),\n",
    "    (\"GALIĆ FERDO - GALIĆ FERDO - NEOVISNI KANDIDAT\", \"C\"),\n",
    "]\n",
    "insert_candidates(candidates)"
   ]
  },
  {
   "cell_type": "markdown",
   "id": "8ac57961-35e5-4fef-a9c6-934e57d4ce35",
   "metadata": {},
   "source": [
    "### 4: Insert election results into CandidateResults"
   ]
  },
  {
   "cell_type": "markdown",
   "id": "45a06ea0-e65c-4a31-a007-e14af082f651",
   "metadata": {},
   "source": [
    "# TODO\n",
    "\n",
    "Even this website is not matched to 2014 ;(. So I gotta find a way to unify it..."
   ]
  },
  {
   "cell_type": "code",
   "execution_count": null,
   "id": "0ef3585a-4ad0-4f6f-b27f-8e6cf259d491",
   "metadata": {},
   "outputs": [],
   "source": [
    "url = \"https://www.izbori.ba/Finalni2010/Finalni/PredsjednistvoBiH/Nivo701702.aspx\"\n",
    "headless = True\n",
    "year = 2010\n",
    "# m_to_c defined in 2022 section\n",
    "\n"
   ]
  },
  {
   "cell_type": "markdown",
   "id": "2ff13436-7c48-4cfd-aff5-2400fa8521cf",
   "metadata": {},
   "source": [
    "### 5: Sanity Check"
   ]
  },
  {
   "cell_type": "code",
   "execution_count": 29,
   "id": "11f6df55-e99c-4a5f-a3a9-c4a67b4ea4df",
   "metadata": {},
   "outputs": [],
   "source": [
    "try:\n",
    "    conn = sqlite3.connect(SAVE_DIR + \"political_data.db\")\n",
    "\n",
    "    sql_query = \"\"\"\n",
    "        SELECT\n",
    "            m.name AS municipality_name,\n",
    "            y.year,\n",
    "            c.name,\n",
    "            c.ethnicity,\n",
    "            cr.votes\n",
    "        FROM \n",
    "            Municipalities as m\n",
    "        JOIN\n",
    "            Years AS y ON m.year_id = y.year_id\n",
    "        JOIN\n",
    "            CandidateResults AS cr ON m.municipality_id = cr.municipality_id\n",
    "        JOIN\n",
    "            Candidates AS c ON cr.candidate_id = c.candidate_id\n",
    "        WHERE y.year = 2010\n",
    "    \"\"\"\n",
    "\n",
    "    df = pd.read_sql_query(sql_query, conn)\n",
    "except sqlite3.Error as e:\n",
    "    print(f\"An error occurred: {e}\")\n",
    "finally:\n",
    "    conn.close()"
   ]
  },
  {
   "cell_type": "code",
   "execution_count": null,
   "id": "85f1d3fe-df65-4a11-86cf-f7bf5fb69ea1",
   "metadata": {},
   "outputs": [],
   "source": [
    "df"
   ]
  },
  {
   "cell_type": "markdown",
   "id": "c2800c87-38d9-454b-b6c6-fd6eafc182b4",
   "metadata": {},
   "source": [
    "It works"
   ]
  }
 ],
 "metadata": {
  "kernelspec": {
   "display_name": "Python 3 (ipykernel)",
   "language": "python",
   "name": "python3"
  },
  "language_info": {
   "codemirror_mode": {
    "name": "ipython",
    "version": 3
   },
   "file_extension": ".py",
   "mimetype": "text/x-python",
   "name": "python",
   "nbconvert_exporter": "python",
   "pygments_lexer": "ipython3",
   "version": "3.12.5"
  }
 },
 "nbformat": 4,
 "nbformat_minor": 5
}
