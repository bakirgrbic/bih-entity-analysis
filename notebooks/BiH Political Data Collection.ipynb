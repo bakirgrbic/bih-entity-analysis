{
 "cells": [
  {
   "cell_type": "markdown",
   "id": "aa6f2411-13db-44cf-a798-6abd1476f74c",
   "metadata": {},
   "source": [
    "# BiH Political Data Collection\n",
    "\n",
    "Voting data for the following years obtained from the [Central Election Commission BiH](https://www.izbori.ba/?Lang=6). Used to control for ethnic concentration and policy preferences.\n",
    "* [2010](https://www.izbori.ba/Finalni2010/Finalni/PredsjednistvoBiH/Nivo701702.aspx)\n",
    "* [2014](https://www.izbori.ba/Potvrdjeni2014/Finalni/PredsjednistvoBiH/Nivo703.aspx)\n",
    "* [2018](https://www.izbori.ba/rezultati_izbora?resId=25&langId=4#/1/2/0/0/703)\n",
    "* [2022](https://www.izbori.ba/Rezultati_izbora/?resId=32&langId=4#/1/1/0/0/701)\n",
    "\n",
    "I will be focusing on the voting data associated with the presidential elections of the country. For reference, there are three presidents in BiH, one for each major ethnic group and the Bosniak and Croat ones are voted for in FBiH. As my analysis is limited to FBiH, I will only collect data on those two presidential races.\n",
    "\n",
    "The great thing about the presidential voting data is that the website classifies each candidate to be a Bosniak or Croat so I can avoid needing to make the decision of which party or candidate represents a specific ethnic group.\n",
    "\n",
    "I will be scraping the data from the above websites and as they do not have a robots.txt, I will assume they are okay with me doing this."
   ]
  },
  {
   "cell_type": "markdown",
   "id": "bde07b4e-24fb-48f9-9b5e-2a07e312557e",
   "metadata": {},
   "source": [
    "## Prerequisites"
   ]
  },
  {
   "cell_type": "code",
   "execution_count": 132,
   "id": "2afb5e5a-7ede-4293-8c7a-e8b44377aafa",
   "metadata": {},
   "outputs": [],
   "source": [
    "import json\n",
    "import requests\n",
    "import sqlite3\n",
    "\n",
    "import bs4 as bs\n",
    "import pandas as pd\n",
    "\n",
    "from config import SAVE_DIR"
   ]
  },
  {
   "cell_type": "markdown",
   "id": "abe93a55-82e5-41f3-bb59-8d6183021ed8",
   "metadata": {},
   "source": [
    "Going to set up the schema for the database and save the db file in the processed folder. "
   ]
  },
  {
   "cell_type": "code",
   "execution_count": 110,
   "id": "94f4f0a3-04e2-40e9-aa97-87a15eb8cbb1",
   "metadata": {},
   "outputs": [],
   "source": [
    "conn = sqlite3.connect(SAVE_DIR + 'political_data.db')\n",
    "conn.execute('PRAGMA foreign_keys = ON')\n",
    "\n",
    "cursor = conn.cursor()\n",
    "\n",
    "cursor.execute(\"\"\"\n",
    "        CREATE TABLE IF NOT EXISTS Years (\n",
    "            year_id INTEGER PRIMARY KEY,\n",
    "            year    INTEGER UNIQUE\n",
    "        ) STRICT\n",
    "    \"\"\")\n",
    "\n",
    "cursor.execute(\"\"\"\n",
    "        CREATE TABLE IF NOT EXISTS Candidates (\n",
    "            candidate_id INTEGER PRIMARY KEY,\n",
    "            name         TEXT UNIQUE,\n",
    "            ethnicity    TEXT\n",
    "        ) STRICT\n",
    "    \"\"\")\n",
    "\n",
    "cursor.execute(\"\"\"\n",
    "        CREATE TABLE IF NOT EXISTS Municipalities (\n",
    "            municipality_id INTEGER PRIMARY KEY,\n",
    "            year_id         INTEGER,\n",
    "            name            TEXT,\n",
    "            FOREIGN KEY (year_id) REFERENCES Years (year_id),\n",
    "            UNIQUE(name, year_id)\n",
    "        ) STRICT\n",
    "    \"\"\")\n",
    "\n",
    "cursor.execute(\"\"\"\n",
    "        CREATE TABLE IF NOT EXISTS CandidateResults (\n",
    "            result_id       INTEGER PRIMARY KEY,\n",
    "            municipality_id INTEGER,\n",
    "            candidate_id    INTEGER,\n",
    "            votes           INTEGER,\n",
    "            FOREIGN KEY (municipality_id) REFERENCES Municipalities (municipality_id),\n",
    "            FOREIGN KEY (candidate_id) REFERENCES Candidates (candidate_id)\n",
    "            UNIQUE(municipality_id, candidate_id, votes)\n",
    "        ) STRICT\n",
    "    \"\"\")\n",
    "\n",
    "conn.commit()\n",
    "conn.close()"
   ]
  },
  {
   "cell_type": "markdown",
   "id": "82f5a921-2a15-4027-ac91-43afd94cc181",
   "metadata": {},
   "source": [
    "## 2022"
   ]
  },
  {
   "cell_type": "markdown",
   "id": "d86c860c-5e15-445f-bc44-d024076f37c1",
   "metadata": {},
   "source": [
    "I will be starting with this since it is very similar to the 2018 website and is more modern than the 2014 or 2010 website which will likely require a different scraping script."
   ]
  },
  {
   "cell_type": "markdown",
   "id": "ee5529fb-69b4-44be-b79f-2f18af949c50",
   "metadata": {},
   "source": [
    "### 1: Populating Candidates with their ethnicities"
   ]
  },
  {
   "cell_type": "markdown",
   "id": "d6c3054c-f5d3-4925-947c-3fa801eaf784",
   "metadata": {},
   "source": [
    "Since this data is all on one page and to avoid making my scraping script more complicated I will do this by hand."
   ]
  },
  {
   "cell_type": "code",
   "execution_count": 111,
   "id": "eb547ae7-c2e4-403d-b34a-36462d5ea999",
   "metadata": {},
   "outputs": [],
   "source": [
    "def add_candidates(candidates: list[tuple()]):   \n",
    "    conn = sqlite3.connect(SAVE_DIR + 'political_data.db')\n",
    "    conn.execute('PRAGMA foreign_keys = ON')\n",
    "    \n",
    "    cursor = conn.cursor()\n",
    "    \n",
    "    sql_query = \"\"\"\n",
    "            INSERT INTO Candidates \n",
    "                (name, ethnicity)\n",
    "            VALUES (?, ?)\n",
    "            ON CONFLICT(name) DO NOTHING\n",
    "        \"\"\"\n",
    "    \n",
    "    try:\n",
    "        cursor.executemany(sql_query, candidates)\n",
    "        conn.commit()\n",
    "        print(f\"Successfully inserted {cursor.rowcount} candidates.\")\n",
    "    \n",
    "    except sqlite3.Error as e:\n",
    "        print(f\"An error occurred: {e}\")\n",
    "        conn.rollback()\n",
    "    \n",
    "    finally:\n",
    "        conn.close()"
   ]
  },
  {
   "cell_type": "code",
   "execution_count": 112,
   "id": "0879fab9-1fa2-442c-a287-fd78cf9bb7a0",
   "metadata": {},
   "outputs": [
    {
     "name": "stdout",
     "output_type": "stream",
     "text": [
      "Successfully inserted 5 candidates.\n"
     ]
    }
   ],
   "source": [
    "candidates = [\n",
    "    (\"DENIS BEĆIROVIĆ - UJEDINJENI ZA SLOBODNU BOSNU I HERCEGOVINU\", \"B\"),\n",
    "    (\"BAKIR IZETBEGOVIĆ - SDA - STRANKA DEMOKRATSKE AKCIJE\", \"B\"),\n",
    "    (\"MIRSAD HADŽIKADIĆ - PLATFORMA ZA PROGRES\", \"B\"),\n",
    "    (\"ŽELJKO KOMŠIĆ - DEMOKRATSKA FRONTA - DF\", \"C\"),\n",
    "    (\"BORJANA KRIŠTO - HDZ BIH-HRVATSKA DEMOKRATSKA ZAJEDNICA BOSNE I HERCEGOVINE\", \"C\"),\n",
    "]\n",
    "add_candidates(candidates)"
   ]
  },
  {
   "cell_type": "markdown",
   "id": "eb50199d-4f82-4186-8891-79c81e30201a",
   "metadata": {},
   "source": [
    "### 2: Create Scraping Script"
   ]
  },
  {
   "cell_type": "markdown",
   "id": "1fe39dc7-c26d-4d24-86fc-84661bd940e6",
   "metadata": {},
   "source": [
    "I got the following html from inspecting the dropdown for municipalities."
   ]
  },
  {
   "cell_type": "code",
   "execution_count": 113,
   "id": "d6b183ae-0fd7-4c15-b59a-81d9d1e3cc30",
   "metadata": {},
   "outputs": [],
   "source": [
    "scroll_down_html = \"\"\"\n",
    "<select class=\"ddlMenu ng-pristine ng-valid\" ng-model=\"electoralUnitSelectedId\" ng-change=\"race_1_ElectoralUnitChange()\">\n",
    "                        <option value=\"0\">-</option>\n",
    "                        <!-- ngRepeat: eu in electoralUnitList --><option ng-selected=\"false\" ng-repeat=\"eu in electoralUnitList\" value=\"1\" ng-class=\"{inactiveEu: !eu.active}\" class=\"ng-binding ng-scope\">VELIKA KLADUŠA (001)</option><!-- end ngRepeat: eu in electoralUnitList --><option ng-selected=\"true\" ng-repeat=\"eu in electoralUnitList\" value=\"2\" ng-class=\"{inactiveEu: !eu.active}\" class=\"ng-binding ng-scope\" selected=\"selected\">CAZIN (002)</option><!-- end ngRepeat: eu in electoralUnitList --><option ng-selected=\"false\" ng-repeat=\"eu in electoralUnitList\" value=\"3\" ng-class=\"{inactiveEu: !eu.active}\" class=\"ng-binding ng-scope\">BIHAĆ (003)</option><!-- end ngRepeat: eu in electoralUnitList --><option ng-selected=\"false\" ng-repeat=\"eu in electoralUnitList\" value=\"4\" ng-class=\"{inactiveEu: !eu.active}\" class=\"ng-binding ng-scope\">BOSANSKA KRUPA (004)</option><!-- end ngRepeat: eu in electoralUnitList --><option ng-selected=\"false\" ng-repeat=\"eu in electoralUnitList\" value=\"5\" ng-class=\"{inactiveEu: !eu.active}\" class=\"ng-binding ng-scope\">BUŽIM (005)</option><!-- end ngRepeat: eu in electoralUnitList --><option ng-selected=\"false\" ng-repeat=\"eu in electoralUnitList\" value=\"17\" ng-class=\"{inactiveEu: !eu.active}\" class=\"ng-binding ng-scope\">ODŽAK (017)</option><!-- end ngRepeat: eu in electoralUnitList --><option ng-selected=\"false\" ng-repeat=\"eu in electoralUnitList\" value=\"20\" ng-class=\"{inactiveEu: !eu.active}\" class=\"ng-binding ng-scope\">DOMALJEVAC - ŠAMAC (020)</option><!-- end ngRepeat: eu in electoralUnitList --><option ng-selected=\"false\" ng-repeat=\"eu in electoralUnitList\" value=\"22\" ng-class=\"{inactiveEu: !eu.active}\" class=\"ng-binding ng-scope\">ORAŠJE (022)</option><!-- end ngRepeat: eu in electoralUnitList --><option ng-selected=\"false\" ng-repeat=\"eu in electoralUnitList\" value=\"25\" ng-class=\"{inactiveEu: !eu.active}\" class=\"ng-binding ng-scope\">GRADAČAC (025)</option><!-- end ngRepeat: eu in electoralUnitList --><option ng-selected=\"false\" ng-repeat=\"eu in electoralUnitList\" value=\"27\" ng-class=\"{inactiveEu: !eu.active}\" class=\"ng-binding ng-scope\">BRČKO DISTRIKT BIH (OPCIJA FBIH) (027)</option><!-- end ngRepeat: eu in electoralUnitList --><option ng-selected=\"false\" ng-repeat=\"eu in electoralUnitList\" value=\"30\" ng-class=\"{inactiveEu: !eu.active}\" class=\"ng-binding ng-scope\">BOSANSKI PETROVAC (030)</option><!-- end ngRepeat: eu in electoralUnitList --><option ng-selected=\"false\" ng-repeat=\"eu in electoralUnitList\" value=\"32\" ng-class=\"{inactiveEu: !eu.active}\" class=\"ng-binding ng-scope\">SANSKI MOST (032)</option><!-- end ngRepeat: eu in electoralUnitList --><option ng-selected=\"false\" ng-repeat=\"eu in electoralUnitList\" value=\"36\" ng-class=\"{inactiveEu: !eu.active}\" class=\"ng-binding ng-scope\">DOBOJ ISTOK (036)</option><!-- end ngRepeat: eu in electoralUnitList --><option ng-selected=\"false\" ng-repeat=\"eu in electoralUnitList\" value=\"37\" ng-class=\"{inactiveEu: !eu.active}\" class=\"ng-binding ng-scope\">DOBOJ JUG (037)</option><!-- end ngRepeat: eu in electoralUnitList --><option ng-selected=\"false\" ng-repeat=\"eu in electoralUnitList\" value=\"39\" ng-class=\"{inactiveEu: !eu.active}\" class=\"ng-binding ng-scope\">TEŠANJ (039)</option><!-- end ngRepeat: eu in electoralUnitList --><option ng-selected=\"false\" ng-repeat=\"eu in electoralUnitList\" value=\"42\" ng-class=\"{inactiveEu: !eu.active}\" class=\"ng-binding ng-scope\">MAGLAJ (042)</option><!-- end ngRepeat: eu in electoralUnitList --><option ng-selected=\"false\" ng-repeat=\"eu in electoralUnitList\" value=\"44\" ng-class=\"{inactiveEu: !eu.active}\" class=\"ng-binding ng-scope\">GRAČANICA (044)</option><!-- end ngRepeat: eu in electoralUnitList --><option ng-selected=\"false\" ng-repeat=\"eu in electoralUnitList\" value=\"47\" ng-class=\"{inactiveEu: !eu.active}\" class=\"ng-binding ng-scope\">LUKAVAC (047)</option><!-- end ngRepeat: eu in electoralUnitList --><option ng-selected=\"false\" ng-repeat=\"eu in electoralUnitList\" value=\"49\" ng-class=\"{inactiveEu: !eu.active}\" class=\"ng-binding ng-scope\">SREBRENIK (049)</option><!-- end ngRepeat: eu in electoralUnitList --><option ng-selected=\"false\" ng-repeat=\"eu in electoralUnitList\" value=\"50\" ng-class=\"{inactiveEu: !eu.active}\" class=\"ng-binding ng-scope\">TUZLA (050)</option><!-- end ngRepeat: eu in electoralUnitList --><option ng-selected=\"false\" ng-repeat=\"eu in electoralUnitList\" value=\"52\" ng-class=\"{inactiveEu: !eu.active}\" class=\"ng-binding ng-scope\">ČELIĆ (052)</option><!-- end ngRepeat: eu in electoralUnitList --><option ng-selected=\"false\" ng-repeat=\"eu in electoralUnitList\" value=\"55\" ng-class=\"{inactiveEu: !eu.active}\" class=\"ng-binding ng-scope\">TEOČAK (055)</option><!-- end ngRepeat: eu in electoralUnitList --><option ng-selected=\"false\" ng-repeat=\"eu in electoralUnitList\" value=\"57\" ng-class=\"{inactiveEu: !eu.active}\" class=\"ng-binding ng-scope\">DRVAR (057)</option><!-- end ngRepeat: eu in electoralUnitList --><option ng-selected=\"false\" ng-repeat=\"eu in electoralUnitList\" value=\"59\" ng-class=\"{inactiveEu: !eu.active}\" class=\"ng-binding ng-scope\">KLJUČ (059)</option><!-- end ngRepeat: eu in electoralUnitList --><option ng-selected=\"false\" ng-repeat=\"eu in electoralUnitList\" value=\"65\" ng-class=\"{inactiveEu: !eu.active}\" class=\"ng-binding ng-scope\">JAJCE (065)</option><!-- end ngRepeat: eu in electoralUnitList --><option ng-selected=\"false\" ng-repeat=\"eu in electoralUnitList\" value=\"67\" ng-class=\"{inactiveEu: !eu.active}\" class=\"ng-binding ng-scope\">DOBRETIĆI (067)</option><!-- end ngRepeat: eu in electoralUnitList --><option ng-selected=\"false\" ng-repeat=\"eu in electoralUnitList\" value=\"75\" ng-class=\"{inactiveEu: !eu.active}\" class=\"ng-binding ng-scope\">ŽEPČE (075)</option><!-- end ngRepeat: eu in electoralUnitList --><option ng-selected=\"false\" ng-repeat=\"eu in electoralUnitList\" value=\"77\" ng-class=\"{inactiveEu: !eu.active}\" class=\"ng-binding ng-scope\">ZAVIDOVIĆI (077)</option><!-- end ngRepeat: eu in electoralUnitList --><option ng-selected=\"false\" ng-repeat=\"eu in electoralUnitList\" value=\"78\" ng-class=\"{inactiveEu: !eu.active}\" class=\"ng-binding ng-scope\">BANOVIĆI (078)</option><!-- end ngRepeat: eu in electoralUnitList --><option ng-selected=\"false\" ng-repeat=\"eu in electoralUnitList\" value=\"79\" ng-class=\"{inactiveEu: !eu.active}\" class=\"ng-binding ng-scope\">ŽIVINICE (079)</option><!-- end ngRepeat: eu in electoralUnitList --><option ng-selected=\"false\" ng-repeat=\"eu in electoralUnitList\" value=\"80\" ng-class=\"{inactiveEu: !eu.active}\" class=\"ng-binding ng-scope\">KALESIJA (080)</option><!-- end ngRepeat: eu in electoralUnitList --><option ng-selected=\"false\" ng-repeat=\"eu in electoralUnitList\" value=\"82\" ng-class=\"{inactiveEu: !eu.active}\" class=\"ng-binding ng-scope\">SAPNA (082)</option><!-- end ngRepeat: eu in electoralUnitList --><option ng-selected=\"false\" ng-repeat=\"eu in electoralUnitList\" value=\"84\" ng-class=\"{inactiveEu: !eu.active}\" class=\"ng-binding ng-scope\">BOSANSKO GRAHOVO (084)</option><!-- end ngRepeat: eu in electoralUnitList --><option ng-selected=\"false\" ng-repeat=\"eu in electoralUnitList\" value=\"85\" ng-class=\"{inactiveEu: !eu.active}\" class=\"ng-binding ng-scope\">GLAMOČ (085)</option><!-- end ngRepeat: eu in electoralUnitList --><option ng-selected=\"false\" ng-repeat=\"eu in electoralUnitList\" value=\"89\" ng-class=\"{inactiveEu: !eu.active}\" class=\"ng-binding ng-scope\">DONJI VAKUF (089)</option><!-- end ngRepeat: eu in electoralUnitList --><option ng-selected=\"false\" ng-repeat=\"eu in electoralUnitList\" value=\"91\" ng-class=\"{inactiveEu: !eu.active}\" class=\"ng-binding ng-scope\">TRAVNIK (091)</option><!-- end ngRepeat: eu in electoralUnitList --><option ng-selected=\"false\" ng-repeat=\"eu in electoralUnitList\" value=\"93\" ng-class=\"{inactiveEu: !eu.active}\" class=\"ng-binding ng-scope\">ZENICA (093)</option><!-- end ngRepeat: eu in electoralUnitList --><option ng-selected=\"false\" ng-repeat=\"eu in electoralUnitList\" value=\"94\" ng-class=\"{inactiveEu: !eu.active}\" class=\"ng-binding ng-scope\">KAKANJ (094)</option><!-- end ngRepeat: eu in electoralUnitList --><option ng-selected=\"false\" ng-repeat=\"eu in electoralUnitList\" value=\"95\" ng-class=\"{inactiveEu: !eu.active}\" class=\"ng-binding ng-scope\">VAREŠ (095)</option><!-- end ngRepeat: eu in electoralUnitList --><option ng-selected=\"false\" ng-repeat=\"eu in electoralUnitList\" value=\"96\" ng-class=\"{inactiveEu: !eu.active}\" class=\"ng-binding ng-scope\">OLOVO (096)</option><!-- end ngRepeat: eu in electoralUnitList --><option ng-selected=\"false\" ng-repeat=\"eu in electoralUnitList\" value=\"98\" ng-class=\"{inactiveEu: !eu.active}\" class=\"ng-binding ng-scope\">KLADANJ (098)</option><!-- end ngRepeat: eu in electoralUnitList --><option ng-selected=\"false\" ng-repeat=\"eu in electoralUnitList\" value=\"106\" ng-class=\"{inactiveEu: !eu.active}\" class=\"ng-binding ng-scope\">LIVNO (106)</option><!-- end ngRepeat: eu in electoralUnitList --><option ng-selected=\"false\" ng-repeat=\"eu in electoralUnitList\" value=\"107\" ng-class=\"{inactiveEu: !eu.active}\" class=\"ng-binding ng-scope\">KUPRES (107)</option><!-- end ngRepeat: eu in electoralUnitList --><option ng-selected=\"false\" ng-repeat=\"eu in electoralUnitList\" value=\"109\" ng-class=\"{inactiveEu: !eu.active}\" class=\"ng-binding ng-scope\">BUGOJNO (109)</option><!-- end ngRepeat: eu in electoralUnitList --><option ng-selected=\"false\" ng-repeat=\"eu in electoralUnitList\" value=\"110\" ng-class=\"{inactiveEu: !eu.active}\" class=\"ng-binding ng-scope\">GORNJI VAKUF - USKOPLJE (110)</option><!-- end ngRepeat: eu in electoralUnitList --><option ng-selected=\"false\" ng-repeat=\"eu in electoralUnitList\" value=\"111\" ng-class=\"{inactiveEu: !eu.active}\" class=\"ng-binding ng-scope\">NOVI TRAVNIK (111)</option><!-- end ngRepeat: eu in electoralUnitList --><option ng-selected=\"false\" ng-repeat=\"eu in electoralUnitList\" value=\"112\" ng-class=\"{inactiveEu: !eu.active}\" class=\"ng-binding ng-scope\">VITEZ (112)</option><!-- end ngRepeat: eu in electoralUnitList --><option ng-selected=\"false\" ng-repeat=\"eu in electoralUnitList\" value=\"113\" ng-class=\"{inactiveEu: !eu.active}\" class=\"ng-binding ng-scope\">BUSOVAČA (113)</option><!-- end ngRepeat: eu in electoralUnitList --><option ng-selected=\"false\" ng-repeat=\"eu in electoralUnitList\" value=\"114\" ng-class=\"{inactiveEu: !eu.active}\" class=\"ng-binding ng-scope\">FOJNICA (114)</option><!-- end ngRepeat: eu in electoralUnitList --><option ng-selected=\"false\" ng-repeat=\"eu in electoralUnitList\" value=\"115\" ng-class=\"{inactiveEu: !eu.active}\" class=\"ng-binding ng-scope\">KISELJAK (115)</option><!-- end ngRepeat: eu in electoralUnitList --><option ng-selected=\"false\" ng-repeat=\"eu in electoralUnitList\" value=\"116\" ng-class=\"{inactiveEu: !eu.active}\" class=\"ng-binding ng-scope\">VISOKO (116)</option><!-- end ngRepeat: eu in electoralUnitList --><option ng-selected=\"false\" ng-repeat=\"eu in electoralUnitList\" value=\"117\" ng-class=\"{inactiveEu: !eu.active}\" class=\"ng-binding ng-scope\">BREZA (117)</option><!-- end ngRepeat: eu in electoralUnitList --><option ng-selected=\"false\" ng-repeat=\"eu in electoralUnitList\" value=\"118\" ng-class=\"{inactiveEu: !eu.active}\" class=\"ng-binding ng-scope\">ILIJAŠ (118)</option><!-- end ngRepeat: eu in electoralUnitList --><option ng-selected=\"false\" ng-repeat=\"eu in electoralUnitList\" value=\"124\" ng-class=\"{inactiveEu: !eu.active}\" class=\"ng-binding ng-scope\">TOMISLAVGRAD (124)</option><!-- end ngRepeat: eu in electoralUnitList --><option ng-selected=\"false\" ng-repeat=\"eu in electoralUnitList\" value=\"125\" ng-class=\"{inactiveEu: !eu.active}\" class=\"ng-binding ng-scope\">PROZOR - RAMA (125)</option><!-- end ngRepeat: eu in electoralUnitList --><option ng-selected=\"false\" ng-repeat=\"eu in electoralUnitList\" value=\"126\" ng-class=\"{inactiveEu: !eu.active}\" class=\"ng-binding ng-scope\">JABLANICA (126)</option><!-- end ngRepeat: eu in electoralUnitList --><option ng-selected=\"false\" ng-repeat=\"eu in electoralUnitList\" value=\"127\" ng-class=\"{inactiveEu: !eu.active}\" class=\"ng-binding ng-scope\">KONJIC (127)</option><!-- end ngRepeat: eu in electoralUnitList --><option ng-selected=\"false\" ng-repeat=\"eu in electoralUnitList\" value=\"129\" ng-class=\"{inactiveEu: !eu.active}\" class=\"ng-binding ng-scope\">KREŠEVO (129)</option><!-- end ngRepeat: eu in electoralUnitList --><option ng-selected=\"false\" ng-repeat=\"eu in electoralUnitList\" value=\"130\" ng-class=\"{inactiveEu: !eu.active}\" class=\"ng-binding ng-scope\">HADŽIĆI (130)</option><!-- end ngRepeat: eu in electoralUnitList --><option ng-selected=\"false\" ng-repeat=\"eu in electoralUnitList\" value=\"131\" ng-class=\"{inactiveEu: !eu.active}\" class=\"ng-binding ng-scope\">ILIDŽA (131)</option><!-- end ngRepeat: eu in electoralUnitList --><option ng-selected=\"false\" ng-repeat=\"eu in electoralUnitList\" value=\"133\" ng-class=\"{inactiveEu: !eu.active}\" class=\"ng-binding ng-scope\">NOVI GRAD SARAJEVO (133)</option><!-- end ngRepeat: eu in electoralUnitList --><option ng-selected=\"false\" ng-repeat=\"eu in electoralUnitList\" value=\"135\" ng-class=\"{inactiveEu: !eu.active}\" class=\"ng-binding ng-scope\">VOGOŠĆA (135)</option><!-- end ngRepeat: eu in electoralUnitList --><option ng-selected=\"false\" ng-repeat=\"eu in electoralUnitList\" value=\"136\" ng-class=\"{inactiveEu: !eu.active}\" class=\"ng-binding ng-scope\">CENTAR SARAJEVO (136)</option><!-- end ngRepeat: eu in electoralUnitList --><option ng-selected=\"false\" ng-repeat=\"eu in electoralUnitList\" value=\"137\" ng-class=\"{inactiveEu: !eu.active}\" class=\"ng-binding ng-scope\">STARI GRAD SARAJEVO (137)</option><!-- end ngRepeat: eu in electoralUnitList --><option ng-selected=\"false\" ng-repeat=\"eu in electoralUnitList\" value=\"139\" ng-class=\"{inactiveEu: !eu.active}\" class=\"ng-binding ng-scope\">NOVO SARAJEVO (139)</option><!-- end ngRepeat: eu in electoralUnitList --><option ng-selected=\"false\" ng-repeat=\"eu in electoralUnitList\" value=\"141\" ng-class=\"{inactiveEu: !eu.active}\" class=\"ng-binding ng-scope\">TRNOVO (FBIH) (141)</option><!-- end ngRepeat: eu in electoralUnitList --><option ng-selected=\"false\" ng-repeat=\"eu in electoralUnitList\" value=\"143\" ng-class=\"{inactiveEu: !eu.active}\" class=\"ng-binding ng-scope\">PALE (FBIH) (143)</option><!-- end ngRepeat: eu in electoralUnitList --><option ng-selected=\"false\" ng-repeat=\"eu in electoralUnitList\" value=\"148\" ng-class=\"{inactiveEu: !eu.active}\" class=\"ng-binding ng-scope\">POSUŠJE (148)</option><!-- end ngRepeat: eu in electoralUnitList --><option ng-selected=\"false\" ng-repeat=\"eu in electoralUnitList\" value=\"149\" ng-class=\"{inactiveEu: !eu.active}\" class=\"ng-binding ng-scope\">GRUDE (149)</option><!-- end ngRepeat: eu in electoralUnitList --><option ng-selected=\"false\" ng-repeat=\"eu in electoralUnitList\" value=\"150\" ng-class=\"{inactiveEu: !eu.active}\" class=\"ng-binding ng-scope\">ŠIROKI BRIJEG (150)</option><!-- end ngRepeat: eu in electoralUnitList --><option ng-selected=\"false\" ng-repeat=\"eu in electoralUnitList\" value=\"165\" ng-class=\"{inactiveEu: !eu.active}\" class=\"ng-binding ng-scope\">FOČA (FBIH) (165)</option><!-- end ngRepeat: eu in electoralUnitList --><option ng-selected=\"false\" ng-repeat=\"eu in electoralUnitList\" value=\"167\" ng-class=\"{inactiveEu: !eu.active}\" class=\"ng-binding ng-scope\">GORAŽDE (167)</option><!-- end ngRepeat: eu in electoralUnitList --><option ng-selected=\"false\" ng-repeat=\"eu in electoralUnitList\" value=\"171\" ng-class=\"{inactiveEu: !eu.active}\" class=\"ng-binding ng-scope\">LJUBUŠKI (171)</option><!-- end ngRepeat: eu in electoralUnitList --><option ng-selected=\"false\" ng-repeat=\"eu in electoralUnitList\" value=\"172\" ng-class=\"{inactiveEu: !eu.active}\" class=\"ng-binding ng-scope\">ČITLUK (172)</option><!-- end ngRepeat: eu in electoralUnitList --><option ng-selected=\"false\" ng-repeat=\"eu in electoralUnitList\" value=\"173\" ng-class=\"{inactiveEu: !eu.active}\" class=\"ng-binding ng-scope\">ČAPLJINA (173)</option><!-- end ngRepeat: eu in electoralUnitList --><option ng-selected=\"false\" ng-repeat=\"eu in electoralUnitList\" value=\"174\" ng-class=\"{inactiveEu: !eu.active}\" class=\"ng-binding ng-scope\">NEUM (174)</option><!-- end ngRepeat: eu in electoralUnitList --><option ng-selected=\"false\" ng-repeat=\"eu in electoralUnitList\" value=\"176\" ng-class=\"{inactiveEu: !eu.active}\" class=\"ng-binding ng-scope\">STOLAC (176)</option><!-- end ngRepeat: eu in electoralUnitList --><option ng-selected=\"false\" ng-repeat=\"eu in electoralUnitList\" value=\"181\" ng-class=\"{inactiveEu: !eu.active}\" class=\"ng-binding ng-scope\">RAVNO (181)</option><!-- end ngRepeat: eu in electoralUnitList --><option ng-selected=\"false\" ng-repeat=\"eu in electoralUnitList\" value=\"183\" ng-class=\"{inactiveEu: !eu.active}\" class=\"ng-binding ng-scope\">USORA (183)</option><!-- end ngRepeat: eu in electoralUnitList --><option ng-selected=\"false\" ng-repeat=\"eu in electoralUnitList\" value=\"199\" ng-class=\"{inactiveEu: !eu.active}\" class=\"ng-binding ng-scope\">GRAD MOSTAR (199)</option><!-- end ngRepeat: eu in electoralUnitList -->\n",
    "                    </select>\n",
    "\"\"\"\n",
    "soup = bs.BeautifulSoup(scroll_down_html)"
   ]
  },
  {
   "cell_type": "markdown",
   "id": "a4b75db3-40f3-4ee1-b0c3-99af489e48c8",
   "metadata": {},
   "source": [
    "To now iterate and organize them."
   ]
  },
  {
   "cell_type": "code",
   "execution_count": 114,
   "id": "807fb545-aa0d-4b23-b649-fd405940d502",
   "metadata": {},
   "outputs": [],
   "source": [
    "soup = bs.BeautifulSoup(scroll_down_html)\n",
    "municipality_to_code = {\n",
    "    option.text.split(\"(\")[0].strip().lower() : int(option.get(\"value\"))\n",
    "    for option in soup.find_all(\"option\")\n",
    "    if int(option.get(\"value\")) != 0\n",
    "}"
   ]
  },
  {
   "cell_type": "markdown",
   "id": "e085f152-80a8-4665-85f5-f9a09b2fde9c",
   "metadata": {},
   "source": [
    "To make inserting into the db faster I will prefill it with municipality and year."
   ]
  },
  {
   "cell_type": "code",
   "execution_count": 115,
   "id": "f2b61359-7413-407e-a7ef-9227af0401e8",
   "metadata": {},
   "outputs": [],
   "source": [
    "def add_year(year: int):\n",
    "    conn = sqlite3.connect(SAVE_DIR + 'political_data.db')\n",
    "    conn.execute('PRAGMA foreign_keys = ON')\n",
    "    \n",
    "    cursor = conn.cursor()\n",
    "    \n",
    "    sql_query = \"\"\"\n",
    "            INSERT INTO Years \n",
    "                (year)\n",
    "            VALUES (?)\n",
    "            ON CONFLICT(year) DO NOTHING\n",
    "        \"\"\"\n",
    "    \n",
    "    try:\n",
    "        cursor.execute(sql_query, (year,))\n",
    "        conn.commit()\n",
    "        print(f\"Successfully inserted {cursor.rowcount} year.\")\n",
    "    \n",
    "    except sqlite3.Error as e:\n",
    "        print(f\"An error occurred: {e}\")\n",
    "        conn.rollback()\n",
    "    \n",
    "    finally:\n",
    "        conn.close()"
   ]
  },
  {
   "cell_type": "code",
   "execution_count": 116,
   "id": "32830682-92ab-40a3-ac91-b9c1d9874a13",
   "metadata": {},
   "outputs": [
    {
     "name": "stdout",
     "output_type": "stream",
     "text": [
      "Successfully inserted 1 year.\n"
     ]
    }
   ],
   "source": [
    "add_year(2022)"
   ]
  },
  {
   "cell_type": "markdown",
   "id": "4c41e67d-bfee-490a-8f61-8c56c925524b",
   "metadata": {},
   "source": [
    "To add the municipalities and relate them to the correct year."
   ]
  },
  {
   "cell_type": "code",
   "execution_count": 117,
   "id": "ccc7f716-2041-4c5e-b24f-9253e667b876",
   "metadata": {},
   "outputs": [],
   "source": [
    "def get_year_id(year: int):\n",
    "    year_id = None\n",
    "    conn = sqlite3.connect(SAVE_DIR + 'political_data.db')\n",
    "    conn.execute('PRAGMA foreign_keys = ON')\n",
    "    \n",
    "    cursor = conn.cursor()\n",
    "    \n",
    "    sql_query = \"\"\"\n",
    "            SELECT * FROM Years\n",
    "            WHERE Years.year = (?)\n",
    "        \"\"\"\n",
    "    \n",
    "    try:\n",
    "        cursor.execute(sql_query, (year,))\n",
    "        year_id = cursor.fetchone()\n",
    "    \n",
    "    except sqlite3.Error as e:\n",
    "        print(f\"An error occurred: {e}\")\n",
    "        conn.rollback()\n",
    "    \n",
    "    finally:\n",
    "        conn.close()\n",
    "\n",
    "    return year_id[0]"
   ]
  },
  {
   "cell_type": "code",
   "execution_count": 118,
   "id": "a17628b2-7647-4d4c-af53-4dc93f71aaa9",
   "metadata": {},
   "outputs": [
    {
     "data": {
      "text/plain": [
       "1"
      ]
     },
     "execution_count": 118,
     "metadata": {},
     "output_type": "execute_result"
    }
   ],
   "source": [
    "current_year_id = get_year_id(2022)\n",
    "current_year_id"
   ]
  },
  {
   "cell_type": "markdown",
   "id": "002ddc58-05c4-4456-8e48-35040013ce5b",
   "metadata": {},
   "source": [
    "So its easier to merge later, I will encode it following the same as the other tables."
   ]
  },
  {
   "cell_type": "code",
   "execution_count": 119,
   "id": "623a78b7-7130-4b85-aca1-c2190191237b",
   "metadata": {},
   "outputs": [
    {
     "data": {
      "text/plain": [
       "('bužim', 'bu?im')"
      ]
     },
     "execution_count": 119,
     "metadata": {},
     "output_type": "execute_result"
    }
   ],
   "source": [
    "municipalities = list(municipality_to_code.keys())\n",
    "municipalities[4], municipalities[4].encode(encoding=\"iso-8859-1\", errors=\"replace\").decode(\"UTF-8\")"
   ]
  },
  {
   "cell_type": "code",
   "execution_count": 120,
   "id": "c3ac9e77-0966-4e0a-895f-70d460a31cd2",
   "metadata": {},
   "outputs": [],
   "source": [
    "municipalities = map(\n",
    "    lambda x: x.encode(encoding=\"iso-8859-1\", errors=\"replace\").decode(\"UTF-8\"), \n",
    "    municipalities\n",
    ")"
   ]
  },
  {
   "cell_type": "code",
   "execution_count": 121,
   "id": "f2887c4f-046b-4924-9dba-7336fe520aec",
   "metadata": {},
   "outputs": [],
   "source": [
    "municipalities = [(name, current_year_id) for name in municipalities]\n",
    "# municipalities"
   ]
  },
  {
   "cell_type": "markdown",
   "id": "2056f3be-e5f1-4cc8-a7c6-4a55b13a8df4",
   "metadata": {},
   "source": [
    "Now to insert the municipalites to the year."
   ]
  },
  {
   "cell_type": "code",
   "execution_count": 124,
   "id": "4c6e50ea-afc9-4c21-b303-9e222180c0f3",
   "metadata": {},
   "outputs": [
    {
     "name": "stdout",
     "output_type": "stream",
     "text": [
      "Successfully inserted 0 municipalites.\n"
     ]
    }
   ],
   "source": [
    "conn = sqlite3.connect(SAVE_DIR + 'political_data.db')\n",
    "conn.execute('PRAGMA foreign_keys = ON')\n",
    "\n",
    "cursor = conn.cursor()\n",
    "\n",
    "sql_query = \"\"\"\n",
    "        INSERT INTO Municipalities \n",
    "            (name, year_id)\n",
    "        VALUES (?, ?)\n",
    "        ON CONFLICT(name, year_id) DO NOTHING\n",
    "    \"\"\"\n",
    "\n",
    "try:\n",
    "    cursor.executemany(sql_query, municipalities)\n",
    "    conn.commit()\n",
    "    print(f\"Successfully inserted {cursor.rowcount} municipalites.\")\n",
    "\n",
    "except sqlite3.Error as e:\n",
    "    print(f\"An error occurred: {e}\")\n",
    "    conn.rollback()\n",
    "\n",
    "finally:\n",
    "    conn.close()"
   ]
  },
  {
   "cell_type": "markdown",
   "id": "e73b7e33-fe4b-4342-909f-18b205a6d09f",
   "metadata": {},
   "source": [
    "To get the municpal db ids for this year to have easier time inserting them."
   ]
  },
  {
   "cell_type": "code",
   "execution_count": 125,
   "id": "bc963fe5-e59c-4c75-94a6-97eb4011f5f9",
   "metadata": {},
   "outputs": [],
   "source": [
    "def get_municipality_id_per_year(year: int) -> dict:\n",
    "    year_id = get_year_id(year)\n",
    "    municipalites_this_year = None\n",
    "\n",
    "    conn = sqlite3.connect(SAVE_DIR + 'political_data.db')\n",
    "    conn.execute('PRAGMA foreign_keys = ON')\n",
    "    \n",
    "    cursor = conn.cursor()\n",
    "    \n",
    "    sql_query = \"\"\"\n",
    "            SELECT * FROM Municipalities\n",
    "            WHERE Municipalities.year_id = (?)\n",
    "        \"\"\"\n",
    "    \n",
    "    try:\n",
    "        cursor.execute(sql_query, (year_id,))\n",
    "        conn.commit()\n",
    "        municipalites_this_year = cursor.fetchall()\n",
    "    \n",
    "    except sqlite3.Error as e:\n",
    "        print(f\"An error occurred: {e}\")\n",
    "        conn.rollback()\n",
    "    \n",
    "    finally:\n",
    "        conn.close()\n",
    "\n",
    "    return {name : municip_id for municip_id, _, name in municipalites_this_year}"
   ]
  },
  {
   "cell_type": "code",
   "execution_count": 126,
   "id": "d73c8903-0742-4ac6-9772-1171866ae806",
   "metadata": {},
   "outputs": [],
   "source": [
    "# get_municipality_id_per_year(2022)"
   ]
  },
  {
   "cell_type": "markdown",
   "id": "47af0339-9bbe-41e4-8cc7-f0ab4af20379",
   "metadata": {},
   "source": [
    "Need a way to get candidates and their ids to insert into CandidateResults."
   ]
  },
  {
   "cell_type": "code",
   "execution_count": 127,
   "id": "bcbc9815-c299-4662-8b00-a2f5508a3e62",
   "metadata": {},
   "outputs": [],
   "source": [
    "def get_candidate_id() -> dict:\n",
    "    candidates_id = None\n",
    "\n",
    "    conn = sqlite3.connect(SAVE_DIR + 'political_data.db')\n",
    "    conn.execute('PRAGMA foreign_keys = ON')\n",
    "    \n",
    "    cursor = conn.cursor()\n",
    "    \n",
    "    sql_query = \"\"\"\n",
    "            SELECT * FROM Candidates\n",
    "        \"\"\"\n",
    "    \n",
    "    try:\n",
    "        cursor.execute(sql_query)\n",
    "        conn.commit()\n",
    "        candidates_id = cursor.fetchall()\n",
    "    \n",
    "    except sqlite3.Error as e:\n",
    "        print(f\"An error occurred: {e}\")\n",
    "        conn.rollback()\n",
    "    \n",
    "    finally:\n",
    "        conn.close()\n",
    "\n",
    "    return {name : can_id for can_id, name, _ in candidates_id}"
   ]
  },
  {
   "cell_type": "code",
   "execution_count": 128,
   "id": "42e14722-0df6-42dd-b7e0-9cadfba1076c",
   "metadata": {},
   "outputs": [],
   "source": [
    "# get_candidate_id()"
   ]
  },
  {
   "cell_type": "markdown",
   "id": "914c9c3b-0520-4840-89ad-71021c38ab53",
   "metadata": {},
   "source": [
    "Now to have function to simplify inserting into CandidateResults."
   ]
  },
  {
   "cell_type": "code",
   "execution_count": 129,
   "id": "ea8226f8-0091-42ed-80e3-6b88a6545f73",
   "metadata": {},
   "outputs": [],
   "source": [
    "def insert_candidate_results(candidate_results, municipality, year):\n",
    "    candidate_ids = get_candidate_id()\n",
    "    municipality_ids = get_municipality_id_per_year(2022)    \n",
    "    batch = [(municipality_ids[municipality], candidate_ids[name], votes) for name, votes in candidate_results.items()]\n",
    "    \n",
    "    conn = sqlite3.connect(SAVE_DIR + 'political_data.db')\n",
    "    conn.execute('PRAGMA foreign_keys = ON')\n",
    "    \n",
    "    cursor = conn.cursor()\n",
    "    \n",
    "    sql_query = \"\"\"\n",
    "            INSERT INTO CandidateResults \n",
    "                (municipality_id, candidate_id, votes)\n",
    "            VALUES (?, ?, ?)\n",
    "            ON CONFLICT(municipality_id, candidate_id, votes) DO NOTHING\n",
    "        \"\"\"\n",
    "    \n",
    "    try:\n",
    "        cursor.executemany(sql_query, batch)\n",
    "        conn.commit()\n",
    "        print(f\"Successfully inserted {cursor.rowcount} candidate results for {municipality}.\")\n",
    "    \n",
    "    except sqlite3.Error as e:\n",
    "        print(f\"An error occurred: {e}\")\n",
    "        conn.rollback()\n",
    "    \n",
    "    finally:\n",
    "        conn.close()"
   ]
  },
  {
   "cell_type": "markdown",
   "id": "9b25c0b4-8c71-4d05-bfcb-aec8546f66a9",
   "metadata": {},
   "source": [
    "### 3: Scrape Data"
   ]
  },
  {
   "cell_type": "code",
   "execution_count": 130,
   "id": "4d26c0f6-cfcb-4c85-9150-ac14830a9406",
   "metadata": {},
   "outputs": [],
   "source": [
    "def scrape_2022():\n",
    "    year = 2022\n",
    "    headers = {\n",
    "        'Accept': 'application/json, text/plain, */*',\n",
    "        'Referer': 'https://www.izbori.ba/Rezultati_izbora/?resId=32&langId=4',\n",
    "        'User-Agent': 'Mozilla/5.0 (Macintosh; Intel Mac OS X 10_15_7) AppleWebKit/605.1.15 (KHTML, like Gecko) Version/18.6 Safari/605.1.15',\n",
    "        'Sec-Fetch-Mode': 'cors'\n",
    "    }\n",
    "    scroll_down_html = \"\"\"\n",
    "    <select class=\"ddlMenu ng-pristine ng-valid\" ng-model=\"electoralUnitSelectedId\" ng-change=\"race_1_ElectoralUnitChange()\">\n",
    "                            <option value=\"0\">-</option>\n",
    "                            <!-- ngRepeat: eu in electoralUnitList --><option ng-selected=\"false\" ng-repeat=\"eu in electoralUnitList\" value=\"1\" ng-class=\"{inactiveEu: !eu.active}\" class=\"ng-binding ng-scope\">VELIKA KLADUŠA (001)</option><!-- end ngRepeat: eu in electoralUnitList --><option ng-selected=\"true\" ng-repeat=\"eu in electoralUnitList\" value=\"2\" ng-class=\"{inactiveEu: !eu.active}\" class=\"ng-binding ng-scope\" selected=\"selected\">CAZIN (002)</option><!-- end ngRepeat: eu in electoralUnitList --><option ng-selected=\"false\" ng-repeat=\"eu in electoralUnitList\" value=\"3\" ng-class=\"{inactiveEu: !eu.active}\" class=\"ng-binding ng-scope\">BIHAĆ (003)</option><!-- end ngRepeat: eu in electoralUnitList --><option ng-selected=\"false\" ng-repeat=\"eu in electoralUnitList\" value=\"4\" ng-class=\"{inactiveEu: !eu.active}\" class=\"ng-binding ng-scope\">BOSANSKA KRUPA (004)</option><!-- end ngRepeat: eu in electoralUnitList --><option ng-selected=\"false\" ng-repeat=\"eu in electoralUnitList\" value=\"5\" ng-class=\"{inactiveEu: !eu.active}\" class=\"ng-binding ng-scope\">BUŽIM (005)</option><!-- end ngRepeat: eu in electoralUnitList --><option ng-selected=\"false\" ng-repeat=\"eu in electoralUnitList\" value=\"17\" ng-class=\"{inactiveEu: !eu.active}\" class=\"ng-binding ng-scope\">ODŽAK (017)</option><!-- end ngRepeat: eu in electoralUnitList --><option ng-selected=\"false\" ng-repeat=\"eu in electoralUnitList\" value=\"20\" ng-class=\"{inactiveEu: !eu.active}\" class=\"ng-binding ng-scope\">DOMALJEVAC - ŠAMAC (020)</option><!-- end ngRepeat: eu in electoralUnitList --><option ng-selected=\"false\" ng-repeat=\"eu in electoralUnitList\" value=\"22\" ng-class=\"{inactiveEu: !eu.active}\" class=\"ng-binding ng-scope\">ORAŠJE (022)</option><!-- end ngRepeat: eu in electoralUnitList --><option ng-selected=\"false\" ng-repeat=\"eu in electoralUnitList\" value=\"25\" ng-class=\"{inactiveEu: !eu.active}\" class=\"ng-binding ng-scope\">GRADAČAC (025)</option><!-- end ngRepeat: eu in electoralUnitList --><option ng-selected=\"false\" ng-repeat=\"eu in electoralUnitList\" value=\"27\" ng-class=\"{inactiveEu: !eu.active}\" class=\"ng-binding ng-scope\">BRČKO DISTRIKT BIH (OPCIJA FBIH) (027)</option><!-- end ngRepeat: eu in electoralUnitList --><option ng-selected=\"false\" ng-repeat=\"eu in electoralUnitList\" value=\"30\" ng-class=\"{inactiveEu: !eu.active}\" class=\"ng-binding ng-scope\">BOSANSKI PETROVAC (030)</option><!-- end ngRepeat: eu in electoralUnitList --><option ng-selected=\"false\" ng-repeat=\"eu in electoralUnitList\" value=\"32\" ng-class=\"{inactiveEu: !eu.active}\" class=\"ng-binding ng-scope\">SANSKI MOST (032)</option><!-- end ngRepeat: eu in electoralUnitList --><option ng-selected=\"false\" ng-repeat=\"eu in electoralUnitList\" value=\"36\" ng-class=\"{inactiveEu: !eu.active}\" class=\"ng-binding ng-scope\">DOBOJ ISTOK (036)</option><!-- end ngRepeat: eu in electoralUnitList --><option ng-selected=\"false\" ng-repeat=\"eu in electoralUnitList\" value=\"37\" ng-class=\"{inactiveEu: !eu.active}\" class=\"ng-binding ng-scope\">DOBOJ JUG (037)</option><!-- end ngRepeat: eu in electoralUnitList --><option ng-selected=\"false\" ng-repeat=\"eu in electoralUnitList\" value=\"39\" ng-class=\"{inactiveEu: !eu.active}\" class=\"ng-binding ng-scope\">TEŠANJ (039)</option><!-- end ngRepeat: eu in electoralUnitList --><option ng-selected=\"false\" ng-repeat=\"eu in electoralUnitList\" value=\"42\" ng-class=\"{inactiveEu: !eu.active}\" class=\"ng-binding ng-scope\">MAGLAJ (042)</option><!-- end ngRepeat: eu in electoralUnitList --><option ng-selected=\"false\" ng-repeat=\"eu in electoralUnitList\" value=\"44\" ng-class=\"{inactiveEu: !eu.active}\" class=\"ng-binding ng-scope\">GRAČANICA (044)</option><!-- end ngRepeat: eu in electoralUnitList --><option ng-selected=\"false\" ng-repeat=\"eu in electoralUnitList\" value=\"47\" ng-class=\"{inactiveEu: !eu.active}\" class=\"ng-binding ng-scope\">LUKAVAC (047)</option><!-- end ngRepeat: eu in electoralUnitList --><option ng-selected=\"false\" ng-repeat=\"eu in electoralUnitList\" value=\"49\" ng-class=\"{inactiveEu: !eu.active}\" class=\"ng-binding ng-scope\">SREBRENIK (049)</option><!-- end ngRepeat: eu in electoralUnitList --><option ng-selected=\"false\" ng-repeat=\"eu in electoralUnitList\" value=\"50\" ng-class=\"{inactiveEu: !eu.active}\" class=\"ng-binding ng-scope\">TUZLA (050)</option><!-- end ngRepeat: eu in electoralUnitList --><option ng-selected=\"false\" ng-repeat=\"eu in electoralUnitList\" value=\"52\" ng-class=\"{inactiveEu: !eu.active}\" class=\"ng-binding ng-scope\">ČELIĆ (052)</option><!-- end ngRepeat: eu in electoralUnitList --><option ng-selected=\"false\" ng-repeat=\"eu in electoralUnitList\" value=\"55\" ng-class=\"{inactiveEu: !eu.active}\" class=\"ng-binding ng-scope\">TEOČAK (055)</option><!-- end ngRepeat: eu in electoralUnitList --><option ng-selected=\"false\" ng-repeat=\"eu in electoralUnitList\" value=\"57\" ng-class=\"{inactiveEu: !eu.active}\" class=\"ng-binding ng-scope\">DRVAR (057)</option><!-- end ngRepeat: eu in electoralUnitList --><option ng-selected=\"false\" ng-repeat=\"eu in electoralUnitList\" value=\"59\" ng-class=\"{inactiveEu: !eu.active}\" class=\"ng-binding ng-scope\">KLJUČ (059)</option><!-- end ngRepeat: eu in electoralUnitList --><option ng-selected=\"false\" ng-repeat=\"eu in electoralUnitList\" value=\"65\" ng-class=\"{inactiveEu: !eu.active}\" class=\"ng-binding ng-scope\">JAJCE (065)</option><!-- end ngRepeat: eu in electoralUnitList --><option ng-selected=\"false\" ng-repeat=\"eu in electoralUnitList\" value=\"67\" ng-class=\"{inactiveEu: !eu.active}\" class=\"ng-binding ng-scope\">DOBRETIĆI (067)</option><!-- end ngRepeat: eu in electoralUnitList --><option ng-selected=\"false\" ng-repeat=\"eu in electoralUnitList\" value=\"75\" ng-class=\"{inactiveEu: !eu.active}\" class=\"ng-binding ng-scope\">ŽEPČE (075)</option><!-- end ngRepeat: eu in electoralUnitList --><option ng-selected=\"false\" ng-repeat=\"eu in electoralUnitList\" value=\"77\" ng-class=\"{inactiveEu: !eu.active}\" class=\"ng-binding ng-scope\">ZAVIDOVIĆI (077)</option><!-- end ngRepeat: eu in electoralUnitList --><option ng-selected=\"false\" ng-repeat=\"eu in electoralUnitList\" value=\"78\" ng-class=\"{inactiveEu: !eu.active}\" class=\"ng-binding ng-scope\">BANOVIĆI (078)</option><!-- end ngRepeat: eu in electoralUnitList --><option ng-selected=\"false\" ng-repeat=\"eu in electoralUnitList\" value=\"79\" ng-class=\"{inactiveEu: !eu.active}\" class=\"ng-binding ng-scope\">ŽIVINICE (079)</option><!-- end ngRepeat: eu in electoralUnitList --><option ng-selected=\"false\" ng-repeat=\"eu in electoralUnitList\" value=\"80\" ng-class=\"{inactiveEu: !eu.active}\" class=\"ng-binding ng-scope\">KALESIJA (080)</option><!-- end ngRepeat: eu in electoralUnitList --><option ng-selected=\"false\" ng-repeat=\"eu in electoralUnitList\" value=\"82\" ng-class=\"{inactiveEu: !eu.active}\" class=\"ng-binding ng-scope\">SAPNA (082)</option><!-- end ngRepeat: eu in electoralUnitList --><option ng-selected=\"false\" ng-repeat=\"eu in electoralUnitList\" value=\"84\" ng-class=\"{inactiveEu: !eu.active}\" class=\"ng-binding ng-scope\">BOSANSKO GRAHOVO (084)</option><!-- end ngRepeat: eu in electoralUnitList --><option ng-selected=\"false\" ng-repeat=\"eu in electoralUnitList\" value=\"85\" ng-class=\"{inactiveEu: !eu.active}\" class=\"ng-binding ng-scope\">GLAMOČ (085)</option><!-- end ngRepeat: eu in electoralUnitList --><option ng-selected=\"false\" ng-repeat=\"eu in electoralUnitList\" value=\"89\" ng-class=\"{inactiveEu: !eu.active}\" class=\"ng-binding ng-scope\">DONJI VAKUF (089)</option><!-- end ngRepeat: eu in electoralUnitList --><option ng-selected=\"false\" ng-repeat=\"eu in electoralUnitList\" value=\"91\" ng-class=\"{inactiveEu: !eu.active}\" class=\"ng-binding ng-scope\">TRAVNIK (091)</option><!-- end ngRepeat: eu in electoralUnitList --><option ng-selected=\"false\" ng-repeat=\"eu in electoralUnitList\" value=\"93\" ng-class=\"{inactiveEu: !eu.active}\" class=\"ng-binding ng-scope\">ZENICA (093)</option><!-- end ngRepeat: eu in electoralUnitList --><option ng-selected=\"false\" ng-repeat=\"eu in electoralUnitList\" value=\"94\" ng-class=\"{inactiveEu: !eu.active}\" class=\"ng-binding ng-scope\">KAKANJ (094)</option><!-- end ngRepeat: eu in electoralUnitList --><option ng-selected=\"false\" ng-repeat=\"eu in electoralUnitList\" value=\"95\" ng-class=\"{inactiveEu: !eu.active}\" class=\"ng-binding ng-scope\">VAREŠ (095)</option><!-- end ngRepeat: eu in electoralUnitList --><option ng-selected=\"false\" ng-repeat=\"eu in electoralUnitList\" value=\"96\" ng-class=\"{inactiveEu: !eu.active}\" class=\"ng-binding ng-scope\">OLOVO (096)</option><!-- end ngRepeat: eu in electoralUnitList --><option ng-selected=\"false\" ng-repeat=\"eu in electoralUnitList\" value=\"98\" ng-class=\"{inactiveEu: !eu.active}\" class=\"ng-binding ng-scope\">KLADANJ (098)</option><!-- end ngRepeat: eu in electoralUnitList --><option ng-selected=\"false\" ng-repeat=\"eu in electoralUnitList\" value=\"106\" ng-class=\"{inactiveEu: !eu.active}\" class=\"ng-binding ng-scope\">LIVNO (106)</option><!-- end ngRepeat: eu in electoralUnitList --><option ng-selected=\"false\" ng-repeat=\"eu in electoralUnitList\" value=\"107\" ng-class=\"{inactiveEu: !eu.active}\" class=\"ng-binding ng-scope\">KUPRES (107)</option><!-- end ngRepeat: eu in electoralUnitList --><option ng-selected=\"false\" ng-repeat=\"eu in electoralUnitList\" value=\"109\" ng-class=\"{inactiveEu: !eu.active}\" class=\"ng-binding ng-scope\">BUGOJNO (109)</option><!-- end ngRepeat: eu in electoralUnitList --><option ng-selected=\"false\" ng-repeat=\"eu in electoralUnitList\" value=\"110\" ng-class=\"{inactiveEu: !eu.active}\" class=\"ng-binding ng-scope\">GORNJI VAKUF - USKOPLJE (110)</option><!-- end ngRepeat: eu in electoralUnitList --><option ng-selected=\"false\" ng-repeat=\"eu in electoralUnitList\" value=\"111\" ng-class=\"{inactiveEu: !eu.active}\" class=\"ng-binding ng-scope\">NOVI TRAVNIK (111)</option><!-- end ngRepeat: eu in electoralUnitList --><option ng-selected=\"false\" ng-repeat=\"eu in electoralUnitList\" value=\"112\" ng-class=\"{inactiveEu: !eu.active}\" class=\"ng-binding ng-scope\">VITEZ (112)</option><!-- end ngRepeat: eu in electoralUnitList --><option ng-selected=\"false\" ng-repeat=\"eu in electoralUnitList\" value=\"113\" ng-class=\"{inactiveEu: !eu.active}\" class=\"ng-binding ng-scope\">BUSOVAČA (113)</option><!-- end ngRepeat: eu in electoralUnitList --><option ng-selected=\"false\" ng-repeat=\"eu in electoralUnitList\" value=\"114\" ng-class=\"{inactiveEu: !eu.active}\" class=\"ng-binding ng-scope\">FOJNICA (114)</option><!-- end ngRepeat: eu in electoralUnitList --><option ng-selected=\"false\" ng-repeat=\"eu in electoralUnitList\" value=\"115\" ng-class=\"{inactiveEu: !eu.active}\" class=\"ng-binding ng-scope\">KISELJAK (115)</option><!-- end ngRepeat: eu in electoralUnitList --><option ng-selected=\"false\" ng-repeat=\"eu in electoralUnitList\" value=\"116\" ng-class=\"{inactiveEu: !eu.active}\" class=\"ng-binding ng-scope\">VISOKO (116)</option><!-- end ngRepeat: eu in electoralUnitList --><option ng-selected=\"false\" ng-repeat=\"eu in electoralUnitList\" value=\"117\" ng-class=\"{inactiveEu: !eu.active}\" class=\"ng-binding ng-scope\">BREZA (117)</option><!-- end ngRepeat: eu in electoralUnitList --><option ng-selected=\"false\" ng-repeat=\"eu in electoralUnitList\" value=\"118\" ng-class=\"{inactiveEu: !eu.active}\" class=\"ng-binding ng-scope\">ILIJAŠ (118)</option><!-- end ngRepeat: eu in electoralUnitList --><option ng-selected=\"false\" ng-repeat=\"eu in electoralUnitList\" value=\"124\" ng-class=\"{inactiveEu: !eu.active}\" class=\"ng-binding ng-scope\">TOMISLAVGRAD (124)</option><!-- end ngRepeat: eu in electoralUnitList --><option ng-selected=\"false\" ng-repeat=\"eu in electoralUnitList\" value=\"125\" ng-class=\"{inactiveEu: !eu.active}\" class=\"ng-binding ng-scope\">PROZOR - RAMA (125)</option><!-- end ngRepeat: eu in electoralUnitList --><option ng-selected=\"false\" ng-repeat=\"eu in electoralUnitList\" value=\"126\" ng-class=\"{inactiveEu: !eu.active}\" class=\"ng-binding ng-scope\">JABLANICA (126)</option><!-- end ngRepeat: eu in electoralUnitList --><option ng-selected=\"false\" ng-repeat=\"eu in electoralUnitList\" value=\"127\" ng-class=\"{inactiveEu: !eu.active}\" class=\"ng-binding ng-scope\">KONJIC (127)</option><!-- end ngRepeat: eu in electoralUnitList --><option ng-selected=\"false\" ng-repeat=\"eu in electoralUnitList\" value=\"129\" ng-class=\"{inactiveEu: !eu.active}\" class=\"ng-binding ng-scope\">KREŠEVO (129)</option><!-- end ngRepeat: eu in electoralUnitList --><option ng-selected=\"false\" ng-repeat=\"eu in electoralUnitList\" value=\"130\" ng-class=\"{inactiveEu: !eu.active}\" class=\"ng-binding ng-scope\">HADŽIĆI (130)</option><!-- end ngRepeat: eu in electoralUnitList --><option ng-selected=\"false\" ng-repeat=\"eu in electoralUnitList\" value=\"131\" ng-class=\"{inactiveEu: !eu.active}\" class=\"ng-binding ng-scope\">ILIDŽA (131)</option><!-- end ngRepeat: eu in electoralUnitList --><option ng-selected=\"false\" ng-repeat=\"eu in electoralUnitList\" value=\"133\" ng-class=\"{inactiveEu: !eu.active}\" class=\"ng-binding ng-scope\">NOVI GRAD SARAJEVO (133)</option><!-- end ngRepeat: eu in electoralUnitList --><option ng-selected=\"false\" ng-repeat=\"eu in electoralUnitList\" value=\"135\" ng-class=\"{inactiveEu: !eu.active}\" class=\"ng-binding ng-scope\">VOGOŠĆA (135)</option><!-- end ngRepeat: eu in electoralUnitList --><option ng-selected=\"false\" ng-repeat=\"eu in electoralUnitList\" value=\"136\" ng-class=\"{inactiveEu: !eu.active}\" class=\"ng-binding ng-scope\">CENTAR SARAJEVO (136)</option><!-- end ngRepeat: eu in electoralUnitList --><option ng-selected=\"false\" ng-repeat=\"eu in electoralUnitList\" value=\"137\" ng-class=\"{inactiveEu: !eu.active}\" class=\"ng-binding ng-scope\">STARI GRAD SARAJEVO (137)</option><!-- end ngRepeat: eu in electoralUnitList --><option ng-selected=\"false\" ng-repeat=\"eu in electoralUnitList\" value=\"139\" ng-class=\"{inactiveEu: !eu.active}\" class=\"ng-binding ng-scope\">NOVO SARAJEVO (139)</option><!-- end ngRepeat: eu in electoralUnitList --><option ng-selected=\"false\" ng-repeat=\"eu in electoralUnitList\" value=\"141\" ng-class=\"{inactiveEu: !eu.active}\" class=\"ng-binding ng-scope\">TRNOVO (FBIH) (141)</option><!-- end ngRepeat: eu in electoralUnitList --><option ng-selected=\"false\" ng-repeat=\"eu in electoralUnitList\" value=\"143\" ng-class=\"{inactiveEu: !eu.active}\" class=\"ng-binding ng-scope\">PALE (FBIH) (143)</option><!-- end ngRepeat: eu in electoralUnitList --><option ng-selected=\"false\" ng-repeat=\"eu in electoralUnitList\" value=\"148\" ng-class=\"{inactiveEu: !eu.active}\" class=\"ng-binding ng-scope\">POSUŠJE (148)</option><!-- end ngRepeat: eu in electoralUnitList --><option ng-selected=\"false\" ng-repeat=\"eu in electoralUnitList\" value=\"149\" ng-class=\"{inactiveEu: !eu.active}\" class=\"ng-binding ng-scope\">GRUDE (149)</option><!-- end ngRepeat: eu in electoralUnitList --><option ng-selected=\"false\" ng-repeat=\"eu in electoralUnitList\" value=\"150\" ng-class=\"{inactiveEu: !eu.active}\" class=\"ng-binding ng-scope\">ŠIROKI BRIJEG (150)</option><!-- end ngRepeat: eu in electoralUnitList --><option ng-selected=\"false\" ng-repeat=\"eu in electoralUnitList\" value=\"165\" ng-class=\"{inactiveEu: !eu.active}\" class=\"ng-binding ng-scope\">FOČA (FBIH) (165)</option><!-- end ngRepeat: eu in electoralUnitList --><option ng-selected=\"false\" ng-repeat=\"eu in electoralUnitList\" value=\"167\" ng-class=\"{inactiveEu: !eu.active}\" class=\"ng-binding ng-scope\">GORAŽDE (167)</option><!-- end ngRepeat: eu in electoralUnitList --><option ng-selected=\"false\" ng-repeat=\"eu in electoralUnitList\" value=\"171\" ng-class=\"{inactiveEu: !eu.active}\" class=\"ng-binding ng-scope\">LJUBUŠKI (171)</option><!-- end ngRepeat: eu in electoralUnitList --><option ng-selected=\"false\" ng-repeat=\"eu in electoralUnitList\" value=\"172\" ng-class=\"{inactiveEu: !eu.active}\" class=\"ng-binding ng-scope\">ČITLUK (172)</option><!-- end ngRepeat: eu in electoralUnitList --><option ng-selected=\"false\" ng-repeat=\"eu in electoralUnitList\" value=\"173\" ng-class=\"{inactiveEu: !eu.active}\" class=\"ng-binding ng-scope\">ČAPLJINA (173)</option><!-- end ngRepeat: eu in electoralUnitList --><option ng-selected=\"false\" ng-repeat=\"eu in electoralUnitList\" value=\"174\" ng-class=\"{inactiveEu: !eu.active}\" class=\"ng-binding ng-scope\">NEUM (174)</option><!-- end ngRepeat: eu in electoralUnitList --><option ng-selected=\"false\" ng-repeat=\"eu in electoralUnitList\" value=\"176\" ng-class=\"{inactiveEu: !eu.active}\" class=\"ng-binding ng-scope\">STOLAC (176)</option><!-- end ngRepeat: eu in electoralUnitList --><option ng-selected=\"false\" ng-repeat=\"eu in electoralUnitList\" value=\"181\" ng-class=\"{inactiveEu: !eu.active}\" class=\"ng-binding ng-scope\">RAVNO (181)</option><!-- end ngRepeat: eu in electoralUnitList --><option ng-selected=\"false\" ng-repeat=\"eu in electoralUnitList\" value=\"183\" ng-class=\"{inactiveEu: !eu.active}\" class=\"ng-binding ng-scope\">USORA (183)</option><!-- end ngRepeat: eu in electoralUnitList --><option ng-selected=\"false\" ng-repeat=\"eu in electoralUnitList\" value=\"199\" ng-class=\"{inactiveEu: !eu.active}\" class=\"ng-binding ng-scope\">GRAD MOSTAR (199)</option><!-- end ngRepeat: eu in electoralUnitList -->\n",
    "                        </select>\n",
    "    \"\"\"\n",
    "    soup = bs.BeautifulSoup(scroll_down_html)\n",
    "    municipality_to_code = {\n",
    "        option.text.split(\"(\")[0].strip().lower() : int(option.get(\"value\"))\n",
    "        for option in soup.find_all(\"option\")\n",
    "        if int(option.get(\"value\")) != 0\n",
    "    }\n",
    "    \n",
    "    for municipality, code in municipality_to_code.items():\n",
    "        api_url = f'https://www.izbori.ba/api_2018/race1_electoralunitcandidatesresult/\"WebResult_2022GENT1_2022_4_20_14_10_43\"/{code}/4'\n",
    "        municipality =  municipality.encode(encoding=\"iso-8859-1\", errors=\"replace\").decode(\"UTF-8\")\n",
    "        \n",
    "        try:\n",
    "            response = requests.get(api_url, headers=headers)\n",
    "            response.raise_for_status()\n",
    "        \n",
    "            data = response.json()\n",
    "            candidate_resuslts = {result[\"name\"] : result[\"totalVotes\"] for result in data}\n",
    "            insert_candidate_results(candidate_resuslts, municipality, year)\n",
    "        \n",
    "        except requests.exceptions.RequestException as e:\n",
    "            print(f\"An error occurred: {e}\")\n",
    "        except requests.exceptions.JSONDecodeError:\n",
    "            print(\"Failed to decode JSON. The response was not JSON.\")\n",
    "            print(response.text)"
   ]
  },
  {
   "cell_type": "code",
   "execution_count": 131,
   "id": "c2958743-d272-4c1f-abfb-2120cbbfd6f3",
   "metadata": {},
   "outputs": [
    {
     "name": "stdout",
     "output_type": "stream",
     "text": [
      "Successfully inserted 5 candidate results for velika kladu?a.\n",
      "Successfully inserted 5 candidate results for cazin.\n",
      "Successfully inserted 5 candidate results for biha?.\n",
      "Successfully inserted 5 candidate results for bosanska krupa.\n",
      "Successfully inserted 5 candidate results for bu?im.\n",
      "Successfully inserted 5 candidate results for od?ak.\n",
      "Successfully inserted 5 candidate results for domaljevac - ?amac.\n",
      "Successfully inserted 5 candidate results for ora?je.\n",
      "Successfully inserted 5 candidate results for grada?ac.\n",
      "Successfully inserted 5 candidate results for br?ko distrikt bih.\n",
      "Successfully inserted 5 candidate results for bosanski petrovac.\n",
      "Successfully inserted 5 candidate results for sanski most.\n",
      "Successfully inserted 5 candidate results for doboj istok.\n",
      "Successfully inserted 5 candidate results for doboj jug.\n",
      "Successfully inserted 5 candidate results for te?anj.\n",
      "Successfully inserted 5 candidate results for maglaj.\n",
      "Successfully inserted 5 candidate results for gra?anica.\n",
      "Successfully inserted 5 candidate results for lukavac.\n",
      "Successfully inserted 5 candidate results for srebrenik.\n",
      "Successfully inserted 5 candidate results for tuzla.\n",
      "Successfully inserted 5 candidate results for ?eli?.\n",
      "Successfully inserted 5 candidate results for teo?ak.\n",
      "Successfully inserted 5 candidate results for drvar.\n",
      "Successfully inserted 5 candidate results for klju?.\n",
      "Successfully inserted 5 candidate results for jajce.\n",
      "Successfully inserted 5 candidate results for dobreti?i.\n",
      "Successfully inserted 5 candidate results for ?ep?e.\n",
      "Successfully inserted 5 candidate results for zavidovi?i.\n",
      "Successfully inserted 5 candidate results for banovi?i.\n",
      "Successfully inserted 5 candidate results for ?ivinice.\n",
      "Successfully inserted 5 candidate results for kalesija.\n",
      "Successfully inserted 5 candidate results for sapna.\n",
      "Successfully inserted 5 candidate results for bosansko grahovo.\n",
      "Successfully inserted 5 candidate results for glamo?.\n",
      "Successfully inserted 5 candidate results for donji vakuf.\n",
      "Successfully inserted 5 candidate results for travnik.\n",
      "Successfully inserted 5 candidate results for zenica.\n",
      "Successfully inserted 5 candidate results for kakanj.\n",
      "Successfully inserted 5 candidate results for vare?.\n",
      "Successfully inserted 5 candidate results for olovo.\n",
      "Successfully inserted 5 candidate results for kladanj.\n",
      "Successfully inserted 5 candidate results for livno.\n",
      "Successfully inserted 5 candidate results for kupres.\n",
      "Successfully inserted 5 candidate results for bugojno.\n",
      "Successfully inserted 5 candidate results for gornji vakuf - uskoplje.\n",
      "Successfully inserted 5 candidate results for novi travnik.\n",
      "Successfully inserted 5 candidate results for vitez.\n",
      "Successfully inserted 5 candidate results for busova?a.\n",
      "Successfully inserted 5 candidate results for fojnica.\n",
      "Successfully inserted 5 candidate results for kiseljak.\n",
      "Successfully inserted 5 candidate results for visoko.\n",
      "Successfully inserted 5 candidate results for breza.\n",
      "Successfully inserted 5 candidate results for ilija?.\n",
      "Successfully inserted 5 candidate results for tomislavgrad.\n",
      "Successfully inserted 5 candidate results for prozor - rama.\n",
      "Successfully inserted 5 candidate results for jablanica.\n",
      "Successfully inserted 5 candidate results for konjic.\n",
      "Successfully inserted 5 candidate results for kre?evo.\n",
      "Successfully inserted 5 candidate results for had?i?i.\n",
      "Successfully inserted 5 candidate results for ilid?a.\n",
      "Successfully inserted 5 candidate results for novi grad sarajevo.\n",
      "Successfully inserted 5 candidate results for vogo??a.\n",
      "Successfully inserted 5 candidate results for centar sarajevo.\n",
      "Successfully inserted 5 candidate results for stari grad sarajevo.\n",
      "Successfully inserted 5 candidate results for novo sarajevo.\n",
      "Successfully inserted 5 candidate results for trnovo.\n",
      "Successfully inserted 5 candidate results for pale.\n",
      "Successfully inserted 5 candidate results for posu?je.\n",
      "Successfully inserted 5 candidate results for grude.\n",
      "Successfully inserted 5 candidate results for ?iroki brijeg.\n",
      "Successfully inserted 5 candidate results for fo?a.\n",
      "Successfully inserted 5 candidate results for gora?de.\n",
      "Successfully inserted 5 candidate results for ljubu?ki.\n",
      "Successfully inserted 5 candidate results for ?itluk.\n",
      "Successfully inserted 5 candidate results for ?apljina.\n",
      "Successfully inserted 5 candidate results for neum.\n",
      "Successfully inserted 5 candidate results for stolac.\n",
      "Successfully inserted 5 candidate results for ravno.\n",
      "Successfully inserted 5 candidate results for usora.\n",
      "Successfully inserted 5 candidate results for grad mostar.\n"
     ]
    }
   ],
   "source": [
    "scrape_2022()"
   ]
  },
  {
   "cell_type": "markdown",
   "id": "ef15b851-5bd4-4b54-aa40-abcbbc170771",
   "metadata": {},
   "source": [
    "### 4: Sanity check that data was inserted properly and can be loaded by pandas."
   ]
  },
  {
   "cell_type": "code",
   "execution_count": 146,
   "id": "f1a2b7c0-1d14-4c6d-84e4-2a7aaa4b7b7b",
   "metadata": {},
   "outputs": [
    {
     "data": {
      "text/html": [
       "<div>\n",
       "<style scoped>\n",
       "    .dataframe tbody tr th:only-of-type {\n",
       "        vertical-align: middle;\n",
       "    }\n",
       "\n",
       "    .dataframe tbody tr th {\n",
       "        vertical-align: top;\n",
       "    }\n",
       "\n",
       "    .dataframe thead th {\n",
       "        text-align: right;\n",
       "    }\n",
       "</style>\n",
       "<table border=\"1\" class=\"dataframe\">\n",
       "  <thead>\n",
       "    <tr style=\"text-align: right;\">\n",
       "      <th></th>\n",
       "      <th>municipality_name</th>\n",
       "      <th>year</th>\n",
       "      <th>name</th>\n",
       "      <th>ethnicity</th>\n",
       "      <th>votes</th>\n",
       "    </tr>\n",
       "  </thead>\n",
       "  <tbody>\n",
       "    <tr>\n",
       "      <th>0</th>\n",
       "      <td>velika kladu?a</td>\n",
       "      <td>2022</td>\n",
       "      <td>DENIS BEĆIROVIĆ - UJEDINJENI ZA SLOBODNU BOSNU...</td>\n",
       "      <td>B</td>\n",
       "      <td>4662</td>\n",
       "    </tr>\n",
       "    <tr>\n",
       "      <th>1</th>\n",
       "      <td>velika kladu?a</td>\n",
       "      <td>2022</td>\n",
       "      <td>BAKIR IZETBEGOVIĆ - SDA - STRANKA DEMOKRATSKE ...</td>\n",
       "      <td>B</td>\n",
       "      <td>3039</td>\n",
       "    </tr>\n",
       "    <tr>\n",
       "      <th>2</th>\n",
       "      <td>velika kladu?a</td>\n",
       "      <td>2022</td>\n",
       "      <td>ŽELJKO KOMŠIĆ - DEMOKRATSKA FRONTA - DF</td>\n",
       "      <td>C</td>\n",
       "      <td>2999</td>\n",
       "    </tr>\n",
       "    <tr>\n",
       "      <th>3</th>\n",
       "      <td>velika kladu?a</td>\n",
       "      <td>2022</td>\n",
       "      <td>MIRSAD HADŽIKADIĆ - PLATFORMA ZA PROGRES</td>\n",
       "      <td>B</td>\n",
       "      <td>690</td>\n",
       "    </tr>\n",
       "    <tr>\n",
       "      <th>4</th>\n",
       "      <td>velika kladu?a</td>\n",
       "      <td>2022</td>\n",
       "      <td>BORJANA KRIŠTO - HDZ BIH-HRVATSKA DEMOKRATSKA ...</td>\n",
       "      <td>C</td>\n",
       "      <td>190</td>\n",
       "    </tr>\n",
       "    <tr>\n",
       "      <th>...</th>\n",
       "      <td>...</td>\n",
       "      <td>...</td>\n",
       "      <td>...</td>\n",
       "      <td>...</td>\n",
       "      <td>...</td>\n",
       "    </tr>\n",
       "    <tr>\n",
       "      <th>395</th>\n",
       "      <td>grad mostar</td>\n",
       "      <td>2022</td>\n",
       "      <td>BORJANA KRIŠTO - HDZ BIH-HRVATSKA DEMOKRATSKA ...</td>\n",
       "      <td>C</td>\n",
       "      <td>21651</td>\n",
       "    </tr>\n",
       "    <tr>\n",
       "      <th>396</th>\n",
       "      <td>grad mostar</td>\n",
       "      <td>2022</td>\n",
       "      <td>ŽELJKO KOMŠIĆ - DEMOKRATSKA FRONTA - DF</td>\n",
       "      <td>C</td>\n",
       "      <td>9332</td>\n",
       "    </tr>\n",
       "    <tr>\n",
       "      <th>397</th>\n",
       "      <td>grad mostar</td>\n",
       "      <td>2022</td>\n",
       "      <td>DENIS BEĆIROVIĆ - UJEDINJENI ZA SLOBODNU BOSNU...</td>\n",
       "      <td>B</td>\n",
       "      <td>8822</td>\n",
       "    </tr>\n",
       "    <tr>\n",
       "      <th>398</th>\n",
       "      <td>grad mostar</td>\n",
       "      <td>2022</td>\n",
       "      <td>BAKIR IZETBEGOVIĆ - SDA - STRANKA DEMOKRATSKE ...</td>\n",
       "      <td>B</td>\n",
       "      <td>6157</td>\n",
       "    </tr>\n",
       "    <tr>\n",
       "      <th>399</th>\n",
       "      <td>grad mostar</td>\n",
       "      <td>2022</td>\n",
       "      <td>MIRSAD HADŽIKADIĆ - PLATFORMA ZA PROGRES</td>\n",
       "      <td>B</td>\n",
       "      <td>822</td>\n",
       "    </tr>\n",
       "  </tbody>\n",
       "</table>\n",
       "<p>400 rows × 5 columns</p>\n",
       "</div>"
      ],
      "text/plain": [
       "    municipality_name  year  \\\n",
       "0      velika kladu?a  2022   \n",
       "1      velika kladu?a  2022   \n",
       "2      velika kladu?a  2022   \n",
       "3      velika kladu?a  2022   \n",
       "4      velika kladu?a  2022   \n",
       "..                ...   ...   \n",
       "395       grad mostar  2022   \n",
       "396       grad mostar  2022   \n",
       "397       grad mostar  2022   \n",
       "398       grad mostar  2022   \n",
       "399       grad mostar  2022   \n",
       "\n",
       "                                                  name ethnicity  votes  \n",
       "0    DENIS BEĆIROVIĆ - UJEDINJENI ZA SLOBODNU BOSNU...         B   4662  \n",
       "1    BAKIR IZETBEGOVIĆ - SDA - STRANKA DEMOKRATSKE ...         B   3039  \n",
       "2              ŽELJKO KOMŠIĆ - DEMOKRATSKA FRONTA - DF         C   2999  \n",
       "3             MIRSAD HADŽIKADIĆ - PLATFORMA ZA PROGRES         B    690  \n",
       "4    BORJANA KRIŠTO - HDZ BIH-HRVATSKA DEMOKRATSKA ...         C    190  \n",
       "..                                                 ...       ...    ...  \n",
       "395  BORJANA KRIŠTO - HDZ BIH-HRVATSKA DEMOKRATSKA ...         C  21651  \n",
       "396            ŽELJKO KOMŠIĆ - DEMOKRATSKA FRONTA - DF         C   9332  \n",
       "397  DENIS BEĆIROVIĆ - UJEDINJENI ZA SLOBODNU BOSNU...         B   8822  \n",
       "398  BAKIR IZETBEGOVIĆ - SDA - STRANKA DEMOKRATSKE ...         B   6157  \n",
       "399           MIRSAD HADŽIKADIĆ - PLATFORMA ZA PROGRES         B    822  \n",
       "\n",
       "[400 rows x 5 columns]"
      ]
     },
     "execution_count": 146,
     "metadata": {},
     "output_type": "execute_result"
    }
   ],
   "source": [
    "try:\n",
    "    conn = sqlite3.connect(SAVE_DIR + \"political_data.db\")\n",
    "\n",
    "    sql_query = \"\"\"\n",
    "        SELECT\n",
    "            m.name AS municipality_name,\n",
    "            y.year,\n",
    "            c.name,\n",
    "            c.ethnicity,\n",
    "            cr.votes\n",
    "        FROM \n",
    "            Municipalities as m\n",
    "        JOIN\n",
    "            Years AS y ON m.year_id = y.year_id\n",
    "        JOIN\n",
    "            CandidateResults AS cr ON m.municipality_id = cr.municipality_id\n",
    "        JOIN\n",
    "            Candidates AS c ON cr.candidate_id = c.candidate_id\n",
    "    \"\"\"\n",
    "\n",
    "    df = pd.read_sql_query(sql_query, conn)\n",
    "except sqlite3.Error as e:\n",
    "    print(f\"An error occurred: {e}\")\n",
    "finally:\n",
    "    conn.close()\n",
    "\n",
    "df"
   ]
  },
  {
   "cell_type": "markdown",
   "id": "0d5376d7-715d-478c-ae7b-10cb8745395e",
   "metadata": {},
   "source": [
    "The above checks out!"
   ]
  },
  {
   "cell_type": "markdown",
   "id": "8a944201-01c2-4a19-8b7b-60eb3455f658",
   "metadata": {},
   "source": [
    "## 2018"
   ]
  },
  {
   "cell_type": "markdown",
   "id": "d76fd975-cc4f-4797-bb78-017ce9e0c1e6",
   "metadata": {},
   "source": [
    "### 1: Insert year into Years"
   ]
  },
  {
   "cell_type": "code",
   "execution_count": 147,
   "id": "858499a2-676a-4eff-8529-022cd6bdeeff",
   "metadata": {},
   "outputs": [
    {
     "name": "stdout",
     "output_type": "stream",
     "text": [
      "Successfully inserted 1 year.\n"
     ]
    }
   ],
   "source": [
    "add_year(2018)"
   ]
  },
  {
   "cell_type": "markdown",
   "id": "77d786b2-93db-46d7-a1fb-03ea9d9cf78d",
   "metadata": {},
   "source": [
    "### 2: Insert candidates"
   ]
  },
  {
   "cell_type": "code",
   "execution_count": 148,
   "id": "f0aedabf-e209-42d8-8a2f-cd49a5fe48d3",
   "metadata": {},
   "outputs": [
    {
     "name": "stdout",
     "output_type": "stream",
     "text": [
      "Successfully inserted 11 candidates.\n"
     ]
    }
   ],
   "source": [
    "candidates = [\n",
    "    (\"DŽAFEROVIĆ ŠEFIK - SDA - STRANKA DEMOKRATSKE AKCIJE\", \"B\"),\n",
    "    (\"BEĆIROVIĆ DENIS - SDP - SOCIJALDEMOKRATSKA PARTIJA BOSNE I HERCEGOVINE\", \"B\"),\n",
    "    (\"RADONČIĆ FAHRUDIN - SBB-FAHRUDIN RADONČIĆ\", \"B\"),\n",
    "    (\"HADŽIKADIĆ MIRSAD - MIRSAD HADŽIKADIĆ-PLATFORMA ZA PROGRES\", \"B\"),\n",
    "    (\"ŠEPIĆ SENAD - NEZAVISNI BLOK\", \"B\"),\n",
    "    (\"JERLAGIĆ AMER - STRANKA ZA BOSNU I HERCEGOVINU\", \"B\"),\n",
    "    (\"KOMŠIĆ ŽELJKO - DEMOKRATSKA FRONTA\", \"C\"),\n",
    "    (\"ČOVIĆ DRAGAN - HDZ BIH-HRVATSKA DEMOKRATSKA ZAJEDNICA BOSNE I HERCEGOVINE\", \"C\"),\n",
    "    (\"ZELENIKA DIANA - HRVATSKA DEMOKRATSKA ZAJEDNICA 1990 - HDZ 1990\", \"C\"),\n",
    "    (\"FALATAR BORIŠA - NAŠA STRANKA\", \"C\"),\n",
    "    (\"IVANKOVIĆ-LIJANOVIĆ JERKO - NARODNA STRANKA RADOM ZA BOLJITAK\", \"C\"),\n",
    "]\n",
    "add_candidates(candidates)"
   ]
  },
  {
   "cell_type": "markdown",
   "id": "8f73fbac-ff47-4dcc-91ca-24cb50438b05",
   "metadata": {},
   "source": [
    "### 3: Reuse script from 2022 with modified api"
   ]
  },
  {
   "cell_type": "code",
   "execution_count": 149,
   "id": "b359525c-62df-4b59-8379-bdd0f849dd08",
   "metadata": {},
   "outputs": [],
   "source": [
    "def scrape_2018():\n",
    "    year = 2018\n",
    "    headers = {\n",
    "        'Accept': 'application/json, text/plain, */*',\n",
    "        'Referer': 'https://www.izbori.ba/Rezultati_izbora/?resId=32&langId=4',\n",
    "        'User-Agent': 'Mozilla/5.0 (Macintosh; Intel Mac OS X 10_15_7) AppleWebKit/605.1.15 (KHTML, like Gecko) Version/18.6 Safari/605.1.15',\n",
    "        'Sec-Fetch-Mode': 'cors'\n",
    "    }\n",
    "    scroll_down_html = \"\"\"\n",
    "    <select class=\"ddlMenu ng-pristine ng-valid\" ng-model=\"electoralUnitSelectedId\" ng-change=\"race_1_ElectoralUnitChange()\">\n",
    "                        <option value=\"0\">-</option>\n",
    "                        <!-- ngRepeat: eu in electoralUnitList --><option ng-selected=\"true\" ng-repeat=\"eu in electoralUnitList\" value=\"1\" ng-class=\"{inactiveEu: !eu.active}\" class=\"ng-binding ng-scope\" selected=\"selected\">VELIKA KLADUŠA (001)</option><!-- end ngRepeat: eu in electoralUnitList --><option ng-selected=\"false\" ng-repeat=\"eu in electoralUnitList\" value=\"2\" ng-class=\"{inactiveEu: !eu.active}\" class=\"ng-binding ng-scope\">CAZIN (002)</option><!-- end ngRepeat: eu in electoralUnitList --><option ng-selected=\"false\" ng-repeat=\"eu in electoralUnitList\" value=\"3\" ng-class=\"{inactiveEu: !eu.active}\" class=\"ng-binding ng-scope\">BIHAĆ (003)</option><!-- end ngRepeat: eu in electoralUnitList --><option ng-selected=\"false\" ng-repeat=\"eu in electoralUnitList\" value=\"4\" ng-class=\"{inactiveEu: !eu.active}\" class=\"ng-binding ng-scope\">BOSANSKA KRUPA (004)</option><!-- end ngRepeat: eu in electoralUnitList --><option ng-selected=\"false\" ng-repeat=\"eu in electoralUnitList\" value=\"5\" ng-class=\"{inactiveEu: !eu.active}\" class=\"ng-binding ng-scope\">BUŽIM (005)</option><!-- end ngRepeat: eu in electoralUnitList --><option ng-selected=\"false\" ng-repeat=\"eu in electoralUnitList\" value=\"17\" ng-class=\"{inactiveEu: !eu.active}\" class=\"ng-binding ng-scope\">ODŽAK (017)</option><!-- end ngRepeat: eu in electoralUnitList --><option ng-selected=\"false\" ng-repeat=\"eu in electoralUnitList\" value=\"20\" ng-class=\"{inactiveEu: !eu.active}\" class=\"ng-binding ng-scope\">DOMALJEVAC - ŠAMAC (020)</option><!-- end ngRepeat: eu in electoralUnitList --><option ng-selected=\"false\" ng-repeat=\"eu in electoralUnitList\" value=\"22\" ng-class=\"{inactiveEu: !eu.active}\" class=\"ng-binding ng-scope\">ORAŠJE (022)</option><!-- end ngRepeat: eu in electoralUnitList --><option ng-selected=\"false\" ng-repeat=\"eu in electoralUnitList\" value=\"25\" ng-class=\"{inactiveEu: !eu.active}\" class=\"ng-binding ng-scope\">GRADAČAC (025)</option><!-- end ngRepeat: eu in electoralUnitList --><option ng-selected=\"false\" ng-repeat=\"eu in electoralUnitList\" value=\"27\" ng-class=\"{inactiveEu: !eu.active}\" class=\"ng-binding ng-scope\">BRČKO DISTRIKT BIH (OPCIJA FBIH) (027)</option><!-- end ngRepeat: eu in electoralUnitList --><option ng-selected=\"false\" ng-repeat=\"eu in electoralUnitList\" value=\"30\" ng-class=\"{inactiveEu: !eu.active}\" class=\"ng-binding ng-scope\">BOSANSKI PETROVAC (030)</option><!-- end ngRepeat: eu in electoralUnitList --><option ng-selected=\"false\" ng-repeat=\"eu in electoralUnitList\" value=\"32\" ng-class=\"{inactiveEu: !eu.active}\" class=\"ng-binding ng-scope\">SANSKI MOST (032)</option><!-- end ngRepeat: eu in electoralUnitList --><option ng-selected=\"false\" ng-repeat=\"eu in electoralUnitList\" value=\"36\" ng-class=\"{inactiveEu: !eu.active}\" class=\"ng-binding ng-scope\">DOBOJ - ISTOK (036)</option><!-- end ngRepeat: eu in electoralUnitList --><option ng-selected=\"false\" ng-repeat=\"eu in electoralUnitList\" value=\"37\" ng-class=\"{inactiveEu: !eu.active}\" class=\"ng-binding ng-scope\">DOBOJ - JUG (037)</option><!-- end ngRepeat: eu in electoralUnitList --><option ng-selected=\"false\" ng-repeat=\"eu in electoralUnitList\" value=\"39\" ng-class=\"{inactiveEu: !eu.active}\" class=\"ng-binding ng-scope\">TEŠANJ (039)</option><!-- end ngRepeat: eu in electoralUnitList --><option ng-selected=\"false\" ng-repeat=\"eu in electoralUnitList\" value=\"42\" ng-class=\"{inactiveEu: !eu.active}\" class=\"ng-binding ng-scope\">MAGLAJ (042)</option><!-- end ngRepeat: eu in electoralUnitList --><option ng-selected=\"false\" ng-repeat=\"eu in electoralUnitList\" value=\"44\" ng-class=\"{inactiveEu: !eu.active}\" class=\"ng-binding ng-scope\">GRAČANICA (044)</option><!-- end ngRepeat: eu in electoralUnitList --><option ng-selected=\"false\" ng-repeat=\"eu in electoralUnitList\" value=\"47\" ng-class=\"{inactiveEu: !eu.active}\" class=\"ng-binding ng-scope\">LUKAVAC (047)</option><!-- end ngRepeat: eu in electoralUnitList --><option ng-selected=\"false\" ng-repeat=\"eu in electoralUnitList\" value=\"49\" ng-class=\"{inactiveEu: !eu.active}\" class=\"ng-binding ng-scope\">SREBRENIK (049)</option><!-- end ngRepeat: eu in electoralUnitList --><option ng-selected=\"false\" ng-repeat=\"eu in electoralUnitList\" value=\"50\" ng-class=\"{inactiveEu: !eu.active}\" class=\"ng-binding ng-scope\">TUZLA (050)</option><!-- end ngRepeat: eu in electoralUnitList --><option ng-selected=\"false\" ng-repeat=\"eu in electoralUnitList\" value=\"52\" ng-class=\"{inactiveEu: !eu.active}\" class=\"ng-binding ng-scope\">ČELIĆ (052)</option><!-- end ngRepeat: eu in electoralUnitList --><option ng-selected=\"false\" ng-repeat=\"eu in electoralUnitList\" value=\"55\" ng-class=\"{inactiveEu: !eu.active}\" class=\"ng-binding ng-scope\">TEOČAK (055)</option><!-- end ngRepeat: eu in electoralUnitList --><option ng-selected=\"false\" ng-repeat=\"eu in electoralUnitList\" value=\"57\" ng-class=\"{inactiveEu: !eu.active}\" class=\"ng-binding ng-scope\">DRVAR (057)</option><!-- end ngRepeat: eu in electoralUnitList --><option ng-selected=\"false\" ng-repeat=\"eu in electoralUnitList\" value=\"59\" ng-class=\"{inactiveEu: !eu.active}\" class=\"ng-binding ng-scope\">KLJUČ (059)</option><!-- end ngRepeat: eu in electoralUnitList --><option ng-selected=\"false\" ng-repeat=\"eu in electoralUnitList\" value=\"65\" ng-class=\"{inactiveEu: !eu.active}\" class=\"ng-binding ng-scope\">JAJCE (065)</option><!-- end ngRepeat: eu in electoralUnitList --><option ng-selected=\"false\" ng-repeat=\"eu in electoralUnitList\" value=\"67\" ng-class=\"{inactiveEu: !eu.active}\" class=\"ng-binding ng-scope\">DOBRETIĆI (067)</option><!-- end ngRepeat: eu in electoralUnitList --><option ng-selected=\"false\" ng-repeat=\"eu in electoralUnitList\" value=\"75\" ng-class=\"{inactiveEu: !eu.active}\" class=\"ng-binding ng-scope\">ŽEPČE (075)</option><!-- end ngRepeat: eu in electoralUnitList --><option ng-selected=\"false\" ng-repeat=\"eu in electoralUnitList\" value=\"77\" ng-class=\"{inactiveEu: !eu.active}\" class=\"ng-binding ng-scope\">ZAVIDOVIĆI (077)</option><!-- end ngRepeat: eu in electoralUnitList --><option ng-selected=\"false\" ng-repeat=\"eu in electoralUnitList\" value=\"78\" ng-class=\"{inactiveEu: !eu.active}\" class=\"ng-binding ng-scope\">BANOVIĆI (078)</option><!-- end ngRepeat: eu in electoralUnitList --><option ng-selected=\"false\" ng-repeat=\"eu in electoralUnitList\" value=\"79\" ng-class=\"{inactiveEu: !eu.active}\" class=\"ng-binding ng-scope\">ŽIVINICE (079)</option><!-- end ngRepeat: eu in electoralUnitList --><option ng-selected=\"false\" ng-repeat=\"eu in electoralUnitList\" value=\"80\" ng-class=\"{inactiveEu: !eu.active}\" class=\"ng-binding ng-scope\">KALESIJA (080)</option><!-- end ngRepeat: eu in electoralUnitList --><option ng-selected=\"false\" ng-repeat=\"eu in electoralUnitList\" value=\"82\" ng-class=\"{inactiveEu: !eu.active}\" class=\"ng-binding ng-scope\">SAPNA (082)</option><!-- end ngRepeat: eu in electoralUnitList --><option ng-selected=\"false\" ng-repeat=\"eu in electoralUnitList\" value=\"84\" ng-class=\"{inactiveEu: !eu.active}\" class=\"ng-binding ng-scope\">BOSANSKO GRAHOVO (084)</option><!-- end ngRepeat: eu in electoralUnitList --><option ng-selected=\"false\" ng-repeat=\"eu in electoralUnitList\" value=\"85\" ng-class=\"{inactiveEu: !eu.active}\" class=\"ng-binding ng-scope\">GLAMOČ (085)</option><!-- end ngRepeat: eu in electoralUnitList --><option ng-selected=\"false\" ng-repeat=\"eu in electoralUnitList\" value=\"89\" ng-class=\"{inactiveEu: !eu.active}\" class=\"ng-binding ng-scope\">DONJI VAKUF (089)</option><!-- end ngRepeat: eu in electoralUnitList --><option ng-selected=\"false\" ng-repeat=\"eu in electoralUnitList\" value=\"91\" ng-class=\"{inactiveEu: !eu.active}\" class=\"ng-binding ng-scope\">TRAVNIK (091)</option><!-- end ngRepeat: eu in electoralUnitList --><option ng-selected=\"false\" ng-repeat=\"eu in electoralUnitList\" value=\"93\" ng-class=\"{inactiveEu: !eu.active}\" class=\"ng-binding ng-scope\">ZENICA (093)</option><!-- end ngRepeat: eu in electoralUnitList --><option ng-selected=\"false\" ng-repeat=\"eu in electoralUnitList\" value=\"94\" ng-class=\"{inactiveEu: !eu.active}\" class=\"ng-binding ng-scope\">KAKANJ (094)</option><!-- end ngRepeat: eu in electoralUnitList --><option ng-selected=\"false\" ng-repeat=\"eu in electoralUnitList\" value=\"95\" ng-class=\"{inactiveEu: !eu.active}\" class=\"ng-binding ng-scope\">VAREŠ (095)</option><!-- end ngRepeat: eu in electoralUnitList --><option ng-selected=\"false\" ng-repeat=\"eu in electoralUnitList\" value=\"96\" ng-class=\"{inactiveEu: !eu.active}\" class=\"ng-binding ng-scope\">OLOVO (096)</option><!-- end ngRepeat: eu in electoralUnitList --><option ng-selected=\"false\" ng-repeat=\"eu in electoralUnitList\" value=\"98\" ng-class=\"{inactiveEu: !eu.active}\" class=\"ng-binding ng-scope\">KLADANJ (098)</option><!-- end ngRepeat: eu in electoralUnitList --><option ng-selected=\"false\" ng-repeat=\"eu in electoralUnitList\" value=\"106\" ng-class=\"{inactiveEu: !eu.active}\" class=\"ng-binding ng-scope\">LIVNO (106)</option><!-- end ngRepeat: eu in electoralUnitList --><option ng-selected=\"false\" ng-repeat=\"eu in electoralUnitList\" value=\"107\" ng-class=\"{inactiveEu: !eu.active}\" class=\"ng-binding ng-scope\">KUPRES (107)</option><!-- end ngRepeat: eu in electoralUnitList --><option ng-selected=\"false\" ng-repeat=\"eu in electoralUnitList\" value=\"109\" ng-class=\"{inactiveEu: !eu.active}\" class=\"ng-binding ng-scope\">BUGOJNO (109)</option><!-- end ngRepeat: eu in electoralUnitList --><option ng-selected=\"false\" ng-repeat=\"eu in electoralUnitList\" value=\"110\" ng-class=\"{inactiveEu: !eu.active}\" class=\"ng-binding ng-scope\">GORNJI VAKUF - USKOPLJE (110)</option><!-- end ngRepeat: eu in electoralUnitList --><option ng-selected=\"false\" ng-repeat=\"eu in electoralUnitList\" value=\"111\" ng-class=\"{inactiveEu: !eu.active}\" class=\"ng-binding ng-scope\">NOVI TRAVNIK (111)</option><!-- end ngRepeat: eu in electoralUnitList --><option ng-selected=\"false\" ng-repeat=\"eu in electoralUnitList\" value=\"112\" ng-class=\"{inactiveEu: !eu.active}\" class=\"ng-binding ng-scope\">VITEZ (112)</option><!-- end ngRepeat: eu in electoralUnitList --><option ng-selected=\"false\" ng-repeat=\"eu in electoralUnitList\" value=\"113\" ng-class=\"{inactiveEu: !eu.active}\" class=\"ng-binding ng-scope\">BUSOVAČA (113)</option><!-- end ngRepeat: eu in electoralUnitList --><option ng-selected=\"false\" ng-repeat=\"eu in electoralUnitList\" value=\"114\" ng-class=\"{inactiveEu: !eu.active}\" class=\"ng-binding ng-scope\">FOJNICA (114)</option><!-- end ngRepeat: eu in electoralUnitList --><option ng-selected=\"false\" ng-repeat=\"eu in electoralUnitList\" value=\"115\" ng-class=\"{inactiveEu: !eu.active}\" class=\"ng-binding ng-scope\">KISELJAK (115)</option><!-- end ngRepeat: eu in electoralUnitList --><option ng-selected=\"false\" ng-repeat=\"eu in electoralUnitList\" value=\"116\" ng-class=\"{inactiveEu: !eu.active}\" class=\"ng-binding ng-scope\">VISOKO (116)</option><!-- end ngRepeat: eu in electoralUnitList --><option ng-selected=\"false\" ng-repeat=\"eu in electoralUnitList\" value=\"117\" ng-class=\"{inactiveEu: !eu.active}\" class=\"ng-binding ng-scope\">BREZA (117)</option><!-- end ngRepeat: eu in electoralUnitList --><option ng-selected=\"false\" ng-repeat=\"eu in electoralUnitList\" value=\"118\" ng-class=\"{inactiveEu: !eu.active}\" class=\"ng-binding ng-scope\">ILIJAŠ (118)</option><!-- end ngRepeat: eu in electoralUnitList --><option ng-selected=\"false\" ng-repeat=\"eu in electoralUnitList\" value=\"124\" ng-class=\"{inactiveEu: !eu.active}\" class=\"ng-binding ng-scope\">TOMISLAVGRAD (124)</option><!-- end ngRepeat: eu in electoralUnitList --><option ng-selected=\"false\" ng-repeat=\"eu in electoralUnitList\" value=\"125\" ng-class=\"{inactiveEu: !eu.active}\" class=\"ng-binding ng-scope\">PROZOR - RAMA (125)</option><!-- end ngRepeat: eu in electoralUnitList --><option ng-selected=\"false\" ng-repeat=\"eu in electoralUnitList\" value=\"126\" ng-class=\"{inactiveEu: !eu.active}\" class=\"ng-binding ng-scope\">JABLANICA (126)</option><!-- end ngRepeat: eu in electoralUnitList --><option ng-selected=\"false\" ng-repeat=\"eu in electoralUnitList\" value=\"127\" ng-class=\"{inactiveEu: !eu.active}\" class=\"ng-binding ng-scope\">KONJIC (127)</option><!-- end ngRepeat: eu in electoralUnitList --><option ng-selected=\"false\" ng-repeat=\"eu in electoralUnitList\" value=\"129\" ng-class=\"{inactiveEu: !eu.active}\" class=\"ng-binding ng-scope\">KREŠEVO (129)</option><!-- end ngRepeat: eu in electoralUnitList --><option ng-selected=\"false\" ng-repeat=\"eu in electoralUnitList\" value=\"130\" ng-class=\"{inactiveEu: !eu.active}\" class=\"ng-binding ng-scope\">HADŽIĆI (130)</option><!-- end ngRepeat: eu in electoralUnitList --><option ng-selected=\"false\" ng-repeat=\"eu in electoralUnitList\" value=\"131\" ng-class=\"{inactiveEu: !eu.active}\" class=\"ng-binding ng-scope\">ILIDŽA (131)</option><!-- end ngRepeat: eu in electoralUnitList --><option ng-selected=\"false\" ng-repeat=\"eu in electoralUnitList\" value=\"133\" ng-class=\"{inactiveEu: !eu.active}\" class=\"ng-binding ng-scope\">NOVI GRAD SARAJEVO (133)</option><!-- end ngRepeat: eu in electoralUnitList --><option ng-selected=\"false\" ng-repeat=\"eu in electoralUnitList\" value=\"135\" ng-class=\"{inactiveEu: !eu.active}\" class=\"ng-binding ng-scope\">VOGOŠĆA (135)</option><!-- end ngRepeat: eu in electoralUnitList --><option ng-selected=\"false\" ng-repeat=\"eu in electoralUnitList\" value=\"136\" ng-class=\"{inactiveEu: !eu.active}\" class=\"ng-binding ng-scope\">CENTAR SARAJEVO (136)</option><!-- end ngRepeat: eu in electoralUnitList --><option ng-selected=\"false\" ng-repeat=\"eu in electoralUnitList\" value=\"137\" ng-class=\"{inactiveEu: !eu.active}\" class=\"ng-binding ng-scope\">STARI GRAD SARAJEVO (137)</option><!-- end ngRepeat: eu in electoralUnitList --><option ng-selected=\"false\" ng-repeat=\"eu in electoralUnitList\" value=\"139\" ng-class=\"{inactiveEu: !eu.active}\" class=\"ng-binding ng-scope\">NOVO SARAJEVO (139)</option><!-- end ngRepeat: eu in electoralUnitList --><option ng-selected=\"false\" ng-repeat=\"eu in electoralUnitList\" value=\"141\" ng-class=\"{inactiveEu: !eu.active}\" class=\"ng-binding ng-scope\">TRNOVO (FBIH) (141)</option><!-- end ngRepeat: eu in electoralUnitList --><option ng-selected=\"false\" ng-repeat=\"eu in electoralUnitList\" value=\"143\" ng-class=\"{inactiveEu: !eu.active}\" class=\"ng-binding ng-scope\">PALE (FBIH) (143)</option><!-- end ngRepeat: eu in electoralUnitList --><option ng-selected=\"false\" ng-repeat=\"eu in electoralUnitList\" value=\"148\" ng-class=\"{inactiveEu: !eu.active}\" class=\"ng-binding ng-scope\">POSUŠJE (148)</option><!-- end ngRepeat: eu in electoralUnitList --><option ng-selected=\"false\" ng-repeat=\"eu in electoralUnitList\" value=\"149\" ng-class=\"{inactiveEu: !eu.active}\" class=\"ng-binding ng-scope\">GRUDE (149)</option><!-- end ngRepeat: eu in electoralUnitList --><option ng-selected=\"false\" ng-repeat=\"eu in electoralUnitList\" value=\"150\" ng-class=\"{inactiveEu: !eu.active}\" class=\"ng-binding ng-scope\">ŠIROKI BRIJEG (150)</option><!-- end ngRepeat: eu in electoralUnitList --><option ng-selected=\"false\" ng-repeat=\"eu in electoralUnitList\" value=\"165\" ng-class=\"{inactiveEu: !eu.active}\" class=\"ng-binding ng-scope\">FOČA (FBIH) (165)</option><!-- end ngRepeat: eu in electoralUnitList --><option ng-selected=\"false\" ng-repeat=\"eu in electoralUnitList\" value=\"167\" ng-class=\"{inactiveEu: !eu.active}\" class=\"ng-binding ng-scope\">GORAŽDE (167)</option><!-- end ngRepeat: eu in electoralUnitList --><option ng-selected=\"false\" ng-repeat=\"eu in electoralUnitList\" value=\"171\" ng-class=\"{inactiveEu: !eu.active}\" class=\"ng-binding ng-scope\">LJUBUŠKI (171)</option><!-- end ngRepeat: eu in electoralUnitList --><option ng-selected=\"false\" ng-repeat=\"eu in electoralUnitList\" value=\"172\" ng-class=\"{inactiveEu: !eu.active}\" class=\"ng-binding ng-scope\">ČITLUK (172)</option><!-- end ngRepeat: eu in electoralUnitList --><option ng-selected=\"false\" ng-repeat=\"eu in electoralUnitList\" value=\"173\" ng-class=\"{inactiveEu: !eu.active}\" class=\"ng-binding ng-scope\">ČAPLJINA (173)</option><!-- end ngRepeat: eu in electoralUnitList --><option ng-selected=\"false\" ng-repeat=\"eu in electoralUnitList\" value=\"174\" ng-class=\"{inactiveEu: !eu.active}\" class=\"ng-binding ng-scope\">NEUM (174)</option><!-- end ngRepeat: eu in electoralUnitList --><option ng-selected=\"false\" ng-repeat=\"eu in electoralUnitList\" value=\"176\" ng-class=\"{inactiveEu: !eu.active}\" class=\"ng-binding ng-scope\">STOLAC (176)</option><!-- end ngRepeat: eu in electoralUnitList --><option ng-selected=\"false\" ng-repeat=\"eu in electoralUnitList\" value=\"181\" ng-class=\"{inactiveEu: !eu.active}\" class=\"ng-binding ng-scope\">RAVNO (181)</option><!-- end ngRepeat: eu in electoralUnitList --><option ng-selected=\"false\" ng-repeat=\"eu in electoralUnitList\" value=\"183\" ng-class=\"{inactiveEu: !eu.active}\" class=\"ng-binding ng-scope\">USORA (183)</option><!-- end ngRepeat: eu in electoralUnitList --><option ng-selected=\"false\" ng-repeat=\"eu in electoralUnitList\" value=\"199\" ng-class=\"{inactiveEu: !eu.active}\" class=\"ng-binding ng-scope\">GRAD MOSTAR (199)</option><!-- end ngRepeat: eu in electoralUnitList -->\n",
    "                    </select>\n",
    "    \"\"\"\n",
    "    soup = bs.BeautifulSoup(scroll_down_html)\n",
    "    municipality_to_code = {\n",
    "        option.text.split(\"(\")[0].strip().lower() : int(option.get(\"value\"))\n",
    "        for option in soup.find_all(\"option\")\n",
    "        if int(option.get(\"value\")) != 0\n",
    "    }\n",
    "    \n",
    "    for municipality, code in municipality_to_code.items():\n",
    "        api_url = f' https://www.izbori.ba/api_2018/race1_electoralunitcandidatesresult/\"WebResult_2018GEN_2018_10_4_15_40_5\"/{code}/4'\n",
    "        municipality =  municipality.encode(encoding=\"iso-8859-1\", errors=\"replace\").decode(\"UTF-8\")\n",
    "        \n",
    "        try:\n",
    "            response = requests.get(api_url, headers=headers)\n",
    "            response.raise_for_status()\n",
    "        \n",
    "            data = response.json()\n",
    "            candidate_resuslts = {result[\"name\"] : result[\"totalVotes\"] for result in data}\n",
    "            insert_candidate_results(candidate_resuslts, municipality, year)\n",
    "        \n",
    "        except requests.exceptions.RequestException as e:\n",
    "            print(f\"An error occurred: {e}\")\n",
    "        except requests.exceptions.JSONDecodeError:\n",
    "            print(\"Failed to decode JSON. The response was not JSON.\")\n",
    "            print(response.text)"
   ]
  },
  {
   "cell_type": "code",
   "execution_count": null,
   "id": "938d8d1d-428b-4e85-96f9-25893a610a8f",
   "metadata": {},
   "outputs": [],
   "source": [
    "# TODO take the names without hyphens from 2022 as keys and remove any \"-\" \n",
    "    # from new data and non political data so its easier to merge.\n",
    "    # Still might have to do some merge resolution tho,\n",
    "    # especially on name mismatches with ? chars :(\n",
    "# Have text preprocessing all done in one place and reuse this throughout"
   ]
  },
  {
   "cell_type": "code",
   "execution_count": 150,
   "id": "2ff35d26-953d-4145-8d11-fc9174b1c3ba",
   "metadata": {},
   "outputs": [
    {
     "name": "stdout",
     "output_type": "stream",
     "text": [
      "Successfully inserted 11 candidate results for velika kladu?a.\n",
      "Successfully inserted 11 candidate results for cazin.\n",
      "Successfully inserted 11 candidate results for biha?.\n",
      "Successfully inserted 11 candidate results for bosanska krupa.\n",
      "Successfully inserted 11 candidate results for bu?im.\n",
      "Successfully inserted 11 candidate results for od?ak.\n",
      "Successfully inserted 11 candidate results for domaljevac - ?amac.\n",
      "Successfully inserted 11 candidate results for ora?je.\n",
      "Successfully inserted 11 candidate results for grada?ac.\n",
      "Successfully inserted 11 candidate results for br?ko distrikt bih.\n",
      "Successfully inserted 11 candidate results for bosanski petrovac.\n",
      "Successfully inserted 11 candidate results for sanski most.\n"
     ]
    },
    {
     "ename": "KeyError",
     "evalue": "'doboj - istok'",
     "output_type": "error",
     "traceback": [
      "\u001b[0;31m---------------------------------------------------------------------------\u001b[0m",
      "\u001b[0;31mKeyError\u001b[0m                                  Traceback (most recent call last)",
      "Cell \u001b[0;32mIn[150], line 1\u001b[0m\n\u001b[0;32m----> 1\u001b[0m \u001b[43mscrape_2018\u001b[49m\u001b[43m(\u001b[49m\u001b[43m)\u001b[49m\n",
      "Cell \u001b[0;32mIn[149], line 32\u001b[0m, in \u001b[0;36mscrape_2018\u001b[0;34m()\u001b[0m\n\u001b[1;32m     30\u001b[0m     data \u001b[38;5;241m=\u001b[39m response\u001b[38;5;241m.\u001b[39mjson()\n\u001b[1;32m     31\u001b[0m     candidate_resuslts \u001b[38;5;241m=\u001b[39m {result[\u001b[38;5;124m\"\u001b[39m\u001b[38;5;124mname\u001b[39m\u001b[38;5;124m\"\u001b[39m] : result[\u001b[38;5;124m\"\u001b[39m\u001b[38;5;124mtotalVotes\u001b[39m\u001b[38;5;124m\"\u001b[39m] \u001b[38;5;28;01mfor\u001b[39;00m result \u001b[38;5;129;01min\u001b[39;00m data}\n\u001b[0;32m---> 32\u001b[0m     \u001b[43minsert_candidate_results\u001b[49m\u001b[43m(\u001b[49m\u001b[43mcandidate_resuslts\u001b[49m\u001b[43m,\u001b[49m\u001b[43m \u001b[49m\u001b[43mmunicipality\u001b[49m\u001b[43m,\u001b[49m\u001b[43m \u001b[49m\u001b[43myear\u001b[49m\u001b[43m)\u001b[49m\n\u001b[1;32m     34\u001b[0m \u001b[38;5;28;01mexcept\u001b[39;00m requests\u001b[38;5;241m.\u001b[39mexceptions\u001b[38;5;241m.\u001b[39mRequestException \u001b[38;5;28;01mas\u001b[39;00m e:\n\u001b[1;32m     35\u001b[0m     \u001b[38;5;28mprint\u001b[39m(\u001b[38;5;124mf\u001b[39m\u001b[38;5;124m\"\u001b[39m\u001b[38;5;124mAn error occurred: \u001b[39m\u001b[38;5;132;01m{\u001b[39;00me\u001b[38;5;132;01m}\u001b[39;00m\u001b[38;5;124m\"\u001b[39m)\n",
      "Cell \u001b[0;32mIn[129], line 4\u001b[0m, in \u001b[0;36minsert_candidate_results\u001b[0;34m(candidate_results, municipality, year)\u001b[0m\n\u001b[1;32m      2\u001b[0m candidate_ids \u001b[38;5;241m=\u001b[39m get_candidate_id()\n\u001b[1;32m      3\u001b[0m municipality_ids \u001b[38;5;241m=\u001b[39m get_municipality_id_per_year(\u001b[38;5;241m2022\u001b[39m)    \n\u001b[0;32m----> 4\u001b[0m batch \u001b[38;5;241m=\u001b[39m [(\u001b[43mmunicipality_ids\u001b[49m\u001b[43m[\u001b[49m\u001b[43mmunicipality\u001b[49m\u001b[43m]\u001b[49m, candidate_ids[name], votes) \u001b[38;5;28;01mfor\u001b[39;00m name, votes \u001b[38;5;129;01min\u001b[39;00m candidate_results\u001b[38;5;241m.\u001b[39mitems()]\n\u001b[1;32m      6\u001b[0m conn \u001b[38;5;241m=\u001b[39m sqlite3\u001b[38;5;241m.\u001b[39mconnect(SAVE_DIR \u001b[38;5;241m+\u001b[39m \u001b[38;5;124m'\u001b[39m\u001b[38;5;124mpolitical_data.db\u001b[39m\u001b[38;5;124m'\u001b[39m)\n\u001b[1;32m      7\u001b[0m conn\u001b[38;5;241m.\u001b[39mexecute(\u001b[38;5;124m'\u001b[39m\u001b[38;5;124mPRAGMA foreign_keys = ON\u001b[39m\u001b[38;5;124m'\u001b[39m)\n",
      "\u001b[0;31mKeyError\u001b[0m: 'doboj - istok'"
     ]
    }
   ],
   "source": [
    "scrape_2018()"
   ]
  },
  {
   "cell_type": "markdown",
   "id": "c2d99db3-6487-48ec-8c53-804a750fee2d",
   "metadata": {},
   "source": [
    "### 4: Sanity check"
   ]
  },
  {
   "cell_type": "code",
   "execution_count": 158,
   "id": "e54c9e2a-7c96-47a8-94d6-f9601183e88f",
   "metadata": {},
   "outputs": [
    {
     "data": {
      "text/html": [
       "<div>\n",
       "<style scoped>\n",
       "    .dataframe tbody tr th:only-of-type {\n",
       "        vertical-align: middle;\n",
       "    }\n",
       "\n",
       "    .dataframe tbody tr th {\n",
       "        vertical-align: top;\n",
       "    }\n",
       "\n",
       "    .dataframe thead th {\n",
       "        text-align: right;\n",
       "    }\n",
       "</style>\n",
       "<table border=\"1\" class=\"dataframe\">\n",
       "  <thead>\n",
       "    <tr style=\"text-align: right;\">\n",
       "      <th></th>\n",
       "      <th>municipality_name</th>\n",
       "      <th>year</th>\n",
       "      <th>name</th>\n",
       "      <th>ethnicity</th>\n",
       "      <th>votes</th>\n",
       "    </tr>\n",
       "  </thead>\n",
       "  <tbody>\n",
       "    <tr>\n",
       "      <th>0</th>\n",
       "      <td>velika kladu?a</td>\n",
       "      <td>2022</td>\n",
       "      <td>DENIS BEĆIROVIĆ - UJEDINJENI ZA SLOBODNU BOSNU...</td>\n",
       "      <td>B</td>\n",
       "      <td>4662</td>\n",
       "    </tr>\n",
       "    <tr>\n",
       "      <th>1</th>\n",
       "      <td>velika kladu?a</td>\n",
       "      <td>2022</td>\n",
       "      <td>BAKIR IZETBEGOVIĆ - SDA - STRANKA DEMOKRATSKE ...</td>\n",
       "      <td>B</td>\n",
       "      <td>3039</td>\n",
       "    </tr>\n",
       "    <tr>\n",
       "      <th>2</th>\n",
       "      <td>velika kladu?a</td>\n",
       "      <td>2022</td>\n",
       "      <td>ŽELJKO KOMŠIĆ - DEMOKRATSKA FRONTA - DF</td>\n",
       "      <td>C</td>\n",
       "      <td>2999</td>\n",
       "    </tr>\n",
       "    <tr>\n",
       "      <th>3</th>\n",
       "      <td>velika kladu?a</td>\n",
       "      <td>2022</td>\n",
       "      <td>MIRSAD HADŽIKADIĆ - PLATFORMA ZA PROGRES</td>\n",
       "      <td>B</td>\n",
       "      <td>690</td>\n",
       "    </tr>\n",
       "    <tr>\n",
       "      <th>4</th>\n",
       "      <td>velika kladu?a</td>\n",
       "      <td>2022</td>\n",
       "      <td>BORJANA KRIŠTO - HDZ BIH-HRVATSKA DEMOKRATSKA ...</td>\n",
       "      <td>C</td>\n",
       "      <td>190</td>\n",
       "    </tr>\n",
       "    <tr>\n",
       "      <th>...</th>\n",
       "      <td>...</td>\n",
       "      <td>...</td>\n",
       "      <td>...</td>\n",
       "      <td>...</td>\n",
       "      <td>...</td>\n",
       "    </tr>\n",
       "    <tr>\n",
       "      <th>527</th>\n",
       "      <td>sanski most</td>\n",
       "      <td>2022</td>\n",
       "      <td>FALATAR BORIŠA - NAŠA STRANKA</td>\n",
       "      <td>C</td>\n",
       "      <td>102</td>\n",
       "    </tr>\n",
       "    <tr>\n",
       "      <th>528</th>\n",
       "      <td>sanski most</td>\n",
       "      <td>2022</td>\n",
       "      <td>ČOVIĆ DRAGAN - HDZ BIH-HRVATSKA DEMOKRATSKA ZA...</td>\n",
       "      <td>C</td>\n",
       "      <td>64</td>\n",
       "    </tr>\n",
       "    <tr>\n",
       "      <th>529</th>\n",
       "      <td>sanski most</td>\n",
       "      <td>2022</td>\n",
       "      <td>JERLAGIĆ AMER - STRANKA ZA BOSNU I HERCEGOVINU</td>\n",
       "      <td>B</td>\n",
       "      <td>56</td>\n",
       "    </tr>\n",
       "    <tr>\n",
       "      <th>530</th>\n",
       "      <td>sanski most</td>\n",
       "      <td>2022</td>\n",
       "      <td>IVANKOVIĆ-LIJANOVIĆ JERKO - NARODNA STRANKA RA...</td>\n",
       "      <td>C</td>\n",
       "      <td>49</td>\n",
       "    </tr>\n",
       "    <tr>\n",
       "      <th>531</th>\n",
       "      <td>sanski most</td>\n",
       "      <td>2022</td>\n",
       "      <td>ZELENIKA DIANA - HRVATSKA DEMOKRATSKA ZAJEDNIC...</td>\n",
       "      <td>C</td>\n",
       "      <td>15</td>\n",
       "    </tr>\n",
       "  </tbody>\n",
       "</table>\n",
       "<p>532 rows × 5 columns</p>\n",
       "</div>"
      ],
      "text/plain": [
       "    municipality_name  year  \\\n",
       "0      velika kladu?a  2022   \n",
       "1      velika kladu?a  2022   \n",
       "2      velika kladu?a  2022   \n",
       "3      velika kladu?a  2022   \n",
       "4      velika kladu?a  2022   \n",
       "..                ...   ...   \n",
       "527       sanski most  2022   \n",
       "528       sanski most  2022   \n",
       "529       sanski most  2022   \n",
       "530       sanski most  2022   \n",
       "531       sanski most  2022   \n",
       "\n",
       "                                                  name ethnicity  votes  \n",
       "0    DENIS BEĆIROVIĆ - UJEDINJENI ZA SLOBODNU BOSNU...         B   4662  \n",
       "1    BAKIR IZETBEGOVIĆ - SDA - STRANKA DEMOKRATSKE ...         B   3039  \n",
       "2              ŽELJKO KOMŠIĆ - DEMOKRATSKA FRONTA - DF         C   2999  \n",
       "3             MIRSAD HADŽIKADIĆ - PLATFORMA ZA PROGRES         B    690  \n",
       "4    BORJANA KRIŠTO - HDZ BIH-HRVATSKA DEMOKRATSKA ...         C    190  \n",
       "..                                                 ...       ...    ...  \n",
       "527                      FALATAR BORIŠA - NAŠA STRANKA         C    102  \n",
       "528  ČOVIĆ DRAGAN - HDZ BIH-HRVATSKA DEMOKRATSKA ZA...         C     64  \n",
       "529     JERLAGIĆ AMER - STRANKA ZA BOSNU I HERCEGOVINU         B     56  \n",
       "530  IVANKOVIĆ-LIJANOVIĆ JERKO - NARODNA STRANKA RA...         C     49  \n",
       "531  ZELENIKA DIANA - HRVATSKA DEMOKRATSKA ZAJEDNIC...         C     15  \n",
       "\n",
       "[532 rows x 5 columns]"
      ]
     },
     "execution_count": 158,
     "metadata": {},
     "output_type": "execute_result"
    }
   ],
   "source": [
    "try:\n",
    "    conn = sqlite3.connect(SAVE_DIR + \"political_data.db\")\n",
    "\n",
    "    sql_query = \"\"\"\n",
    "        SELECT\n",
    "            m.name AS municipality_name,\n",
    "            y.year,\n",
    "            c.name,\n",
    "            c.ethnicity,\n",
    "            cr.votes\n",
    "        FROM \n",
    "            Municipalities as m\n",
    "        JOIN\n",
    "            Years AS y ON m.year_id = y.year_id\n",
    "        JOIN\n",
    "            CandidateResults AS cr ON m.municipality_id = cr.municipality_id\n",
    "        JOIN\n",
    "            Candidates AS c ON cr.candidate_id = c.candidate_id\n",
    "    \"\"\"\n",
    "\n",
    "    df = pd.read_sql_query(sql_query, conn)\n",
    "except sqlite3.Error as e:\n",
    "    print(f\"An error occurred: {e}\")\n",
    "finally:\n",
    "    conn.close()\n",
    "\n",
    "df"
   ]
  },
  {
   "cell_type": "code",
   "execution_count": 160,
   "id": "402be42e-7163-4aac-a1dc-787136e07222",
   "metadata": {},
   "outputs": [
    {
     "data": {
      "text/html": [
       "<div>\n",
       "<style scoped>\n",
       "    .dataframe tbody tr th:only-of-type {\n",
       "        vertical-align: middle;\n",
       "    }\n",
       "\n",
       "    .dataframe tbody tr th {\n",
       "        vertical-align: top;\n",
       "    }\n",
       "\n",
       "    .dataframe thead th {\n",
       "        text-align: right;\n",
       "    }\n",
       "</style>\n",
       "<table border=\"1\" class=\"dataframe\">\n",
       "  <thead>\n",
       "    <tr style=\"text-align: right;\">\n",
       "      <th></th>\n",
       "      <th>municipality_name</th>\n",
       "      <th>year</th>\n",
       "      <th>name</th>\n",
       "      <th>ethnicity</th>\n",
       "      <th>votes</th>\n",
       "    </tr>\n",
       "  </thead>\n",
       "  <tbody>\n",
       "    <tr>\n",
       "      <th>60</th>\n",
       "      <td>doboj istok</td>\n",
       "      <td>2022</td>\n",
       "      <td>DENIS BEĆIROVIĆ - UJEDINJENI ZA SLOBODNU BOSNU...</td>\n",
       "      <td>B</td>\n",
       "      <td>2018</td>\n",
       "    </tr>\n",
       "    <tr>\n",
       "      <th>61</th>\n",
       "      <td>doboj istok</td>\n",
       "      <td>2022</td>\n",
       "      <td>BAKIR IZETBEGOVIĆ - SDA - STRANKA DEMOKRATSKE ...</td>\n",
       "      <td>B</td>\n",
       "      <td>2017</td>\n",
       "    </tr>\n",
       "    <tr>\n",
       "      <th>62</th>\n",
       "      <td>doboj istok</td>\n",
       "      <td>2022</td>\n",
       "      <td>ŽELJKO KOMŠIĆ - DEMOKRATSKA FRONTA - DF</td>\n",
       "      <td>C</td>\n",
       "      <td>1096</td>\n",
       "    </tr>\n",
       "    <tr>\n",
       "      <th>63</th>\n",
       "      <td>doboj istok</td>\n",
       "      <td>2022</td>\n",
       "      <td>MIRSAD HADŽIKADIĆ - PLATFORMA ZA PROGRES</td>\n",
       "      <td>B</td>\n",
       "      <td>132</td>\n",
       "    </tr>\n",
       "    <tr>\n",
       "      <th>64</th>\n",
       "      <td>doboj istok</td>\n",
       "      <td>2022</td>\n",
       "      <td>BORJANA KRIŠTO - HDZ BIH-HRVATSKA DEMOKRATSKA ...</td>\n",
       "      <td>C</td>\n",
       "      <td>11</td>\n",
       "    </tr>\n",
       "    <tr>\n",
       "      <th>65</th>\n",
       "      <td>doboj jug</td>\n",
       "      <td>2022</td>\n",
       "      <td>DENIS BEĆIROVIĆ - UJEDINJENI ZA SLOBODNU BOSNU...</td>\n",
       "      <td>B</td>\n",
       "      <td>707</td>\n",
       "    </tr>\n",
       "    <tr>\n",
       "      <th>66</th>\n",
       "      <td>doboj jug</td>\n",
       "      <td>2022</td>\n",
       "      <td>ŽELJKO KOMŠIĆ - DEMOKRATSKA FRONTA - DF</td>\n",
       "      <td>C</td>\n",
       "      <td>697</td>\n",
       "    </tr>\n",
       "    <tr>\n",
       "      <th>67</th>\n",
       "      <td>doboj jug</td>\n",
       "      <td>2022</td>\n",
       "      <td>BAKIR IZETBEGOVIĆ - SDA - STRANKA DEMOKRATSKE ...</td>\n",
       "      <td>B</td>\n",
       "      <td>404</td>\n",
       "    </tr>\n",
       "    <tr>\n",
       "      <th>68</th>\n",
       "      <td>doboj jug</td>\n",
       "      <td>2022</td>\n",
       "      <td>MIRSAD HADŽIKADIĆ - PLATFORMA ZA PROGRES</td>\n",
       "      <td>B</td>\n",
       "      <td>60</td>\n",
       "    </tr>\n",
       "    <tr>\n",
       "      <th>69</th>\n",
       "      <td>doboj jug</td>\n",
       "      <td>2022</td>\n",
       "      <td>BORJANA KRIŠTO - HDZ BIH-HRVATSKA DEMOKRATSKA ...</td>\n",
       "      <td>C</td>\n",
       "      <td>6</td>\n",
       "    </tr>\n",
       "  </tbody>\n",
       "</table>\n",
       "</div>"
      ],
      "text/plain": [
       "   municipality_name  year                                               name  \\\n",
       "60       doboj istok  2022  DENIS BEĆIROVIĆ - UJEDINJENI ZA SLOBODNU BOSNU...   \n",
       "61       doboj istok  2022  BAKIR IZETBEGOVIĆ - SDA - STRANKA DEMOKRATSKE ...   \n",
       "62       doboj istok  2022            ŽELJKO KOMŠIĆ - DEMOKRATSKA FRONTA - DF   \n",
       "63       doboj istok  2022           MIRSAD HADŽIKADIĆ - PLATFORMA ZA PROGRES   \n",
       "64       doboj istok  2022  BORJANA KRIŠTO - HDZ BIH-HRVATSKA DEMOKRATSKA ...   \n",
       "65         doboj jug  2022  DENIS BEĆIROVIĆ - UJEDINJENI ZA SLOBODNU BOSNU...   \n",
       "66         doboj jug  2022            ŽELJKO KOMŠIĆ - DEMOKRATSKA FRONTA - DF   \n",
       "67         doboj jug  2022  BAKIR IZETBEGOVIĆ - SDA - STRANKA DEMOKRATSKE ...   \n",
       "68         doboj jug  2022           MIRSAD HADŽIKADIĆ - PLATFORMA ZA PROGRES   \n",
       "69         doboj jug  2022  BORJANA KRIŠTO - HDZ BIH-HRVATSKA DEMOKRATSKA ...   \n",
       "\n",
       "   ethnicity  votes  \n",
       "60         B   2018  \n",
       "61         B   2017  \n",
       "62         C   1096  \n",
       "63         B    132  \n",
       "64         C     11  \n",
       "65         B    707  \n",
       "66         C    697  \n",
       "67         B    404  \n",
       "68         B     60  \n",
       "69         C      6  "
      ]
     },
     "execution_count": 160,
     "metadata": {},
     "output_type": "execute_result"
    }
   ],
   "source": [
    "df[df['municipality_name'].str.contains(\"doboj\", case=False)]"
   ]
  },
  {
   "cell_type": "markdown",
   "id": "08f13915-424e-404f-ba63-1914658da8c5",
   "metadata": {},
   "source": [
    "## 2014"
   ]
  },
  {
   "cell_type": "markdown",
   "id": "fd78b330-908b-4d2f-b9b2-e05626ba19f1",
   "metadata": {},
   "source": [
    "## 2010"
   ]
  }
 ],
 "metadata": {
  "kernelspec": {
   "display_name": "Python 3 (ipykernel)",
   "language": "python",
   "name": "python3"
  },
  "language_info": {
   "codemirror_mode": {
    "name": "ipython",
    "version": 3
   },
   "file_extension": ".py",
   "mimetype": "text/x-python",
   "name": "python",
   "nbconvert_exporter": "python",
   "pygments_lexer": "ipython3",
   "version": "3.12.5"
  }
 },
 "nbformat": 4,
 "nbformat_minor": 5
}
