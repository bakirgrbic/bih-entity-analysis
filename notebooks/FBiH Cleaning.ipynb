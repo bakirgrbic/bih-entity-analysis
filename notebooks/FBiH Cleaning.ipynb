{
 "cells": [
  {
   "cell_type": "markdown",
   "id": "634797b1-7c4b-42f9-a6b1-2e16f412005d",
   "metadata": {},
   "source": [
    "# FBiH Cleaning (and some feature engineering)"
   ]
  },
  {
   "cell_type": "markdown",
   "id": "f2b3cc5d-70cc-49fd-a72a-d55910057611",
   "metadata": {},
   "source": [
    "Now that all the data is combined I will be deciding how I want the final dataset to look like for the purposes of my paper."
   ]
  },
  {
   "cell_type": "code",
   "execution_count": 1,
   "id": "2ab1d329-1a14-4580-b1a7-4d57548b8b6a",
   "metadata": {},
   "outputs": [],
   "source": [
    "import pandas as pd\n",
    "import numpy as np\n",
    "\n",
    "from tools.config import SAVE_DIR"
   ]
  },
  {
   "cell_type": "markdown",
   "id": "02bb8c67-6bb8-4c1f-9052-cc51d969bd6a",
   "metadata": {},
   "source": [
    "Load up the combined data"
   ]
  },
  {
   "cell_type": "code",
   "execution_count": 2,
   "id": "856eef7b-aa36-43d3-be42-4ab2fe0e288a",
   "metadata": {},
   "outputs": [],
   "source": [
    "combined = pd.read_excel(SAVE_DIR + \"combined.xlsx\")\n",
    "# combined"
   ]
  },
  {
   "cell_type": "markdown",
   "id": "ea93de54-1f6b-4cde-8a34-a6aca5b065e0",
   "metadata": {},
   "source": [
    "## 1. Timeline from 2012 - 2022"
   ]
  },
  {
   "cell_type": "markdown",
   "id": "f5ed4656-77a2-471c-8319-b62d56f67b07",
   "metadata": {},
   "source": [
    "I will be included years 2010 and 2011 for now because I want to impute data for 2012 using voting data for 2010."
   ]
  },
  {
   "cell_type": "code",
   "execution_count": 3,
   "id": "65d66cf0-aeb5-4494-b22f-4d826cc0dc91",
   "metadata": {},
   "outputs": [],
   "source": [
    "combined = combined[combined[\"Year\"].between(2010, 2022)].copy()"
   ]
  },
  {
   "cell_type": "markdown",
   "id": "479d8696-957b-4a6d-9fc4-a8e1b1224d65",
   "metadata": {},
   "source": [
    "## 2. Create Independent Variables"
   ]
  },
  {
   "cell_type": "markdown",
   "id": "b173fbef-f77f-43b6-b4c3-a0ff284ee5cf",
   "metadata": {},
   "source": [
    "### 2.1 Ethnic Fragmentation Constant"
   ]
  },
  {
   "cell_type": "markdown",
   "id": "3614b978-ba03-4a36-bf16-78e188aea170",
   "metadata": {},
   "source": [
    "First to normalize the percentage_voted columns to be values between 0 and 1 inclusive."
   ]
  },
  {
   "cell_type": "code",
   "execution_count": 4,
   "id": "f1ee15bf-6684-4c93-b127-f991c88675eb",
   "metadata": {},
   "outputs": [],
   "source": [
    "combined[\"percentage_bosnian_votes\"] = combined[\"percentage_bosnian_votes\"] / 100\n",
    "combined[\"percentage_croat_votes\"] = combined[\"percentage_croat_votes\"] / 100"
   ]
  },
  {
   "cell_type": "markdown",
   "id": "ed31554f-0eaa-4e19-b177-48c5853bc6bb",
   "metadata": {},
   "source": [
    "The 2013 census data should be a percentatge instead of tracking vote count."
   ]
  },
  {
   "cell_type": "code",
   "execution_count": 5,
   "id": "d4aae2cf-c0b3-4b38-afd9-fa9a96c248f8",
   "metadata": {},
   "outputs": [],
   "source": [
    "combined[\"Total Ethnicity\"] = combined[\"Bosniak\"] + combined[\"Croat\"] + combined[\"Serb\"]"
   ]
  },
  {
   "cell_type": "code",
   "execution_count": 6,
   "id": "d4ad00a9-dd17-4c6f-8c17-5072d7d56aa7",
   "metadata": {},
   "outputs": [],
   "source": [
    "combined[\"Percentage Bosniak\"] = combined[\"Bosniak\"] / combined[\"Total Ethnicity\"]\n",
    "combined[\"Percentage Croat\"] = combined[\"Croat\"] / combined[\"Total Ethnicity\"]\n",
    "combined[\"Percentage Serb\"] = combined[\"Serb\"] / combined[\"Total Ethnicity\"]"
   ]
  },
  {
   "cell_type": "code",
   "execution_count": 7,
   "id": "cb8dc650-ca8a-4836-ad89-2dd3ccf85aa8",
   "metadata": {},
   "outputs": [],
   "source": [
    "combined = combined.drop(columns=[\"Total Ethnicity\", \"Bosniak\", \"Croat\", \"Serb\"])"
   ]
  },
  {
   "cell_type": "code",
   "execution_count": 8,
   "id": "f700ffb9-e860-468a-bb28-0af71f277c40",
   "metadata": {},
   "outputs": [],
   "source": [
    "# combined"
   ]
  },
  {
   "cell_type": "markdown",
   "id": "71da6308-106a-4df4-a370-2673125f96b1",
   "metadata": {},
   "source": [
    "Define HHI to transform ethnic and voting percentage data to new variables."
   ]
  },
  {
   "cell_type": "code",
   "execution_count": 9,
   "id": "3ecf5fdb-252c-4648-84f7-d49deb37cd2f",
   "metadata": {},
   "outputs": [],
   "source": [
    "def calculate_ethnic_hhi(row):\n",
    "    percentages = [\n",
    "        row['Percentage Bosniak'],\n",
    "        row['Percentage Croat'],\n",
    "        row['Percentage Serb']\n",
    "    ]\n",
    "    \n",
    "    if any(pd.isna(p) for p in percentages):\n",
    "        return np.nan\n",
    "    \n",
    "    hhi_score = 0\n",
    "    for p in percentages:\n",
    "        hhi_score += p**2\n",
    "        \n",
    "    return hhi_score"
   ]
  },
  {
   "cell_type": "markdown",
   "id": "9301c034-9f67-4837-aede-71f6796cd233",
   "metadata": {},
   "source": [
    "Calculate for 2013"
   ]
  },
  {
   "cell_type": "code",
   "execution_count": 10,
   "id": "22ea2ef5-d5ff-4da6-926d-eb833e928be6",
   "metadata": {},
   "outputs": [],
   "source": [
    "combined['ethnic_concentration_hhi'] = combined.apply(calculate_ethnic_hhi, axis=1)"
   ]
  },
  {
   "cell_type": "markdown",
   "id": "68637993-e4f5-4a2a-be54-734f1de46536",
   "metadata": {},
   "source": [
    "Impute variable as a constant for respective municipalities for all years."
   ]
  },
  {
   "cell_type": "code",
   "execution_count": 11,
   "id": "e5a7365d-24ab-459f-91ed-62a292745819",
   "metadata": {},
   "outputs": [],
   "source": [
    "combined['ethnic_concentration_hhi'] = combined.groupby('Municipality')['ethnic_concentration_hhi'].transform(lambda x: x.ffill().bfill())\n",
    "combined = combined.drop(columns=['Percentage Bosniak', 'Percentage Croat', 'Percentage Serb'])"
   ]
  },
  {
   "cell_type": "markdown",
   "id": "f44204a0-44e8-4f6c-b2e2-58126b6ac948",
   "metadata": {},
   "source": [
    "### 2.2 Voting Fragmentation variable"
   ]
  },
  {
   "cell_type": "markdown",
   "id": "995ad76c-4487-4823-9969-13a906869ff8",
   "metadata": {},
   "source": [
    "First to linearly interpolate it for years that did not have elections."
   ]
  },
  {
   "cell_type": "code",
   "execution_count": 12,
   "id": "54f83662-14ec-4d90-88bd-ff2744b3df1b",
   "metadata": {},
   "outputs": [],
   "source": [
    "combined = combined.sort_values(by=['Municipality', 'Year'])\n",
    "cols_to_interpolate = ['percentage_bosnian_votes', 'percentage_croat_votes']\n",
    "combined[cols_to_interpolate] = combined.groupby('Municipality')[cols_to_interpolate].transform(lambda x: x.interpolate(method='linear'))"
   ]
  },
  {
   "cell_type": "markdown",
   "id": "4cd6b068-e172-4fc1-9998-865737c732b1",
   "metadata": {},
   "source": [
    "Now to create an HHI variable for political fragmentation."
   ]
  },
  {
   "cell_type": "code",
   "execution_count": 13,
   "id": "ac53f760-c246-4e1f-9103-98af977e4fc4",
   "metadata": {},
   "outputs": [],
   "source": [
    "def calculate_political_hhi(row):\n",
    "    percentages = [\n",
    "        row['percentage_bosnian_votes'],\n",
    "        row['percentage_croat_votes'],\n",
    "    ]\n",
    "    \n",
    "    if any(pd.isna(p) for p in percentages):\n",
    "        return np.nan\n",
    "    \n",
    "    hhi_score = 0\n",
    "    for p in percentages:\n",
    "        hhi_score += p**2\n",
    "        \n",
    "    return hhi_score"
   ]
  },
  {
   "cell_type": "code",
   "execution_count": 14,
   "id": "4076c2b2-12d7-47ab-a6ed-0264a930b41e",
   "metadata": {},
   "outputs": [],
   "source": [
    "combined['political_fragmentation_hhi'] = combined.apply(calculate_political_hhi, axis=1)\n",
    "combined = combined.drop(columns=['percentage_bosnian_votes', 'percentage_croat_votes'])"
   ]
  },
  {
   "cell_type": "markdown",
   "id": "466ef466-443d-4711-8997-fee95b49293e",
   "metadata": {},
   "source": [
    "Make the timeline actually be 2012 to 2022"
   ]
  },
  {
   "cell_type": "code",
   "execution_count": null,
   "id": "d809d70c-81b6-4149-ac42-ab04ee46792f",
   "metadata": {},
   "outputs": [],
   "source": [
    "combined = combined[combined[\"Year\"].between(2012, 2022)].copy()\n",
    "# combined"
   ]
  },
  {
   "cell_type": "markdown",
   "id": "6ac26bbd-a51b-491c-8ae1-741fc4e2dd18",
   "metadata": {},
   "source": [
    "## 3. Percentage of Agricultural Entities"
   ]
  },
  {
   "cell_type": "markdown",
   "id": "0b05c418-f59a-4ad4-a89e-36ca53582cdb",
   "metadata": {},
   "source": [
    "Used as a proxy for development and education based off the asusmption that areas with higher amounts of businesses in agriculture don't need workers with high amounts of human capital.\n",
    "\n",
    "This is used instead of direct human capital variables due to data limitations of finding such a variable at the municipal level."
   ]
  },
  {
   "cell_type": "code",
   "execution_count": null,
   "id": "205c99a2-ed86-4897-9676-7e36a836b70e",
   "metadata": {},
   "outputs": [],
   "source": [
    "combined[\"Percentage of Agricultural Businesses\"] = combined[\"A-Agriculture, forestry and fishing\"] / combined[\"Total\"]"
   ]
  },
  {
   "cell_type": "markdown",
   "id": "7c16fbb3-372f-47f4-952c-3169afcdb527",
   "metadata": {},
   "source": [
    "Now to drop the other sector columns"
   ]
  },
  {
   "cell_type": "code",
   "execution_count": 35,
   "id": "c0223465-c5ad-4f87-a57a-1ea98148b096",
   "metadata": {},
   "outputs": [],
   "source": [
    "start_col = '00-Unclassified according to activities CEA 1)'\n",
    "end_col = 'Total'\n",
    "\n",
    "start_index = combined.columns.get_loc(start_col)\n",
    "end_index = combined.columns.get_loc(end_col)\n",
    "\n",
    "cols_to_drop = combined.columns[start_index : end_index + 1]\n",
    "\n",
    "combined = combined.drop(columns=cols_to_drop)"
   ]
  },
  {
   "cell_type": "code",
   "execution_count": 38,
   "id": "2caaace0-dc27-49df-b120-e59ae7694e25",
   "metadata": {},
   "outputs": [
    {
     "data": {
      "text/html": [
       "<div>\n",
       "<style scoped>\n",
       "    .dataframe tbody tr th:only-of-type {\n",
       "        vertical-align: middle;\n",
       "    }\n",
       "\n",
       "    .dataframe tbody tr th {\n",
       "        vertical-align: top;\n",
       "    }\n",
       "\n",
       "    .dataframe thead th {\n",
       "        text-align: right;\n",
       "    }\n",
       "</style>\n",
       "<table border=\"1\" class=\"dataframe\">\n",
       "  <thead>\n",
       "    <tr style=\"text-align: right;\">\n",
       "      <th></th>\n",
       "      <th>Municipality</th>\n",
       "      <th>Year</th>\n",
       "      <th>Gross Average Wage</th>\n",
       "      <th>ethnic_concentration_hhi</th>\n",
       "      <th>political_fragmentation_hhi</th>\n",
       "      <th>Percentage of Agricultural Businesses</th>\n",
       "      <th>Employees</th>\n",
       "    </tr>\n",
       "  </thead>\n",
       "  <tbody>\n",
       "    <tr>\n",
       "      <th>564</th>\n",
       "      <td>banovici</td>\n",
       "      <td>2012</td>\n",
       "      <td>1220.0</td>\n",
       "      <td>0.953261</td>\n",
       "      <td>0.706868</td>\n",
       "      <td>0.019355</td>\n",
       "      <td>5056.0</td>\n",
       "    </tr>\n",
       "    <tr>\n",
       "      <th>643</th>\n",
       "      <td>banovici</td>\n",
       "      <td>2013</td>\n",
       "      <td>1248.0</td>\n",
       "      <td>0.953261</td>\n",
       "      <td>0.827413</td>\n",
       "      <td>0.022340</td>\n",
       "      <td>5214.0</td>\n",
       "    </tr>\n",
       "    <tr>\n",
       "      <th>722</th>\n",
       "      <td>banovici</td>\n",
       "      <td>2014</td>\n",
       "      <td>1261.0</td>\n",
       "      <td>0.953261</td>\n",
       "      <td>0.975511</td>\n",
       "      <td>0.023256</td>\n",
       "      <td>5167.0</td>\n",
       "    </tr>\n",
       "    <tr>\n",
       "      <th>801</th>\n",
       "      <td>banovici</td>\n",
       "      <td>2015</td>\n",
       "      <td>1270.0</td>\n",
       "      <td>0.953261</td>\n",
       "      <td>0.917824</td>\n",
       "      <td>0.025316</td>\n",
       "      <td>5230.0</td>\n",
       "    </tr>\n",
       "    <tr>\n",
       "      <th>880</th>\n",
       "      <td>banovici</td>\n",
       "      <td>2016</td>\n",
       "      <td>1276.0</td>\n",
       "      <td>0.953261</td>\n",
       "      <td>0.863865</td>\n",
       "      <td>0.025000</td>\n",
       "      <td>5169.0</td>\n",
       "    </tr>\n",
       "    <tr>\n",
       "      <th>...</th>\n",
       "      <td>...</td>\n",
       "      <td>...</td>\n",
       "      <td>...</td>\n",
       "      <td>...</td>\n",
       "      <td>...</td>\n",
       "      <td>...</td>\n",
       "      <td>...</td>\n",
       "    </tr>\n",
       "    <tr>\n",
       "      <th>1050</th>\n",
       "      <td>zivinice</td>\n",
       "      <td>2018</td>\n",
       "      <td>1187.0</td>\n",
       "      <td>0.905964</td>\n",
       "      <td>0.581126</td>\n",
       "      <td>0.038872</td>\n",
       "      <td>10137.0</td>\n",
       "    </tr>\n",
       "    <tr>\n",
       "      <th>1129</th>\n",
       "      <td>zivinice</td>\n",
       "      <td>2019</td>\n",
       "      <td>1185.0</td>\n",
       "      <td>0.905964</td>\n",
       "      <td>0.585950</td>\n",
       "      <td>0.036850</td>\n",
       "      <td>10911.0</td>\n",
       "    </tr>\n",
       "    <tr>\n",
       "      <th>1208</th>\n",
       "      <td>zivinice</td>\n",
       "      <td>2020</td>\n",
       "      <td>1208.0</td>\n",
       "      <td>0.905964</td>\n",
       "      <td>0.590914</td>\n",
       "      <td>0.035323</td>\n",
       "      <td>10916.0</td>\n",
       "    </tr>\n",
       "    <tr>\n",
       "      <th>1287</th>\n",
       "      <td>zivinice</td>\n",
       "      <td>2021</td>\n",
       "      <td>1241.0</td>\n",
       "      <td>0.905964</td>\n",
       "      <td>0.596017</td>\n",
       "      <td>0.030917</td>\n",
       "      <td>10929.0</td>\n",
       "    </tr>\n",
       "    <tr>\n",
       "      <th>1366</th>\n",
       "      <td>zivinice</td>\n",
       "      <td>2022</td>\n",
       "      <td>1414.0</td>\n",
       "      <td>0.905964</td>\n",
       "      <td>0.601259</td>\n",
       "      <td>0.029766</td>\n",
       "      <td>11084.0</td>\n",
       "    </tr>\n",
       "  </tbody>\n",
       "</table>\n",
       "<p>869 rows × 7 columns</p>\n",
       "</div>"
      ],
      "text/plain": [
       "     Municipality  Year  Gross Average Wage  ethnic_concentration_hhi  \\\n",
       "564      banovici  2012              1220.0                  0.953261   \n",
       "643      banovici  2013              1248.0                  0.953261   \n",
       "722      banovici  2014              1261.0                  0.953261   \n",
       "801      banovici  2015              1270.0                  0.953261   \n",
       "880      banovici  2016              1276.0                  0.953261   \n",
       "...           ...   ...                 ...                       ...   \n",
       "1050     zivinice  2018              1187.0                  0.905964   \n",
       "1129     zivinice  2019              1185.0                  0.905964   \n",
       "1208     zivinice  2020              1208.0                  0.905964   \n",
       "1287     zivinice  2021              1241.0                  0.905964   \n",
       "1366     zivinice  2022              1414.0                  0.905964   \n",
       "\n",
       "      political_fragmentation_hhi  Percentage of Agricultural Businesses  \\\n",
       "564                      0.706868                               0.019355   \n",
       "643                      0.827413                               0.022340   \n",
       "722                      0.975511                               0.023256   \n",
       "801                      0.917824                               0.025316   \n",
       "880                      0.863865                               0.025000   \n",
       "...                           ...                                    ...   \n",
       "1050                     0.581126                               0.038872   \n",
       "1129                     0.585950                               0.036850   \n",
       "1208                     0.590914                               0.035323   \n",
       "1287                     0.596017                               0.030917   \n",
       "1366                     0.601259                               0.029766   \n",
       "\n",
       "      Employees  \n",
       "564      5056.0  \n",
       "643      5214.0  \n",
       "722      5167.0  \n",
       "801      5230.0  \n",
       "880      5169.0  \n",
       "...         ...  \n",
       "1050    10137.0  \n",
       "1129    10911.0  \n",
       "1208    10916.0  \n",
       "1287    10929.0  \n",
       "1366    11084.0  \n",
       "\n",
       "[869 rows x 7 columns]"
      ]
     },
     "execution_count": 38,
     "metadata": {},
     "output_type": "execute_result"
    }
   ],
   "source": [
    "combined = combined[\n",
    "    [\n",
    "        \"Municipality\", \n",
    "        \"Year\", \n",
    "        \"Gross Average Wage\", \n",
    "        \"ethnic_concentration_hhi\", \n",
    "        \"political_fragmentation_hhi\", \n",
    "        \"Percentage of Agricultural Businesses\", \n",
    "        \"Employees\"\n",
    "    ]\n",
    "]\n",
    "combined"
   ]
  },
  {
   "cell_type": "markdown",
   "id": "3354c5e1-2109-406a-80a8-6df1ddc77386",
   "metadata": {},
   "source": [
    "## 4. Clean up remaining data and adjust datatypes"
   ]
  },
  {
   "cell_type": "markdown",
   "id": "fbdaef4b-06f8-4625-bb25-fc824fbc2649",
   "metadata": {},
   "source": [
    "Going to do a sanity check that there are only 79 municipalities in the dataset as there should be."
   ]
  },
  {
   "cell_type": "code",
   "execution_count": 56,
   "id": "bcd469b8-0fb0-4199-b73f-3477431c2278",
   "metadata": {},
   "outputs": [
    {
     "data": {
      "text/plain": [
       "79"
      ]
     },
     "execution_count": 56,
     "metadata": {},
     "output_type": "execute_result"
    }
   ],
   "source": [
    "len(combined[\"Municipality\"].unique())"
   ]
  },
  {
   "cell_type": "markdown",
   "id": "c932f472-451a-4e67-bb15-6100bd957993",
   "metadata": {},
   "source": [
    "Same sanity check for years and making sure that years are actually an int value for stata."
   ]
  },
  {
   "cell_type": "code",
   "execution_count": 59,
   "id": "5ac2546c-2ccd-40ef-8ebd-7047a26b1e57",
   "metadata": {},
   "outputs": [
    {
     "data": {
      "text/plain": [
       "(11, dtype('int64'))"
      ]
     },
     "execution_count": 59,
     "metadata": {},
     "output_type": "execute_result"
    }
   ],
   "source": [
    "len(combined[\"Year\"].unique()), combined[\"Year\"].dtype"
   ]
  },
  {
   "cell_type": "markdown",
   "id": "a309cc1e-2e6d-485a-a5b5-5fa02b642318",
   "metadata": {},
   "source": [
    "The only nan that existed for `Gross Average Wage` col was for dobretici in 2006. The following cell will confirm if there are any decimals values (other than .0) in that column before casting to ints."
   ]
  },
  {
   "cell_type": "code",
   "execution_count": 47,
   "id": "479d6d84-fd2e-4c4f-8acf-430ebf3b59ce",
   "metadata": {},
   "outputs": [
    {
     "name": "stdout",
     "output_type": "stream",
     "text": [
      "Number of values with decimals: 0\n"
     ]
    }
   ],
   "source": [
    "decimal_count = (combined['Gross Average Wage'] % 1 != 0).sum()\n",
    "\n",
    "print(f\"Number of values with decimals: {decimal_count}\")"
   ]
  },
  {
   "cell_type": "code",
   "execution_count": 48,
   "id": "fcc228a3-bf45-4836-aec7-6515b958eaf6",
   "metadata": {},
   "outputs": [],
   "source": [
    "combined['Gross Average Wage'] = combined['Gross Average Wage'].astype('int64')"
   ]
  },
  {
   "cell_type": "markdown",
   "id": "4669290c-a61a-461d-b8ad-e27df706499f",
   "metadata": {},
   "source": [
    "The only nan that existed for `Employees` col was for dobretici in 2006. The following cell will confirm if there are any decimals values (other than .0) in that column before casting to ints."
   ]
  },
  {
   "cell_type": "code",
   "execution_count": 50,
   "id": "d3b16ca9-5c20-4ead-8636-53a46b4e3f45",
   "metadata": {},
   "outputs": [
    {
     "name": "stdout",
     "output_type": "stream",
     "text": [
      "Number of values with decimals: 0\n"
     ]
    }
   ],
   "source": [
    "decimal_count = (combined['Employees'] % 1 != 0).sum()\n",
    "\n",
    "print(f\"Number of values with decimals: {decimal_count}\")"
   ]
  },
  {
   "cell_type": "code",
   "execution_count": 51,
   "id": "b68a9433-8f7c-4bac-aa88-ffaaa3bb198f",
   "metadata": {},
   "outputs": [],
   "source": [
    "combined['Employees'] = combined['Employees'].astype('int64')"
   ]
  },
  {
   "cell_type": "code",
   "execution_count": 52,
   "id": "039285ee-d01e-4563-bcff-31209ad6686b",
   "metadata": {},
   "outputs": [
    {
     "data": {
      "text/html": [
       "<div>\n",
       "<style scoped>\n",
       "    .dataframe tbody tr th:only-of-type {\n",
       "        vertical-align: middle;\n",
       "    }\n",
       "\n",
       "    .dataframe tbody tr th {\n",
       "        vertical-align: top;\n",
       "    }\n",
       "\n",
       "    .dataframe thead th {\n",
       "        text-align: right;\n",
       "    }\n",
       "</style>\n",
       "<table border=\"1\" class=\"dataframe\">\n",
       "  <thead>\n",
       "    <tr style=\"text-align: right;\">\n",
       "      <th></th>\n",
       "      <th>Municipality</th>\n",
       "      <th>Year</th>\n",
       "      <th>Gross Average Wage</th>\n",
       "      <th>ethnic_concentration_hhi</th>\n",
       "      <th>political_fragmentation_hhi</th>\n",
       "      <th>Percentage of Agricultural Businesses</th>\n",
       "      <th>Employees</th>\n",
       "    </tr>\n",
       "  </thead>\n",
       "  <tbody>\n",
       "    <tr>\n",
       "      <th>564</th>\n",
       "      <td>banovici</td>\n",
       "      <td>2012</td>\n",
       "      <td>1220</td>\n",
       "      <td>0.953261</td>\n",
       "      <td>0.706868</td>\n",
       "      <td>0.019355</td>\n",
       "      <td>5056</td>\n",
       "    </tr>\n",
       "    <tr>\n",
       "      <th>643</th>\n",
       "      <td>banovici</td>\n",
       "      <td>2013</td>\n",
       "      <td>1248</td>\n",
       "      <td>0.953261</td>\n",
       "      <td>0.827413</td>\n",
       "      <td>0.022340</td>\n",
       "      <td>5214</td>\n",
       "    </tr>\n",
       "    <tr>\n",
       "      <th>722</th>\n",
       "      <td>banovici</td>\n",
       "      <td>2014</td>\n",
       "      <td>1261</td>\n",
       "      <td>0.953261</td>\n",
       "      <td>0.975511</td>\n",
       "      <td>0.023256</td>\n",
       "      <td>5167</td>\n",
       "    </tr>\n",
       "    <tr>\n",
       "      <th>801</th>\n",
       "      <td>banovici</td>\n",
       "      <td>2015</td>\n",
       "      <td>1270</td>\n",
       "      <td>0.953261</td>\n",
       "      <td>0.917824</td>\n",
       "      <td>0.025316</td>\n",
       "      <td>5230</td>\n",
       "    </tr>\n",
       "    <tr>\n",
       "      <th>880</th>\n",
       "      <td>banovici</td>\n",
       "      <td>2016</td>\n",
       "      <td>1276</td>\n",
       "      <td>0.953261</td>\n",
       "      <td>0.863865</td>\n",
       "      <td>0.025000</td>\n",
       "      <td>5169</td>\n",
       "    </tr>\n",
       "    <tr>\n",
       "      <th>...</th>\n",
       "      <td>...</td>\n",
       "      <td>...</td>\n",
       "      <td>...</td>\n",
       "      <td>...</td>\n",
       "      <td>...</td>\n",
       "      <td>...</td>\n",
       "      <td>...</td>\n",
       "    </tr>\n",
       "    <tr>\n",
       "      <th>1050</th>\n",
       "      <td>zivinice</td>\n",
       "      <td>2018</td>\n",
       "      <td>1187</td>\n",
       "      <td>0.905964</td>\n",
       "      <td>0.581126</td>\n",
       "      <td>0.038872</td>\n",
       "      <td>10137</td>\n",
       "    </tr>\n",
       "    <tr>\n",
       "      <th>1129</th>\n",
       "      <td>zivinice</td>\n",
       "      <td>2019</td>\n",
       "      <td>1185</td>\n",
       "      <td>0.905964</td>\n",
       "      <td>0.585950</td>\n",
       "      <td>0.036850</td>\n",
       "      <td>10911</td>\n",
       "    </tr>\n",
       "    <tr>\n",
       "      <th>1208</th>\n",
       "      <td>zivinice</td>\n",
       "      <td>2020</td>\n",
       "      <td>1208</td>\n",
       "      <td>0.905964</td>\n",
       "      <td>0.590914</td>\n",
       "      <td>0.035323</td>\n",
       "      <td>10916</td>\n",
       "    </tr>\n",
       "    <tr>\n",
       "      <th>1287</th>\n",
       "      <td>zivinice</td>\n",
       "      <td>2021</td>\n",
       "      <td>1241</td>\n",
       "      <td>0.905964</td>\n",
       "      <td>0.596017</td>\n",
       "      <td>0.030917</td>\n",
       "      <td>10929</td>\n",
       "    </tr>\n",
       "    <tr>\n",
       "      <th>1366</th>\n",
       "      <td>zivinice</td>\n",
       "      <td>2022</td>\n",
       "      <td>1414</td>\n",
       "      <td>0.905964</td>\n",
       "      <td>0.601259</td>\n",
       "      <td>0.029766</td>\n",
       "      <td>11084</td>\n",
       "    </tr>\n",
       "  </tbody>\n",
       "</table>\n",
       "<p>869 rows × 7 columns</p>\n",
       "</div>"
      ],
      "text/plain": [
       "     Municipality  Year  Gross Average Wage  ethnic_concentration_hhi  \\\n",
       "564      banovici  2012                1220                  0.953261   \n",
       "643      banovici  2013                1248                  0.953261   \n",
       "722      banovici  2014                1261                  0.953261   \n",
       "801      banovici  2015                1270                  0.953261   \n",
       "880      banovici  2016                1276                  0.953261   \n",
       "...           ...   ...                 ...                       ...   \n",
       "1050     zivinice  2018                1187                  0.905964   \n",
       "1129     zivinice  2019                1185                  0.905964   \n",
       "1208     zivinice  2020                1208                  0.905964   \n",
       "1287     zivinice  2021                1241                  0.905964   \n",
       "1366     zivinice  2022                1414                  0.905964   \n",
       "\n",
       "      political_fragmentation_hhi  Percentage of Agricultural Businesses  \\\n",
       "564                      0.706868                               0.019355   \n",
       "643                      0.827413                               0.022340   \n",
       "722                      0.975511                               0.023256   \n",
       "801                      0.917824                               0.025316   \n",
       "880                      0.863865                               0.025000   \n",
       "...                           ...                                    ...   \n",
       "1050                     0.581126                               0.038872   \n",
       "1129                     0.585950                               0.036850   \n",
       "1208                     0.590914                               0.035323   \n",
       "1287                     0.596017                               0.030917   \n",
       "1366                     0.601259                               0.029766   \n",
       "\n",
       "      Employees  \n",
       "564        5056  \n",
       "643        5214  \n",
       "722        5167  \n",
       "801        5230  \n",
       "880        5169  \n",
       "...         ...  \n",
       "1050      10137  \n",
       "1129      10911  \n",
       "1208      10916  \n",
       "1287      10929  \n",
       "1366      11084  \n",
       "\n",
       "[869 rows x 7 columns]"
      ]
     },
     "execution_count": 52,
     "metadata": {},
     "output_type": "execute_result"
    }
   ],
   "source": [
    "combined"
   ]
  },
  {
   "cell_type": "markdown",
   "id": "071259a0-fd32-4add-9488-fb3091882029",
   "metadata": {},
   "source": [
    "Now to save this"
   ]
  },
  {
   "cell_type": "code",
   "execution_count": 61,
   "id": "3e0f2bd8-b846-4a25-8a22-37e08bbaa9ba",
   "metadata": {},
   "outputs": [],
   "source": [
    "combined.to_excel(SAVE_DIR + \"combined_clean.xlsx\", index=False)"
   ]
  },
  {
   "cell_type": "code",
   "execution_count": 63,
   "id": "10975067-1b67-460f-ad4d-e01e301897f5",
   "metadata": {},
   "outputs": [
    {
     "data": {
      "text/html": [
       "<div>\n",
       "<style scoped>\n",
       "    .dataframe tbody tr th:only-of-type {\n",
       "        vertical-align: middle;\n",
       "    }\n",
       "\n",
       "    .dataframe tbody tr th {\n",
       "        vertical-align: top;\n",
       "    }\n",
       "\n",
       "    .dataframe thead th {\n",
       "        text-align: right;\n",
       "    }\n",
       "</style>\n",
       "<table border=\"1\" class=\"dataframe\">\n",
       "  <thead>\n",
       "    <tr style=\"text-align: right;\">\n",
       "      <th></th>\n",
       "      <th>Municipality</th>\n",
       "      <th>Year</th>\n",
       "      <th>Gross Average Wage</th>\n",
       "      <th>ethnic_concentration_hhi</th>\n",
       "      <th>political_fragmentation_hhi</th>\n",
       "      <th>Percentage of Agricultural Businesses</th>\n",
       "      <th>Employees</th>\n",
       "    </tr>\n",
       "  </thead>\n",
       "  <tbody>\n",
       "    <tr>\n",
       "      <th>0</th>\n",
       "      <td>banovici</td>\n",
       "      <td>2012</td>\n",
       "      <td>1220</td>\n",
       "      <td>0.953261</td>\n",
       "      <td>0.706868</td>\n",
       "      <td>0.019355</td>\n",
       "      <td>5056</td>\n",
       "    </tr>\n",
       "    <tr>\n",
       "      <th>1</th>\n",
       "      <td>banovici</td>\n",
       "      <td>2013</td>\n",
       "      <td>1248</td>\n",
       "      <td>0.953261</td>\n",
       "      <td>0.827413</td>\n",
       "      <td>0.022340</td>\n",
       "      <td>5214</td>\n",
       "    </tr>\n",
       "    <tr>\n",
       "      <th>2</th>\n",
       "      <td>banovici</td>\n",
       "      <td>2014</td>\n",
       "      <td>1261</td>\n",
       "      <td>0.953261</td>\n",
       "      <td>0.975511</td>\n",
       "      <td>0.023256</td>\n",
       "      <td>5167</td>\n",
       "    </tr>\n",
       "    <tr>\n",
       "      <th>3</th>\n",
       "      <td>banovici</td>\n",
       "      <td>2015</td>\n",
       "      <td>1270</td>\n",
       "      <td>0.953261</td>\n",
       "      <td>0.917824</td>\n",
       "      <td>0.025316</td>\n",
       "      <td>5230</td>\n",
       "    </tr>\n",
       "    <tr>\n",
       "      <th>4</th>\n",
       "      <td>banovici</td>\n",
       "      <td>2016</td>\n",
       "      <td>1276</td>\n",
       "      <td>0.953261</td>\n",
       "      <td>0.863865</td>\n",
       "      <td>0.025000</td>\n",
       "      <td>5169</td>\n",
       "    </tr>\n",
       "    <tr>\n",
       "      <th>...</th>\n",
       "      <td>...</td>\n",
       "      <td>...</td>\n",
       "      <td>...</td>\n",
       "      <td>...</td>\n",
       "      <td>...</td>\n",
       "      <td>...</td>\n",
       "      <td>...</td>\n",
       "    </tr>\n",
       "    <tr>\n",
       "      <th>864</th>\n",
       "      <td>zivinice</td>\n",
       "      <td>2018</td>\n",
       "      <td>1187</td>\n",
       "      <td>0.905964</td>\n",
       "      <td>0.581126</td>\n",
       "      <td>0.038872</td>\n",
       "      <td>10137</td>\n",
       "    </tr>\n",
       "    <tr>\n",
       "      <th>865</th>\n",
       "      <td>zivinice</td>\n",
       "      <td>2019</td>\n",
       "      <td>1185</td>\n",
       "      <td>0.905964</td>\n",
       "      <td>0.585950</td>\n",
       "      <td>0.036850</td>\n",
       "      <td>10911</td>\n",
       "    </tr>\n",
       "    <tr>\n",
       "      <th>866</th>\n",
       "      <td>zivinice</td>\n",
       "      <td>2020</td>\n",
       "      <td>1208</td>\n",
       "      <td>0.905964</td>\n",
       "      <td>0.590914</td>\n",
       "      <td>0.035323</td>\n",
       "      <td>10916</td>\n",
       "    </tr>\n",
       "    <tr>\n",
       "      <th>867</th>\n",
       "      <td>zivinice</td>\n",
       "      <td>2021</td>\n",
       "      <td>1241</td>\n",
       "      <td>0.905964</td>\n",
       "      <td>0.596017</td>\n",
       "      <td>0.030917</td>\n",
       "      <td>10929</td>\n",
       "    </tr>\n",
       "    <tr>\n",
       "      <th>868</th>\n",
       "      <td>zivinice</td>\n",
       "      <td>2022</td>\n",
       "      <td>1414</td>\n",
       "      <td>0.905964</td>\n",
       "      <td>0.601259</td>\n",
       "      <td>0.029766</td>\n",
       "      <td>11084</td>\n",
       "    </tr>\n",
       "  </tbody>\n",
       "</table>\n",
       "<p>869 rows × 7 columns</p>\n",
       "</div>"
      ],
      "text/plain": [
       "    Municipality  Year  Gross Average Wage  ethnic_concentration_hhi  \\\n",
       "0       banovici  2012                1220                  0.953261   \n",
       "1       banovici  2013                1248                  0.953261   \n",
       "2       banovici  2014                1261                  0.953261   \n",
       "3       banovici  2015                1270                  0.953261   \n",
       "4       banovici  2016                1276                  0.953261   \n",
       "..           ...   ...                 ...                       ...   \n",
       "864     zivinice  2018                1187                  0.905964   \n",
       "865     zivinice  2019                1185                  0.905964   \n",
       "866     zivinice  2020                1208                  0.905964   \n",
       "867     zivinice  2021                1241                  0.905964   \n",
       "868     zivinice  2022                1414                  0.905964   \n",
       "\n",
       "     political_fragmentation_hhi  Percentage of Agricultural Businesses  \\\n",
       "0                       0.706868                               0.019355   \n",
       "1                       0.827413                               0.022340   \n",
       "2                       0.975511                               0.023256   \n",
       "3                       0.917824                               0.025316   \n",
       "4                       0.863865                               0.025000   \n",
       "..                           ...                                    ...   \n",
       "864                     0.581126                               0.038872   \n",
       "865                     0.585950                               0.036850   \n",
       "866                     0.590914                               0.035323   \n",
       "867                     0.596017                               0.030917   \n",
       "868                     0.601259                               0.029766   \n",
       "\n",
       "     Employees  \n",
       "0         5056  \n",
       "1         5214  \n",
       "2         5167  \n",
       "3         5230  \n",
       "4         5169  \n",
       "..         ...  \n",
       "864      10137  \n",
       "865      10911  \n",
       "866      10916  \n",
       "867      10929  \n",
       "868      11084  \n",
       "\n",
       "[869 rows x 7 columns]"
      ]
     },
     "execution_count": 63,
     "metadata": {},
     "output_type": "execute_result"
    }
   ],
   "source": [
    "df = pd.read_excel(SAVE_DIR + \"combined_clean.xlsx\")\n",
    "df"
   ]
  }
 ],
 "metadata": {
  "kernelspec": {
   "display_name": "Python 3 (ipykernel)",
   "language": "python",
   "name": "python3"
  },
  "language_info": {
   "codemirror_mode": {
    "name": "ipython",
    "version": 3
   },
   "file_extension": ".py",
   "mimetype": "text/x-python",
   "name": "python",
   "nbconvert_exporter": "python",
   "pygments_lexer": "ipython3",
   "version": "3.11.14"
  }
 },
 "nbformat": 4,
 "nbformat_minor": 5
}
