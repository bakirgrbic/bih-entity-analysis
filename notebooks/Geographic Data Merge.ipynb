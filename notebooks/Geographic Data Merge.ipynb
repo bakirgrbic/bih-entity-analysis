{
 "cells": [
  {
   "cell_type": "markdown",
   "id": "bee73635-3704-4b24-8540-6524bf3db492",
   "metadata": {},
   "source": [
    "# Geographic Data Merge"
   ]
  },
  {
   "cell_type": "markdown",
   "id": "e7d89840-c173-4c3b-85e7-af8818cef514",
   "metadata": {},
   "source": [
    "I want to visualize my data with an actual map as it would be difficult to get all 79 municipalities on a single graph for wages and years for example.\n",
    "\n",
    "Geographic data obtained from [geoBoundaries](https://www.geoboundaries.org) by searching for BIH country code and using ADM1 and ADM3 maps."
   ]
  },
  {
   "cell_type": "code",
   "execution_count": 1,
   "id": "a729c759-a62b-469b-9ba5-12083e761eb9",
   "metadata": {},
   "outputs": [],
   "source": [
    "import geopandas as gpd\n",
    "import pandas as pd\n",
    "import matplotlib.pyplot as plt\n",
    "from matplotlib.animation import FuncAnimation\n",
    "\n",
    "from tools.config import GEO_DIR, SAVE_DIR, GIF_DIR"
   ]
  },
  {
   "cell_type": "markdown",
   "id": "de0ddab8-049a-419e-8031-f328dd6d9a68",
   "metadata": {},
   "source": [
    "Read in the Geographic files"
   ]
  },
  {
   "cell_type": "code",
   "execution_count": 2,
   "id": "bf54c77a-ae1d-4063-b09b-b3923e9a8c90",
   "metadata": {},
   "outputs": [],
   "source": [
    "adm1 = gpd.read_file(GEO_DIR + \"geoBoundaries-BIH-ADM1-all/geoBoundaries-BIH-ADM1.geojson\")\n",
    "adm3 = gpd.read_file(GEO_DIR + \"geoBoundaries-BIH-ADM3-all/geoBoundaries-BIH-ADM3.geojson\")"
   ]
  },
  {
   "cell_type": "markdown",
   "id": "b6ce9fcf-cce8-4aec-a9a1-d045ca58e272",
   "metadata": {},
   "source": [
    "Need to make sure both files share the same crs"
   ]
  },
  {
   "cell_type": "code",
   "execution_count": 3,
   "id": "ae32c4b4-20c6-4f36-8174-e32b0a1475b6",
   "metadata": {},
   "outputs": [
    {
     "name": "stdout",
     "output_type": "stream",
     "text": [
      "ADM1 CRS: EPSG:4326\n",
      "ADM3 CRS: EPSG:4326\n"
     ]
    }
   ],
   "source": [
    "print(f\"ADM1 CRS: {adm1.crs}\")\n",
    "print(f\"ADM3 CRS: {adm3.crs}\")"
   ]
  },
  {
   "cell_type": "markdown",
   "id": "ed8dd23d-ecd4-4138-bf39-9da131eab9bb",
   "metadata": {},
   "source": [
    "I am having issues with trying to join the exact municipality polygons so I will be using their center points instead to do the join."
   ]
  },
  {
   "cell_type": "code",
   "execution_count": 4,
   "id": "5d8fe2da-1d71-4069-a247-479e6c4c73b7",
   "metadata": {},
   "outputs": [],
   "source": [
    "adm3_points = adm3.copy()\n",
    "adm3_points.geometry = adm3.geometry.representative_point()"
   ]
  },
  {
   "cell_type": "markdown",
   "id": "ed4dfdef-a57a-45ca-9140-f7767b83f7f0",
   "metadata": {},
   "source": [
    "Confirming shape name of entities"
   ]
  },
  {
   "cell_type": "code",
   "execution_count": 5,
   "id": "f0f380e4-280f-4dcf-8efc-245f89959610",
   "metadata": {},
   "outputs": [
    {
     "data": {
      "text/plain": [
       "array(['Brčko District', 'Republika Srpska',\n",
       "       'Federation of Bosnia and Herzegovina'], dtype=object)"
      ]
     },
     "execution_count": 5,
     "metadata": {},
     "output_type": "execute_result"
    }
   ],
   "source": [
    "adm1['shapeName'].unique()"
   ]
  },
  {
   "cell_type": "code",
   "execution_count": 6,
   "id": "027238c5-c6da-4ee9-8810-824af4a25b96",
   "metadata": {},
   "outputs": [],
   "source": [
    "fbih_entity = adm1[adm1['shapeName'] == 'Federation of Bosnia and Herzegovina']"
   ]
  },
  {
   "cell_type": "code",
   "execution_count": 7,
   "id": "94beb42b-616d-4099-9c37-ecae54d1f6da",
   "metadata": {},
   "outputs": [
    {
     "data": {
      "text/plain": [
       "'Found 80 municipalities.'"
      ]
     },
     "execution_count": 7,
     "metadata": {},
     "output_type": "execute_result"
    }
   ],
   "source": [
    "joined_points = gpd.sjoin(adm3_points, fbih_entity, how='inner', predicate='within')\n",
    "\n",
    "fbih_municipalities = adm3.loc[joined_points.index]\n",
    "f\"Found {len(fbih_municipalities)} municipalities.\""
   ]
  },
  {
   "cell_type": "markdown",
   "id": "55e78a69-2e81-423c-8c28-3d84e607b5af",
   "metadata": {},
   "source": [
    "Looks like an extra municipality is included, likely brcko but it will be removed when merging to economic and political data later. The following cell was made raw to avoid saving an image to vcs."
   ]
  },
  {
   "cell_type": "raw",
   "id": "c8c5f28d-c19e-45e2-8398-f9d00c98bc61",
   "metadata": {},
   "source": [
    "fig, ax = plt.subplots(1, 1, figsize=(12, 12))\n",
    "\n",
    "fbih_municipalities.plot(\n",
    "    cmap='viridis',\n",
    "    edgecolor='white',\n",
    "    linewidth=1,\n",
    "    ax=ax,\n",
    "    legend=True,\n",
    "    missing_kwds={\n",
    "        \"color\": \"lightgrey\",\n",
    "        \"edgecolor\": \"white\",\n",
    "        \"hatch\": \"///\",\n",
    "        \"label\": \"Missing values\",\n",
    "    }\n",
    ")\n",
    "\n",
    "fbih_entity.plot(\n",
    "    ax=ax,\n",
    "    facecolor='none',\n",
    "    edgecolor='black',\n",
    "    linewidth=2.5,\n",
    ")\n",
    "\n",
    "ax.set_title(\"Test Print: Analysis of Municipalities in FBiH\", fontsize=16)\n",
    "ax.set_axis_off()\n",
    "plt.tight_layout()\n",
    "plt.show()"
   ]
  },
  {
   "cell_type": "markdown",
   "id": "ecedb7a8-385a-4bee-83aa-5900a13b9353",
   "metadata": {},
   "source": [
    "Plot looks great, now to just merge with other data. Before doing that I have to make sure the `shapeName` col is the same format as my `Municiaplity` col."
   ]
  },
  {
   "cell_type": "code",
   "execution_count": 9,
   "id": "ea4c1f83-5f74-4090-b6d1-cda3b878a3cb",
   "metadata": {},
   "outputs": [
    {
     "data": {
      "text/html": [
       "<div>\n",
       "<style scoped>\n",
       "    .dataframe tbody tr th:only-of-type {\n",
       "        vertical-align: middle;\n",
       "    }\n",
       "\n",
       "    .dataframe tbody tr th {\n",
       "        vertical-align: top;\n",
       "    }\n",
       "\n",
       "    .dataframe thead th {\n",
       "        text-align: right;\n",
       "    }\n",
       "</style>\n",
       "<table border=\"1\" class=\"dataframe\">\n",
       "  <thead>\n",
       "    <tr style=\"text-align: right;\">\n",
       "      <th></th>\n",
       "      <th>Municipality</th>\n",
       "      <th>Year</th>\n",
       "      <th>Gross Average Wage</th>\n",
       "      <th>ethnic_concentration_hhi</th>\n",
       "      <th>political_fragmentation_hhi</th>\n",
       "      <th>Percentage of Agricultural Businesses</th>\n",
       "      <th>Employees</th>\n",
       "    </tr>\n",
       "  </thead>\n",
       "  <tbody>\n",
       "    <tr>\n",
       "      <th>0</th>\n",
       "      <td>banovici</td>\n",
       "      <td>2012</td>\n",
       "      <td>1220</td>\n",
       "      <td>0.953261</td>\n",
       "      <td>0.706868</td>\n",
       "      <td>0.019355</td>\n",
       "      <td>5056</td>\n",
       "    </tr>\n",
       "    <tr>\n",
       "      <th>1</th>\n",
       "      <td>banovici</td>\n",
       "      <td>2013</td>\n",
       "      <td>1248</td>\n",
       "      <td>0.953261</td>\n",
       "      <td>0.827413</td>\n",
       "      <td>0.022340</td>\n",
       "      <td>5214</td>\n",
       "    </tr>\n",
       "    <tr>\n",
       "      <th>2</th>\n",
       "      <td>banovici</td>\n",
       "      <td>2014</td>\n",
       "      <td>1261</td>\n",
       "      <td>0.953261</td>\n",
       "      <td>0.975511</td>\n",
       "      <td>0.023256</td>\n",
       "      <td>5167</td>\n",
       "    </tr>\n",
       "    <tr>\n",
       "      <th>3</th>\n",
       "      <td>banovici</td>\n",
       "      <td>2015</td>\n",
       "      <td>1270</td>\n",
       "      <td>0.953261</td>\n",
       "      <td>0.917824</td>\n",
       "      <td>0.025316</td>\n",
       "      <td>5230</td>\n",
       "    </tr>\n",
       "    <tr>\n",
       "      <th>4</th>\n",
       "      <td>banovici</td>\n",
       "      <td>2016</td>\n",
       "      <td>1276</td>\n",
       "      <td>0.953261</td>\n",
       "      <td>0.863865</td>\n",
       "      <td>0.025000</td>\n",
       "      <td>5169</td>\n",
       "    </tr>\n",
       "    <tr>\n",
       "      <th>...</th>\n",
       "      <td>...</td>\n",
       "      <td>...</td>\n",
       "      <td>...</td>\n",
       "      <td>...</td>\n",
       "      <td>...</td>\n",
       "      <td>...</td>\n",
       "      <td>...</td>\n",
       "    </tr>\n",
       "    <tr>\n",
       "      <th>864</th>\n",
       "      <td>zivinice</td>\n",
       "      <td>2018</td>\n",
       "      <td>1187</td>\n",
       "      <td>0.905964</td>\n",
       "      <td>0.581126</td>\n",
       "      <td>0.038872</td>\n",
       "      <td>10137</td>\n",
       "    </tr>\n",
       "    <tr>\n",
       "      <th>865</th>\n",
       "      <td>zivinice</td>\n",
       "      <td>2019</td>\n",
       "      <td>1185</td>\n",
       "      <td>0.905964</td>\n",
       "      <td>0.585950</td>\n",
       "      <td>0.036850</td>\n",
       "      <td>10911</td>\n",
       "    </tr>\n",
       "    <tr>\n",
       "      <th>866</th>\n",
       "      <td>zivinice</td>\n",
       "      <td>2020</td>\n",
       "      <td>1208</td>\n",
       "      <td>0.905964</td>\n",
       "      <td>0.590914</td>\n",
       "      <td>0.035323</td>\n",
       "      <td>10916</td>\n",
       "    </tr>\n",
       "    <tr>\n",
       "      <th>867</th>\n",
       "      <td>zivinice</td>\n",
       "      <td>2021</td>\n",
       "      <td>1241</td>\n",
       "      <td>0.905964</td>\n",
       "      <td>0.596017</td>\n",
       "      <td>0.030917</td>\n",
       "      <td>10929</td>\n",
       "    </tr>\n",
       "    <tr>\n",
       "      <th>868</th>\n",
       "      <td>zivinice</td>\n",
       "      <td>2022</td>\n",
       "      <td>1414</td>\n",
       "      <td>0.905964</td>\n",
       "      <td>0.601259</td>\n",
       "      <td>0.029766</td>\n",
       "      <td>11084</td>\n",
       "    </tr>\n",
       "  </tbody>\n",
       "</table>\n",
       "<p>869 rows × 7 columns</p>\n",
       "</div>"
      ],
      "text/plain": [
       "    Municipality  Year  Gross Average Wage  ethnic_concentration_hhi  \\\n",
       "0       banovici  2012                1220                  0.953261   \n",
       "1       banovici  2013                1248                  0.953261   \n",
       "2       banovici  2014                1261                  0.953261   \n",
       "3       banovici  2015                1270                  0.953261   \n",
       "4       banovici  2016                1276                  0.953261   \n",
       "..           ...   ...                 ...                       ...   \n",
       "864     zivinice  2018                1187                  0.905964   \n",
       "865     zivinice  2019                1185                  0.905964   \n",
       "866     zivinice  2020                1208                  0.905964   \n",
       "867     zivinice  2021                1241                  0.905964   \n",
       "868     zivinice  2022                1414                  0.905964   \n",
       "\n",
       "     political_fragmentation_hhi  Percentage of Agricultural Businesses  \\\n",
       "0                       0.706868                               0.019355   \n",
       "1                       0.827413                               0.022340   \n",
       "2                       0.975511                               0.023256   \n",
       "3                       0.917824                               0.025316   \n",
       "4                       0.863865                               0.025000   \n",
       "..                           ...                                    ...   \n",
       "864                     0.581126                               0.038872   \n",
       "865                     0.585950                               0.036850   \n",
       "866                     0.590914                               0.035323   \n",
       "867                     0.596017                               0.030917   \n",
       "868                     0.601259                               0.029766   \n",
       "\n",
       "     Employees  \n",
       "0         5056  \n",
       "1         5214  \n",
       "2         5167  \n",
       "3         5230  \n",
       "4         5169  \n",
       "..         ...  \n",
       "864      10137  \n",
       "865      10911  \n",
       "866      10916  \n",
       "867      10929  \n",
       "868      11084  \n",
       "\n",
       "[869 rows x 7 columns]"
      ]
     },
     "execution_count": 9,
     "metadata": {},
     "output_type": "execute_result"
    }
   ],
   "source": [
    "eco_pol = pd.read_excel(SAVE_DIR + \"combined_clean.xlsx\")\n",
    "eco_pol"
   ]
  },
  {
   "cell_type": "markdown",
   "id": "636e767c-69f2-44e1-92ac-9db330b3c69a",
   "metadata": {},
   "source": [
    "Used an LLM again to make this name mapping as some of them are not simple transformations like lowercasing and going to ascii. \n",
    "\n",
    "Also, the extra municipality was `Istočni Stari Grad` which should be in RS and not FBiH!"
   ]
  },
  {
   "cell_type": "code",
   "execution_count": 10,
   "id": "3dd13998-5dfd-4680-89ef-390fa6d7af0a",
   "metadata": {},
   "outputs": [],
   "source": [
    "name_map = {\n",
    "    'Olovo': 'olovo',\n",
    "    'Goražde': 'gorazde',\n",
    "    'Mostar': 'grad mostar',\n",
    "    'Živinice': 'zivinice',\n",
    "    'Široki Brijeg': 'siroki brijeg',\n",
    "    'Bihać': 'bihac',\n",
    "    'Tomislavgrad': 'tomislavgrad',\n",
    "    'Gornji Vakuf-Uskoplje': 'gornji vakuf uskoplje',\n",
    "    'Ilijaš': 'ilijas',\n",
    "    'Orašje': 'orasje',\n",
    "    'Domaljevac-Šamac': 'domaljevac samac',\n",
    "    'Odžak': 'odzak',\n",
    "    'Doboj East': 'doboj istok',\n",
    "    'Gradačac': 'gradacac',\n",
    "    'Gračanica': 'gracanica',\n",
    "    'Srebrenik': 'srebrenik',\n",
    "    'Čelić': 'celic',\n",
    "    'Teočak': 'teocak',\n",
    "    'Sapna': 'sapna',\n",
    "    'Tuzla': 'tuzla',\n",
    "    'Lukavac': 'lukavac',\n",
    "    'Banovići': 'banovici',\n",
    "    'Kladanj': 'kladanj',\n",
    "    'Kalesija': 'kalesija',\n",
    "    'Istočni Stari Grad': None,\n",
    "    'Stari Grad': 'stari grad sarajevo',\n",
    "    'Trnovo (BiH)': 'trnovo',\n",
    "    'Hadžići': 'hadzici',\n",
    "    'Ilidža': 'ilidza',\n",
    "    'Novo Sarajevo': 'novo sarajevo',\n",
    "    'Centar': 'centar sarajevo',\n",
    "    'Novi Grad': 'novi grad sarajevo',\n",
    "    'Vogošća': 'vogosca',\n",
    "    'Foča-Ustikolina': 'foca',\n",
    "    'Pale-Prača': 'pale',\n",
    "    'Ljubuški': 'ljubuski',\n",
    "    'Posušje': 'posusje',\n",
    "    'Grude': 'grude',\n",
    "    'Ravno': 'ravno',\n",
    "    'Neum': 'neum',\n",
    "    'Prozor-Rama': 'prozor rama',\n",
    "    'Konjic': 'konjic',\n",
    "    'Jablanica': 'jablanica',\n",
    "    'Čapljina': 'capljina',\n",
    "    'Čitluk': 'citluk',\n",
    "    'Stolac': 'stolac',\n",
    "    'Velika Kladuša': 'velika kladusa',\n",
    "    'Bužim': 'buzim',\n",
    "    'Cazin': 'cazin',\n",
    "    'Ključ': 'kljuc',\n",
    "    'Sanski Most': 'sanski most',\n",
    "    'Bosanska Krupa': 'bosanska krupa',\n",
    "    'Bosanski Petrovac': 'bosanski petrovac',\n",
    "    'Drvar': 'drvar',\n",
    "    'Bosansko Grahovo': 'bosansko grahovo',\n",
    "    'Glamoč': 'glamoc',\n",
    "    'Kupres (BiH)': 'kupres',\n",
    "    'Livno': 'livno',\n",
    "    'Doboj Jug': 'doboj jug',\n",
    "    'Usora': 'usora',\n",
    "    'Tešanj': 'tesanj',\n",
    "    'Maglaj': 'maglaj',\n",
    "    'Breza': 'breza',\n",
    "    'Visoko': 'visoko',\n",
    "    'Žepče': 'zepce',\n",
    "    'Zenica': 'zenica',\n",
    "    'Zavidovići': 'zavidovici',\n",
    "    'Kakanj': 'kakanj',\n",
    "    'Vareš': 'vares',\n",
    "    'Kreševo': 'kresevo',\n",
    "    'Kiseljak': 'kiseljak',\n",
    "    'Busovača': 'busovaca',\n",
    "    'Vitez': 'vitez',\n",
    "    'Fojnica': 'fojnica',\n",
    "    'Dobretići': 'dobretici',\n",
    "    'Jajce': 'jajce',\n",
    "    'Donji Vakuf': 'donji vakuf',\n",
    "    'Travnik': 'travnik',\n",
    "    'Novi Travnik': 'novi travnik',\n",
    "    'Bugojno': 'bugojno'\n",
    "}"
   ]
  },
  {
   "cell_type": "markdown",
   "id": "389ee9f5-e92b-4eef-bfce-2f536b55be64",
   "metadata": {},
   "source": [
    "Now to apply the mapping and merge the dfs"
   ]
  },
  {
   "cell_type": "code",
   "execution_count": 11,
   "id": "273b3a2c-1eb9-4823-8e52-82875786dbb7",
   "metadata": {},
   "outputs": [],
   "source": [
    "fbih_municipalities[\"Municipality\"] = fbih_municipalities[\"shapeName\"].map(name_map)"
   ]
  },
  {
   "cell_type": "code",
   "execution_count": 12,
   "id": "61abc46f-5935-4179-99ca-694fc0aaf1a0",
   "metadata": {},
   "outputs": [],
   "source": [
    "fbih_municipalities = fbih_municipalities.merge(\n",
    "    eco_pol,\n",
    "    left_on=\"Municipality\",\n",
    "    right_on=\"Municipality\"\n",
    ")"
   ]
  },
  {
   "cell_type": "code",
   "execution_count": 13,
   "id": "e10039d1-e67e-4178-9f1e-d054807852ee",
   "metadata": {},
   "outputs": [],
   "source": [
    "# fbih_municipalities"
   ]
  },
  {
   "cell_type": "markdown",
   "id": "cada2a5d-9f32-4e1f-b899-81317605e8a8",
   "metadata": {},
   "source": [
    "Now to try plotting income per municipality over time."
   ]
  },
  {
   "cell_type": "code",
   "execution_count": 24,
   "id": "153aaeaf-d329-4ce3-8bfc-c2e3400d761a",
   "metadata": {},
   "outputs": [
    {
     "name": "stdout",
     "output_type": "stream",
     "text": [
      "Generating GIF... This might take a moment.\n",
      "Animation saved as 'gross_average_wage_animation.gif'\n"
     ]
    }
   ],
   "source": [
    "plot_column = 'Gross Average Wage'\n",
    "\n",
    "fig, ax = plt.subplots(1, 1, figsize=(12, 12))\n",
    "ax.set_axis_off()\n",
    "\n",
    "vmin = fbih_municipalities[plot_column].min()\n",
    "vmax = fbih_municipalities[plot_column].max()\n",
    "\n",
    "def update(year):\n",
    "    fig.clear()\n",
    "\n",
    "    ax = fig.add_subplot(111) # 111 means 1 row, 1 column, 1st subplot\n",
    "    ax.set_axis_off()\n",
    "    \n",
    "    data_for_year = fbih_municipalities[fbih_municipalities['Year'] == year]\n",
    "    \n",
    "    data_for_year.plot(\n",
    "        column=plot_column,\n",
    "        ax=ax,\n",
    "        vmin=vmin,\n",
    "        vmax=vmax,\n",
    "        cmap='YlGnBu',\n",
    "        edgecolor='black',\n",
    "        linewidth=1.0,\n",
    "        legend=True,\n",
    "        legend_kwds={\n",
    "            'label': f\"Gross Average Wage\",\n",
    "            'orientation': \"vertical\"\n",
    "        }\n",
    "    )\n",
    "    \n",
    "    ax.set_title(\n",
    "        f\"Gross Average Wage in FBiH Municipalities - Year: {year}\",\n",
    "        fontdict={'fontsize': '18', 'fontweight' : 'bold'}\n",
    "    )\n",
    "    ax.set_axis_off()\n",
    "\n",
    "\n",
    "years = sorted(fbih_municipalities['Year'].unique())\n",
    "\n",
    "ani = FuncAnimation(\n",
    "    fig,\n",
    "    update,\n",
    "    frames=years,\n",
    "    repeat=True,\n",
    "    interval=1000\n",
    ")\n",
    "\n",
    "\n",
    "print(\"Generating GIF... This might take a moment.\")\n",
    "ani.save(\n",
    "    GIF_DIR + 'gross_average_wage_animation.gif',\n",
    "    writer='pillow',\n",
    "    fps=0.5,\n",
    ")\n",
    "\n",
    "plt.close(fig)\n",
    "\n",
    "print(\"Animation saved as 'gross_average_wage_animation.gif'\")"
   ]
  },
  {
   "cell_type": "markdown",
   "id": "43344187-1454-43fd-af89-e02d96df84a8",
   "metadata": {},
   "source": [
    "Gif doesn't look like its doing anything but opening it with jupyter notebook shows it works!\n",
    "\n",
    "Also embedding it in markdown displays it!\n",
    "\n",
    "![Gross Average Wages for each Municipality over time.](../gifs/gross_average_wage_animation.gif)"
   ]
  },
  {
   "cell_type": "markdown",
   "id": "ffcb11a3-9ce9-471d-bf4f-f358d8ca0df4",
   "metadata": {},
   "source": [
    "Now to save the geo merged data for PA4"
   ]
  },
  {
   "cell_type": "code",
   "execution_count": 19,
   "id": "ceb468c5-44ba-40c3-bad6-f67bcad05638",
   "metadata": {},
   "outputs": [],
   "source": [
    "fbih_municipalities.to_file(\n",
    "    SAVE_DIR + \"geo_combined_clean.gpkg\",\n",
    "    driver=\"GPKG\"\n",
    ")"
   ]
  },
  {
   "cell_type": "code",
   "execution_count": 21,
   "id": "2867fd19-52a3-4546-8edb-8ed348276b6d",
   "metadata": {},
   "outputs": [
    {
     "data": {
      "text/html": [
       "<div>\n",
       "<style scoped>\n",
       "    .dataframe tbody tr th:only-of-type {\n",
       "        vertical-align: middle;\n",
       "    }\n",
       "\n",
       "    .dataframe tbody tr th {\n",
       "        vertical-align: top;\n",
       "    }\n",
       "\n",
       "    .dataframe thead th {\n",
       "        text-align: right;\n",
       "    }\n",
       "</style>\n",
       "<table border=\"1\" class=\"dataframe\">\n",
       "  <thead>\n",
       "    <tr style=\"text-align: right;\">\n",
       "      <th></th>\n",
       "      <th>shapeName</th>\n",
       "      <th>shapeISO</th>\n",
       "      <th>shapeID</th>\n",
       "      <th>shapeGroup</th>\n",
       "      <th>shapeType</th>\n",
       "      <th>Municipality</th>\n",
       "      <th>Year</th>\n",
       "      <th>Gross Average Wage</th>\n",
       "      <th>ethnic_concentration_hhi</th>\n",
       "      <th>political_fragmentation_hhi</th>\n",
       "      <th>Percentage of Agricultural Businesses</th>\n",
       "      <th>Employees</th>\n",
       "      <th>geometry</th>\n",
       "    </tr>\n",
       "  </thead>\n",
       "  <tbody>\n",
       "    <tr>\n",
       "      <th>0</th>\n",
       "      <td>Olovo</td>\n",
       "      <td></td>\n",
       "      <td>43093233B78325541023921</td>\n",
       "      <td>BIH</td>\n",
       "      <td>ADM3</td>\n",
       "      <td>olovo</td>\n",
       "      <td>2012</td>\n",
       "      <td>891</td>\n",
       "      <td>0.940177</td>\n",
       "      <td>0.681965</td>\n",
       "      <td>0.097436</td>\n",
       "      <td>1650</td>\n",
       "      <td>POLYGON ((18.49439 44.10319, 18.49699 44.10277...</td>\n",
       "    </tr>\n",
       "    <tr>\n",
       "      <th>1</th>\n",
       "      <td>Olovo</td>\n",
       "      <td></td>\n",
       "      <td>43093233B78325541023921</td>\n",
       "      <td>BIH</td>\n",
       "      <td>ADM3</td>\n",
       "      <td>olovo</td>\n",
       "      <td>2013</td>\n",
       "      <td>881</td>\n",
       "      <td>0.940177</td>\n",
       "      <td>0.795133</td>\n",
       "      <td>0.101737</td>\n",
       "      <td>1666</td>\n",
       "      <td>POLYGON ((18.49439 44.10319, 18.49699 44.10277...</td>\n",
       "    </tr>\n",
       "    <tr>\n",
       "      <th>2</th>\n",
       "      <td>Olovo</td>\n",
       "      <td></td>\n",
       "      <td>43093233B78325541023921</td>\n",
       "      <td>BIH</td>\n",
       "      <td>ADM3</td>\n",
       "      <td>olovo</td>\n",
       "      <td>2014</td>\n",
       "      <td>902</td>\n",
       "      <td>0.940177</td>\n",
       "      <td>0.935533</td>\n",
       "      <td>0.115764</td>\n",
       "      <td>1771</td>\n",
       "      <td>POLYGON ((18.49439 44.10319, 18.49699 44.10277...</td>\n",
       "    </tr>\n",
       "    <tr>\n",
       "      <th>3</th>\n",
       "      <td>Olovo</td>\n",
       "      <td></td>\n",
       "      <td>43093233B78325541023921</td>\n",
       "      <td>BIH</td>\n",
       "      <td>ADM3</td>\n",
       "      <td>olovo</td>\n",
       "      <td>2015</td>\n",
       "      <td>887</td>\n",
       "      <td>0.940177</td>\n",
       "      <td>0.836525</td>\n",
       "      <td>0.128079</td>\n",
       "      <td>1916</td>\n",
       "      <td>POLYGON ((18.49439 44.10319, 18.49699 44.10277...</td>\n",
       "    </tr>\n",
       "    <tr>\n",
       "      <th>4</th>\n",
       "      <td>Olovo</td>\n",
       "      <td></td>\n",
       "      <td>43093233B78325541023921</td>\n",
       "      <td>BIH</td>\n",
       "      <td>ADM3</td>\n",
       "      <td>olovo</td>\n",
       "      <td>2016</td>\n",
       "      <td>921</td>\n",
       "      <td>0.940177</td>\n",
       "      <td>0.750267</td>\n",
       "      <td>0.137529</td>\n",
       "      <td>2124</td>\n",
       "      <td>POLYGON ((18.49439 44.10319, 18.49699 44.10277...</td>\n",
       "    </tr>\n",
       "  </tbody>\n",
       "</table>\n",
       "</div>"
      ],
      "text/plain": [
       "  shapeName shapeISO                  shapeID shapeGroup shapeType  \\\n",
       "0     Olovo           43093233B78325541023921        BIH      ADM3   \n",
       "1     Olovo           43093233B78325541023921        BIH      ADM3   \n",
       "2     Olovo           43093233B78325541023921        BIH      ADM3   \n",
       "3     Olovo           43093233B78325541023921        BIH      ADM3   \n",
       "4     Olovo           43093233B78325541023921        BIH      ADM3   \n",
       "\n",
       "  Municipality  Year  Gross Average Wage  ethnic_concentration_hhi  \\\n",
       "0        olovo  2012                 891                  0.940177   \n",
       "1        olovo  2013                 881                  0.940177   \n",
       "2        olovo  2014                 902                  0.940177   \n",
       "3        olovo  2015                 887                  0.940177   \n",
       "4        olovo  2016                 921                  0.940177   \n",
       "\n",
       "   political_fragmentation_hhi  Percentage of Agricultural Businesses  \\\n",
       "0                     0.681965                               0.097436   \n",
       "1                     0.795133                               0.101737   \n",
       "2                     0.935533                               0.115764   \n",
       "3                     0.836525                               0.128079   \n",
       "4                     0.750267                               0.137529   \n",
       "\n",
       "   Employees                                           geometry  \n",
       "0       1650  POLYGON ((18.49439 44.10319, 18.49699 44.10277...  \n",
       "1       1666  POLYGON ((18.49439 44.10319, 18.49699 44.10277...  \n",
       "2       1771  POLYGON ((18.49439 44.10319, 18.49699 44.10277...  \n",
       "3       1916  POLYGON ((18.49439 44.10319, 18.49699 44.10277...  \n",
       "4       2124  POLYGON ((18.49439 44.10319, 18.49699 44.10277...  "
      ]
     },
     "execution_count": 21,
     "metadata": {},
     "output_type": "execute_result"
    }
   ],
   "source": [
    "gdf = gpd.read_file(SAVE_DIR + \"geo_combined_clean.gpkg\")\n",
    "gdf.head(5)"
   ]
  }
 ],
 "metadata": {
  "kernelspec": {
   "display_name": "Python 3 (ipykernel)",
   "language": "python",
   "name": "python3"
  },
  "language_info": {
   "codemirror_mode": {
    "name": "ipython",
    "version": 3
   },
   "file_extension": ".py",
   "mimetype": "text/x-python",
   "name": "python",
   "nbconvert_exporter": "python",
   "pygments_lexer": "ipython3",
   "version": "3.11.14"
  }
 },
 "nbformat": 4,
 "nbformat_minor": 5
}
