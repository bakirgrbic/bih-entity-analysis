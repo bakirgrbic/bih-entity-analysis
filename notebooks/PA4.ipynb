{
 "cells": [
  {
   "cell_type": "markdown",
   "id": "229100c2-92b8-4be1-a2c5-fc3903a2b230",
   "metadata": {},
   "source": [
    "# PA4"
   ]
  },
  {
   "cell_type": "code",
   "execution_count": 1,
   "id": "8f5dc82f-e75b-4978-be75-22175eec5293",
   "metadata": {},
   "outputs": [],
   "source": [
    "import geopandas as gpd\n",
    "import pandas as pd\n",
    "import matplotlib.pyplot as plt\n",
    "from matplotlib.animation import FuncAnimation\n",
    "\n",
    "from tools.config import SAVE_DIR, FIG_DIR"
   ]
  },
  {
   "cell_type": "markdown",
   "id": "dd1e335e-8904-4036-a8be-73781d795abe",
   "metadata": {},
   "source": [
    "## Step 1: Provide an overview of the data"
   ]
  },
  {
   "cell_type": "markdown",
   "id": "cf5e7fc9-6871-4357-8961-0d308926fb6c",
   "metadata": {},
   "source": [
    "### State the theoretical model you are working with. Include proper subscripts and notation."
   ]
  },
  {
   "cell_type": "markdown",
   "id": "eacb1773-9a52-484a-b1ed-c50c065a8224",
   "metadata": {},
   "source": [
    "The current theoretical model I am working with is the following panel regression:\n",
    "\n",
    "$$\\large gaw_{i,t} = \\beta_0 + ethnic + \\beta_1 * political_{i,t} + \\beta_2 * agriculture_{i,t} + \\beta_3 * employees_{i,t} + \\epsilon$$"
   ]
  },
  {
   "cell_type": "markdown",
   "id": "f388837f-5de6-48ab-af2b-20ea5fdd82c0",
   "metadata": {},
   "source": [
    "### Make a table that lists your dependent, independent, and control variables.\n",
    "\n",
    "Provide a brief description of each variable (use codebook definitions when available).\n",
    "\n",
    "Describe how the variable is calculated (e.g. if it's a ratio, then state what is in the numerator and denominator)."
   ]
  },
  {
   "cell_type": "markdown",
   "id": "62b91ede-e1d9-4c15-9862-06cedd79111c",
   "metadata": {},
   "source": [
    "| Variable | Full Name | Type |\n",
    "| :-- | :--- | :--- |\n",
    "| gaw | Gross Average Municipal Income from Wages | Dependent |\n",
    "| ethnic | Ethnic Fragmentation HHI | Independent/Constant |\n",
    "| political | Political Fragmentation HHI | Independent |\n",
    "| agriculture | Percentage of Agricultral Businesses | Control |\n",
    "| employees | Number of Employed Residents | Control |\n",
    "\n",
    "\n",
    "`gaw`: This variable measures the gross average monthy income from wages for workers in a municipality for a given year. It is measured in BiH's currency KM.\n",
    "\n",
    "`ethnic`: This variable (more of a constant) was created by taking 2013 census data on Bosniak, Croat, and Serb to get the percentage of each group from their total in a municipality. I then transformed this to the Herfindahl-Hirschman Index (HHI) because it measures the share of ethnicities in a municipality and seemed more appropriate than the gini index which can be used to measure inequality. This transformation also has the benefit of focusing on the balance of ethnicities and not on the exact percentages of a single ethnicity which may lead to some bad conclusions if run through a model (such as one ethniciites higher concentration increasing wages more than others). Since there are three ethnic groups, the lowest value this variable can hold is 0.33 and the highest is 1.0.\n",
    "\n",
    "`political`: This variable was created by first scraping the municipal level data for the 2010, 2014, 2018, and 2022 presidential elections in BiH for FBiH. BiH has a three presidents that rotate in their duties, one for each major ethnic group. Voters in FBiH vote for the Bosniak and Croat candidates and candidates must affiliate with one of those two identities to run in FBiH. This allowed me get the percentage of voters that voted for a Bosniak and Croat candidate regardless of what party a candidate belonged to. After getting those percentages, I linearly interpolated missing percentage values for years there was not an election so I could build a similar vairable to `ethnic` and did the same HHI transformation. Since there are only two groups this time, the lowest value for this variable can be 0.5 and the highest 1.0.\n",
    "\n",
    "`agriculture`: This variable measures the percentage of business entities (Legal entity, Parts of legal entity, Crafts) in agricutlure found by dividing the total of all entities in agriculture by the total for all entities in all economic sectors.\n",
    "\n",
    "`employees`: Number of residents in paid employement in a municipality in a given year. Measured in people."
   ]
  },
  {
   "cell_type": "markdown",
   "id": "3fca5553-f184-4c3b-ac8a-8bce6b90809b",
   "metadata": {},
   "source": [
    "### Produce a table of summary statistics that includes the mean, standard deviation, minimum-maximum values, and the number of observations for each variable.\n",
    "\n",
    "If relevant for your analysis, include other relevant descriptive data, such as statistics broken down by subgroups, categories, time intervals, etc."
   ]
  },
  {
   "cell_type": "markdown",
   "id": "ad8ba8f9-57d2-493d-b824-20a33209ff02",
   "metadata": {},
   "source": [
    "Loading in my data and showing the first 5 records."
   ]
  },
  {
   "cell_type": "code",
   "execution_count": 2,
   "id": "3962a2c4-0b24-4f2b-988c-e711c7c8921d",
   "metadata": {},
   "outputs": [
    {
     "data": {
      "text/html": [
       "<div>\n",
       "<style scoped>\n",
       "    .dataframe tbody tr th:only-of-type {\n",
       "        vertical-align: middle;\n",
       "    }\n",
       "\n",
       "    .dataframe tbody tr th {\n",
       "        vertical-align: top;\n",
       "    }\n",
       "\n",
       "    .dataframe thead th {\n",
       "        text-align: right;\n",
       "    }\n",
       "</style>\n",
       "<table border=\"1\" class=\"dataframe\">\n",
       "  <thead>\n",
       "    <tr style=\"text-align: right;\">\n",
       "      <th></th>\n",
       "      <th>Municipality</th>\n",
       "      <th>Year</th>\n",
       "      <th>Gross Average Wage</th>\n",
       "      <th>ethnic_concentration_hhi</th>\n",
       "      <th>political_fragmentation_hhi</th>\n",
       "      <th>Percentage of Agricultural Businesses</th>\n",
       "      <th>Employees</th>\n",
       "    </tr>\n",
       "  </thead>\n",
       "  <tbody>\n",
       "    <tr>\n",
       "      <th>0</th>\n",
       "      <td>banovici</td>\n",
       "      <td>2012</td>\n",
       "      <td>1220</td>\n",
       "      <td>0.953261</td>\n",
       "      <td>0.706868</td>\n",
       "      <td>0.019355</td>\n",
       "      <td>5056</td>\n",
       "    </tr>\n",
       "    <tr>\n",
       "      <th>1</th>\n",
       "      <td>banovici</td>\n",
       "      <td>2013</td>\n",
       "      <td>1248</td>\n",
       "      <td>0.953261</td>\n",
       "      <td>0.827413</td>\n",
       "      <td>0.022340</td>\n",
       "      <td>5214</td>\n",
       "    </tr>\n",
       "    <tr>\n",
       "      <th>2</th>\n",
       "      <td>banovici</td>\n",
       "      <td>2014</td>\n",
       "      <td>1261</td>\n",
       "      <td>0.953261</td>\n",
       "      <td>0.975511</td>\n",
       "      <td>0.023256</td>\n",
       "      <td>5167</td>\n",
       "    </tr>\n",
       "    <tr>\n",
       "      <th>3</th>\n",
       "      <td>banovici</td>\n",
       "      <td>2015</td>\n",
       "      <td>1270</td>\n",
       "      <td>0.953261</td>\n",
       "      <td>0.917824</td>\n",
       "      <td>0.025316</td>\n",
       "      <td>5230</td>\n",
       "    </tr>\n",
       "    <tr>\n",
       "      <th>4</th>\n",
       "      <td>banovici</td>\n",
       "      <td>2016</td>\n",
       "      <td>1276</td>\n",
       "      <td>0.953261</td>\n",
       "      <td>0.863865</td>\n",
       "      <td>0.025000</td>\n",
       "      <td>5169</td>\n",
       "    </tr>\n",
       "  </tbody>\n",
       "</table>\n",
       "</div>"
      ],
      "text/plain": [
       "  Municipality  Year  Gross Average Wage  ethnic_concentration_hhi  \\\n",
       "0     banovici  2012                1220                  0.953261   \n",
       "1     banovici  2013                1248                  0.953261   \n",
       "2     banovici  2014                1261                  0.953261   \n",
       "3     banovici  2015                1270                  0.953261   \n",
       "4     banovici  2016                1276                  0.953261   \n",
       "\n",
       "   political_fragmentation_hhi  Percentage of Agricultural Businesses  \\\n",
       "0                     0.706868                               0.019355   \n",
       "1                     0.827413                               0.022340   \n",
       "2                     0.975511                               0.023256   \n",
       "3                     0.917824                               0.025316   \n",
       "4                     0.863865                               0.025000   \n",
       "\n",
       "   Employees  \n",
       "0       5056  \n",
       "1       5214  \n",
       "2       5167  \n",
       "3       5230  \n",
       "4       5169  "
      ]
     },
     "execution_count": 2,
     "metadata": {},
     "output_type": "execute_result"
    }
   ],
   "source": [
    "df = pd.read_excel(SAVE_DIR + \"combined_clean.xlsx\")\n",
    "df.head(5)"
   ]
  },
  {
   "cell_type": "markdown",
   "id": "4eed3e5e-cc02-4ce8-bd83-c14a53ddd622",
   "metadata": {},
   "source": [
    "Describing the data."
   ]
  },
  {
   "cell_type": "code",
   "execution_count": 3,
   "id": "3c75710d-3116-4d50-86e2-1ec88f700596",
   "metadata": {},
   "outputs": [
    {
     "data": {
      "text/html": [
       "<div>\n",
       "<style scoped>\n",
       "    .dataframe tbody tr th:only-of-type {\n",
       "        vertical-align: middle;\n",
       "    }\n",
       "\n",
       "    .dataframe tbody tr th {\n",
       "        vertical-align: top;\n",
       "    }\n",
       "\n",
       "    .dataframe thead th {\n",
       "        text-align: right;\n",
       "    }\n",
       "</style>\n",
       "<table border=\"1\" class=\"dataframe\">\n",
       "  <thead>\n",
       "    <tr style=\"text-align: right;\">\n",
       "      <th></th>\n",
       "      <th>Year</th>\n",
       "      <th>Gross Average Wage</th>\n",
       "      <th>ethnic_concentration_hhi</th>\n",
       "      <th>political_fragmentation_hhi</th>\n",
       "      <th>Percentage of Agricultural Businesses</th>\n",
       "      <th>Employees</th>\n",
       "    </tr>\n",
       "  </thead>\n",
       "  <tbody>\n",
       "    <tr>\n",
       "      <th>count</th>\n",
       "      <td>869.000000</td>\n",
       "      <td>869.000000</td>\n",
       "      <td>869.000000</td>\n",
       "      <td>869.000000</td>\n",
       "      <td>869.000000</td>\n",
       "      <td>869.000000</td>\n",
       "    </tr>\n",
       "    <tr>\n",
       "      <th>mean</th>\n",
       "      <td>2017.000000</td>\n",
       "      <td>1244.418872</td>\n",
       "      <td>0.811579</td>\n",
       "      <td>0.696042</td>\n",
       "      <td>0.073367</td>\n",
       "      <td>6081.382048</td>\n",
       "    </tr>\n",
       "    <tr>\n",
       "      <th>std</th>\n",
       "      <td>3.164099</td>\n",
       "      <td>270.317435</td>\n",
       "      <td>0.177513</td>\n",
       "      <td>0.152352</td>\n",
       "      <td>0.065241</td>\n",
       "      <td>8227.955849</td>\n",
       "    </tr>\n",
       "    <tr>\n",
       "      <th>min</th>\n",
       "      <td>2012.000000</td>\n",
       "      <td>580.000000</td>\n",
       "      <td>0.353715</td>\n",
       "      <td>0.500019</td>\n",
       "      <td>0.003346</td>\n",
       "      <td>27.000000</td>\n",
       "    </tr>\n",
       "    <tr>\n",
       "      <th>25%</th>\n",
       "      <td>2014.000000</td>\n",
       "      <td>1054.000000</td>\n",
       "      <td>0.683453</td>\n",
       "      <td>0.570931</td>\n",
       "      <td>0.033699</td>\n",
       "      <td>1410.000000</td>\n",
       "    </tr>\n",
       "    <tr>\n",
       "      <th>50%</th>\n",
       "      <td>2017.000000</td>\n",
       "      <td>1199.000000</td>\n",
       "      <td>0.862535</td>\n",
       "      <td>0.658333</td>\n",
       "      <td>0.059140</td>\n",
       "      <td>3507.000000</td>\n",
       "    </tr>\n",
       "    <tr>\n",
       "      <th>75%</th>\n",
       "      <td>2020.000000</td>\n",
       "      <td>1387.000000</td>\n",
       "      <td>0.954919</td>\n",
       "      <td>0.798732</td>\n",
       "      <td>0.093160</td>\n",
       "      <td>6306.000000</td>\n",
       "    </tr>\n",
       "    <tr>\n",
       "      <th>max</th>\n",
       "      <td>2022.000000</td>\n",
       "      <td>2498.000000</td>\n",
       "      <td>0.999315</td>\n",
       "      <td>0.996644</td>\n",
       "      <td>0.541872</td>\n",
       "      <td>45591.000000</td>\n",
       "    </tr>\n",
       "  </tbody>\n",
       "</table>\n",
       "</div>"
      ],
      "text/plain": [
       "              Year  Gross Average Wage  ethnic_concentration_hhi  \\\n",
       "count   869.000000          869.000000                869.000000   \n",
       "mean   2017.000000         1244.418872                  0.811579   \n",
       "std       3.164099          270.317435                  0.177513   \n",
       "min    2012.000000          580.000000                  0.353715   \n",
       "25%    2014.000000         1054.000000                  0.683453   \n",
       "50%    2017.000000         1199.000000                  0.862535   \n",
       "75%    2020.000000         1387.000000                  0.954919   \n",
       "max    2022.000000         2498.000000                  0.999315   \n",
       "\n",
       "       political_fragmentation_hhi  Percentage of Agricultural Businesses  \\\n",
       "count                   869.000000                             869.000000   \n",
       "mean                      0.696042                               0.073367   \n",
       "std                       0.152352                               0.065241   \n",
       "min                       0.500019                               0.003346   \n",
       "25%                       0.570931                               0.033699   \n",
       "50%                       0.658333                               0.059140   \n",
       "75%                       0.798732                               0.093160   \n",
       "max                       0.996644                               0.541872   \n",
       "\n",
       "          Employees  \n",
       "count    869.000000  \n",
       "mean    6081.382048  \n",
       "std     8227.955849  \n",
       "min       27.000000  \n",
       "25%     1410.000000  \n",
       "50%     3507.000000  \n",
       "75%     6306.000000  \n",
       "max    45591.000000  "
      ]
     },
     "execution_count": 3,
     "metadata": {},
     "output_type": "execute_result"
    }
   ],
   "source": [
    "df.describe()"
   ]
  },
  {
   "cell_type": "markdown",
   "id": "e328ea33-ad2d-47cb-924a-6c661a3f840e",
   "metadata": {},
   "source": [
    "Showing how many municipalities, years, and missing values my data has."
   ]
  },
  {
   "cell_type": "code",
   "execution_count": 4,
   "id": "3df178be-9f76-44a7-910d-65b4b3bb2a61",
   "metadata": {},
   "outputs": [
    {
     "name": "stdout",
     "output_type": "stream",
     "text": [
      "\n",
      "Number of municipalities: 79\n",
      "Number of years: 11\n",
      "Number of missing (NaN) values: 0\n",
      "\n"
     ]
    }
   ],
   "source": [
    "print(\n",
    "f\"\"\"\n",
    "Number of municipalities: {len(df[\"Municipality\"].unique())}\n",
    "Number of years: {len(df[\"Year\"].unique())}\n",
    "Number of missing (NaN) values: {df.isnull().sum().sum()}\n",
    "\"\"\"\n",
    ")"
   ]
  },
  {
   "cell_type": "markdown",
   "id": "218d0186-2566-4d6a-a692-35eb0f945758",
   "metadata": {},
   "source": [
    "## Step 2: Describe the relevant relationships in the data\n",
    "\n",
    "For each criterion listed below, produce either a numerical table, graph, plot, etc. that helps describe the relationships relevant to your research. Emphasis should be placed on testing the hypothesis and specifying the estimating model."
   ]
  },
  {
   "cell_type": "markdown",
   "id": "a8ca8b57-04c3-4015-b583-ecf938526bca",
   "metadata": {},
   "source": [
    "Going to incorporate geographic data in my plots so that it is easier to plot changes in municipalities over time."
   ]
  },
  {
   "cell_type": "code",
   "execution_count": 5,
   "id": "8f3eeba8-e328-4ed5-8c31-8a72a6ff1832",
   "metadata": {},
   "outputs": [],
   "source": [
    "gdf = gpd.read_file(SAVE_DIR + \"geo_combined_clean.gpkg\")"
   ]
  },
  {
   "cell_type": "markdown",
   "id": "7b02eed7-55cc-4157-91fd-ae524fc4159a",
   "metadata": {},
   "source": [
    "### Criteria 1: relationships between the dependent and independent variables."
   ]
  },
  {
   "cell_type": "markdown",
   "id": "d2e4a89c-7a8c-4cb4-b25a-701a3d0c4bdb",
   "metadata": {},
   "source": [
    "I will be creating choropleth maps for this criteria so that the municipalities can all be more clearly observed in a single year and allow for adding a time dimension with as a gif.\n",
    "\n",
    "First I will create the maps for the independent variables (I already created the gif for DV and will just load it below)"
   ]
  },
  {
   "cell_type": "code",
   "execution_count": 12,
   "id": "188ff236-40d1-4c40-9a63-62cb5e2c15ee",
   "metadata": {},
   "outputs": [],
   "source": [
    "fig, ax = plt.subplots(1, 1, figsize=(12, 12))\n",
    "\n",
    "gdf[gdf[\"Year\"] == 2013].plot(\n",
    "    column=\"ethnic_concentration_hhi\",\n",
    "    cmap='OrRd',\n",
    "    edgecolor='black',\n",
    "    linewidth=1.0,\n",
    "    ax=ax,\n",
    "    legend=True,\n",
    "    legend_kwds={\n",
    "        'label': f\"Ethnic Fragmentation\",\n",
    "        'orientation': \"vertical\"\n",
    "    },\n",
    "    missing_kwds={\n",
    "        \"color\": \"lightgrey\",\n",
    "        \"edgecolor\": \"white\",\n",
    "        \"hatch\": \"///\",\n",
    "        \"label\": \"Missing values\",\n",
    "    }\n",
    ")\n",
    "\n",
    "ax.set_title(\n",
    "    \"Ethnic Fragmentation Municipalities in FBiH - 2013\", \n",
    "    fontsize=18,\n",
    "    fontweight=\"bold\"\n",
    ")\n",
    "ax.set_axis_off()\n",
    "plt.tight_layout()\n",
    "plt.savefig(FIG_DIR + \"ethnic_fragmentation.jpg\")\n",
    "plt.close()"
   ]
  },
  {
   "cell_type": "code",
   "execution_count": 17,
   "id": "6c75093b-e175-456d-bb0c-6a0a7b90dcac",
   "metadata": {},
   "outputs": [
    {
     "name": "stdout",
     "output_type": "stream",
     "text": [
      "Generating GIF... This might take a moment.\n",
      "Animation saved as 'political_fragmentation_animation.gif'\n"
     ]
    }
   ],
   "source": [
    "plot_column = 'political_fragmentation_hhi'\n",
    "\n",
    "fig, ax = plt.subplots(1, 1, figsize=(12, 12))\n",
    "ax.set_axis_off()\n",
    "\n",
    "vmin = gdf[plot_column].min()\n",
    "vmax = gdf[plot_column].max()\n",
    "\n",
    "def update(year):\n",
    "    fig.clear()\n",
    "\n",
    "    ax = fig.add_subplot(111) # 111 means 1 row, 1 column, 1st subplot\n",
    "    ax.set_axis_off()\n",
    "    \n",
    "    data_for_year = gdf[gdf['Year'] == year]\n",
    "    \n",
    "    data_for_year.plot(\n",
    "        column=plot_column,\n",
    "        ax=ax,\n",
    "        vmin=vmin,\n",
    "        vmax=vmax,\n",
    "        cmap='Greens',\n",
    "        edgecolor='black',\n",
    "        linewidth=1.0,\n",
    "        legend=True,\n",
    "        legend_kwds={\n",
    "            'label': f\"Political Fragmentation\",\n",
    "            'orientation': \"vertical\"\n",
    "        }\n",
    "    )\n",
    "    \n",
    "    ax.set_title(\n",
    "        f\"Political Fragmentation in FBiH Municipalities - Year: {year}\",\n",
    "        fontdict={'fontsize': '18', 'fontweight' : 'bold'}\n",
    "    )\n",
    "    ax.set_axis_off()\n",
    "\n",
    "\n",
    "years = sorted(gdf['Year'].unique())\n",
    "\n",
    "ani = FuncAnimation(\n",
    "    fig,\n",
    "    update,\n",
    "    frames=years,\n",
    "    repeat=True,\n",
    "    interval=1000\n",
    ")\n",
    "\n",
    "\n",
    "print(\"Generating GIF... This might take a moment.\")\n",
    "ani.save(\n",
    "    FIG_DIR + 'political_fragmentation_animation.gif',\n",
    "    writer='pillow',\n",
    "    fps=0.5,\n",
    ")\n",
    "\n",
    "plt.close(fig)\n",
    "\n",
    "print(\"Animation saved as 'political_fragmentation_animation.gif'\")"
   ]
  },
  {
   "cell_type": "markdown",
   "id": "07001616-cbb3-4a03-9827-1190e7c63ffb",
   "metadata": {},
   "source": [
    "<table>\n",
    "  <tr align=\"center\">\n",
    "    <td>\n",
    "      <img src=\"../figures/gross_average_wage_animation.gif\" alt=\"Gross Average Wages\">\n",
    "    </td>\n",
    "    <td>\n",
    "      <img src=\"../figures/political_fragmentation_animation.gif\" alt=\"Political Fragmentation\">\n",
    "    </td>\n",
    "    <td>\n",
    "      <img src=\"../figures/ethnic_fragmentation.jpg\" alt=\"Ethnic Fragmentation\">\n",
    "    </td>\n",
    "  </tr>\n",
    "  \n",
    "  <tr align=\"center\">\n",
    "    <td>\n",
    "      <strong>Figure 1: Gross Average Wages in each municipality from 2012 to 2022.</strong>\n",
    "    </td>\n",
    "    <td>\n",
    "      <strong>Figure 2: Political Fragmentation in each municipality from 2012 to 2022.</strong>\n",
    "    </td>\n",
    "    <td>\n",
    "      <strong>Figure 3: Ethnic Fragmentation in each municipality in 2013.</strong>\n",
    "    </td>\n",
    "  </tr>\n",
    "</table>"
   ]
  },
  {
   "cell_type": "markdown",
   "id": "b82d4326-0193-4e99-ad9d-c5ac32b0558e",
   "metadata": {},
   "source": [
    "### Criteria 2: relationships between the dependent and control variables."
   ]
  },
  {
   "cell_type": "markdown",
   "id": "07e1bb21-e19a-4e82-8fb4-d6dfd5839248",
   "metadata": {},
   "source": [
    "I will again be using choropleth maps as I feel it makes it easier to see any patterns with this many individuals."
   ]
  },
  {
   "cell_type": "code",
   "execution_count": 12,
   "id": "80462497-382d-4ccf-be3b-ccc3f90fbc76",
   "metadata": {},
   "outputs": [
    {
     "name": "stdout",
     "output_type": "stream",
     "text": [
      "Generating GIF... This might take a moment.\n",
      "Animation saved as 'agriculture_animation.gif'\n"
     ]
    }
   ],
   "source": [
    "plot_column = 'Percentage of Agricultural Businesses'\n",
    "\n",
    "fig, ax = plt.subplots(1, 1, figsize=(12, 12))\n",
    "ax.set_axis_off()\n",
    "\n",
    "vmin = gdf[plot_column].min()\n",
    "vmax = gdf[plot_column].max()\n",
    "\n",
    "def update(year):\n",
    "    fig.clear()\n",
    "\n",
    "    ax = fig.add_subplot(111) # 111 means 1 row, 1 column, 1st subplot\n",
    "    ax.set_axis_off()\n",
    "    \n",
    "    data_for_year = gdf[gdf['Year'] == year]\n",
    "    \n",
    "    data_for_year.plot(\n",
    "        column=plot_column,\n",
    "        ax=ax,\n",
    "        vmin=vmin,\n",
    "        vmax=vmax,\n",
    "        cmap='Blues',\n",
    "        edgecolor='black',\n",
    "        linewidth=1.0,\n",
    "        legend=True,\n",
    "        legend_kwds={\n",
    "            'label': f\"Percentage of Agricultural Businesses\",\n",
    "            'orientation': \"vertical\"\n",
    "        }\n",
    "    )\n",
    "    \n",
    "    ax.set_title(\n",
    "        f\"Percentage of Agricultural Businesses - Year: {year}\",\n",
    "        fontdict={'fontsize': '18', 'fontweight' : 'bold'}\n",
    "    )\n",
    "    ax.set_axis_off()\n",
    "\n",
    "\n",
    "years = sorted(gdf['Year'].unique())\n",
    "\n",
    "ani = FuncAnimation(\n",
    "    fig,\n",
    "    update,\n",
    "    frames=years,\n",
    "    repeat=True,\n",
    "    interval=1000\n",
    ")\n",
    "\n",
    "\n",
    "print(\"Generating GIF... This might take a moment.\")\n",
    "ani.save(\n",
    "    FIG_DIR + 'agriculture_animation.gif',\n",
    "    writer='pillow',\n",
    "    fps=0.5,\n",
    ")\n",
    "\n",
    "plt.close(fig)\n",
    "\n",
    "print(\"Animation saved as 'agriculture_animation.gif'\")"
   ]
  },
  {
   "cell_type": "code",
   "execution_count": 13,
   "id": "52000581-d1a6-4c78-9607-4efb72bc68be",
   "metadata": {},
   "outputs": [
    {
     "name": "stdout",
     "output_type": "stream",
     "text": [
      "Generating GIF... This might take a moment.\n",
      "Animation saved as 'employees_animation.gif'\n"
     ]
    }
   ],
   "source": [
    "plot_column = 'Employees'\n",
    "\n",
    "fig, ax = plt.subplots(1, 1, figsize=(12, 12))\n",
    "ax.set_axis_off()\n",
    "\n",
    "vmin = gdf[plot_column].min()\n",
    "vmax = gdf[plot_column].max()\n",
    "\n",
    "def update(year):\n",
    "    fig.clear()\n",
    "\n",
    "    ax = fig.add_subplot(111) # 111 means 1 row, 1 column, 1st subplot\n",
    "    ax.set_axis_off()\n",
    "    \n",
    "    data_for_year = gdf[gdf['Year'] == year]\n",
    "    \n",
    "    data_for_year.plot(\n",
    "        column=plot_column,\n",
    "        ax=ax,\n",
    "        vmin=vmin,\n",
    "        vmax=vmax,\n",
    "        cmap='Greys',\n",
    "        edgecolor='black',\n",
    "        linewidth=1.0,\n",
    "        legend=True,\n",
    "        legend_kwds={\n",
    "            'label': f\"Number of Employed Residents\",\n",
    "            'orientation': \"vertical\"\n",
    "        }\n",
    "    )\n",
    "    \n",
    "    ax.set_title(\n",
    "        f\"Number of Employed Residents - Year: {year}\",\n",
    "        fontdict={'fontsize': '18', 'fontweight' : 'bold'}\n",
    "    )\n",
    "    ax.set_axis_off()\n",
    "\n",
    "\n",
    "years = sorted(gdf['Year'].unique())\n",
    "\n",
    "ani = FuncAnimation(\n",
    "    fig,\n",
    "    update,\n",
    "    frames=years,\n",
    "    repeat=True,\n",
    "    interval=1000\n",
    ")\n",
    "\n",
    "\n",
    "print(\"Generating GIF... This might take a moment.\")\n",
    "ani.save(\n",
    "    FIG_DIR + 'employees_animation.gif',\n",
    "    writer='pillow',\n",
    "    fps=0.5,\n",
    ")\n",
    "\n",
    "plt.close(fig)\n",
    "\n",
    "print(\"Animation saved as 'employees_animation.gif'\")"
   ]
  },
  {
   "cell_type": "markdown",
   "id": "33d9c1d3-0081-4b35-b736-dce1c87695b2",
   "metadata": {},
   "source": [
    "<table>\n",
    "  <tr align=\"center\">\n",
    "    <td>\n",
    "      <img src=\"../figures/gross_average_wage_animation.gif\" alt=\"Gross Average Wages\">\n",
    "    </td>\n",
    "    <td>\n",
    "      <img src=\"../figures/agriculture_animation.gif\" alt=\"Percentage of Agricultural Businesses\">\n",
    "    </td>\n",
    "    <td>\n",
    "      <img src=\"../figures/employees_animation.gif\" alt=\"Number of Employed Residents\">\n",
    "    </td>\n",
    "  </tr>\n",
    "  \n",
    "  <tr align=\"center\">\n",
    "    <td>\n",
    "      <strong>Figure 1: Gross Average Wages in each municipality from 2012 to 2022.</strong>\n",
    "    </td>\n",
    "    <td>\n",
    "      <strong>Figure 4: Percentage of Agricultural Businesses in each municipality from 2012 to 2022.</strong>\n",
    "    </td>\n",
    "    <td>\n",
    "      <strong>Figure 5: Number of Employed Residents in each municipality from 2012 to 2022.</strong>\n",
    "    </td>\n",
    "  </tr>\n",
    "</table>"
   ]
  },
  {
   "cell_type": "markdown",
   "id": "31cde6d8-389a-4250-a1fb-eb8d9566cde9",
   "metadata": {},
   "source": [
    "### Criteria 3: relationships between the independent and control variables."
   ]
  },
  {
   "cell_type": "markdown",
   "id": "11b7c87f-c873-48d6-9e33-35d77e6bff10",
   "metadata": {},
   "source": [
    "I will be using a correlation matrix to see this relationship because I worry that choropleth maps may not be as informative for stating the strength of the association. I will include my dependent variable just because it wouldn't hurt and gives another way of seeing the relationship."
   ]
  },
  {
   "cell_type": "code",
   "execution_count": 16,
   "id": "ba52858a-2be9-4c14-bff3-d559d3d436c3",
   "metadata": {},
   "outputs": [
    {
     "data": {
      "text/plain": [
       "Index(['shapeName', 'shapeISO', 'shapeID', 'shapeGroup', 'shapeType',\n",
       "       'Municipality', 'Year', 'Gross Average Wage',\n",
       "       'ethnic_concentration_hhi', 'political_fragmentation_hhi',\n",
       "       'Percentage of Agricultural Businesses', 'Employees', 'geometry'],\n",
       "      dtype='object')"
      ]
     },
     "execution_count": 16,
     "metadata": {},
     "output_type": "execute_result"
    }
   ],
   "source": [
    "gdf.columns"
   ]
  },
  {
   "cell_type": "code",
   "execution_count": 19,
   "id": "05174b35-e771-4942-af06-99d409d4cf89",
   "metadata": {},
   "outputs": [
    {
     "data": {
      "text/html": [
       "<div>\n",
       "<style scoped>\n",
       "    .dataframe tbody tr th:only-of-type {\n",
       "        vertical-align: middle;\n",
       "    }\n",
       "\n",
       "    .dataframe tbody tr th {\n",
       "        vertical-align: top;\n",
       "    }\n",
       "\n",
       "    .dataframe thead th {\n",
       "        text-align: right;\n",
       "    }\n",
       "</style>\n",
       "<table border=\"1\" class=\"dataframe\">\n",
       "  <thead>\n",
       "    <tr style=\"text-align: right;\">\n",
       "      <th></th>\n",
       "      <th>Gross Average Wage</th>\n",
       "      <th>ethnic_concentration_hhi</th>\n",
       "      <th>political_fragmentation_hhi</th>\n",
       "      <th>Percentage of Agricultural Businesses</th>\n",
       "      <th>Employees</th>\n",
       "    </tr>\n",
       "  </thead>\n",
       "  <tbody>\n",
       "    <tr>\n",
       "      <th>Gross Average Wage</th>\n",
       "      <td>1.000000</td>\n",
       "      <td>-0.075986</td>\n",
       "      <td>-0.069126</td>\n",
       "      <td>-0.000606</td>\n",
       "      <td>0.408476</td>\n",
       "    </tr>\n",
       "    <tr>\n",
       "      <th>ethnic_concentration_hhi</th>\n",
       "      <td>-0.075986</td>\n",
       "      <td>1.000000</td>\n",
       "      <td>0.544048</td>\n",
       "      <td>-0.166018</td>\n",
       "      <td>-0.082327</td>\n",
       "    </tr>\n",
       "    <tr>\n",
       "      <th>political_fragmentation_hhi</th>\n",
       "      <td>-0.069126</td>\n",
       "      <td>0.544048</td>\n",
       "      <td>1.000000</td>\n",
       "      <td>0.004005</td>\n",
       "      <td>-0.305429</td>\n",
       "    </tr>\n",
       "    <tr>\n",
       "      <th>Percentage of Agricultural Businesses</th>\n",
       "      <td>-0.000606</td>\n",
       "      <td>-0.166018</td>\n",
       "      <td>0.004005</td>\n",
       "      <td>1.000000</td>\n",
       "      <td>-0.394956</td>\n",
       "    </tr>\n",
       "    <tr>\n",
       "      <th>Employees</th>\n",
       "      <td>0.408476</td>\n",
       "      <td>-0.082327</td>\n",
       "      <td>-0.305429</td>\n",
       "      <td>-0.394956</td>\n",
       "      <td>1.000000</td>\n",
       "    </tr>\n",
       "  </tbody>\n",
       "</table>\n",
       "</div>"
      ],
      "text/plain": [
       "                                       Gross Average Wage  \\\n",
       "Gross Average Wage                               1.000000   \n",
       "ethnic_concentration_hhi                        -0.075986   \n",
       "political_fragmentation_hhi                     -0.069126   \n",
       "Percentage of Agricultural Businesses           -0.000606   \n",
       "Employees                                        0.408476   \n",
       "\n",
       "                                       ethnic_concentration_hhi  \\\n",
       "Gross Average Wage                                    -0.075986   \n",
       "ethnic_concentration_hhi                               1.000000   \n",
       "political_fragmentation_hhi                            0.544048   \n",
       "Percentage of Agricultural Businesses                 -0.166018   \n",
       "Employees                                             -0.082327   \n",
       "\n",
       "                                       political_fragmentation_hhi  \\\n",
       "Gross Average Wage                                       -0.069126   \n",
       "ethnic_concentration_hhi                                  0.544048   \n",
       "political_fragmentation_hhi                               1.000000   \n",
       "Percentage of Agricultural Businesses                     0.004005   \n",
       "Employees                                                -0.305429   \n",
       "\n",
       "                                       Percentage of Agricultural Businesses  \\\n",
       "Gross Average Wage                                                 -0.000606   \n",
       "ethnic_concentration_hhi                                           -0.166018   \n",
       "political_fragmentation_hhi                                         0.004005   \n",
       "Percentage of Agricultural Businesses                               1.000000   \n",
       "Employees                                                          -0.394956   \n",
       "\n",
       "                                       Employees  \n",
       "Gross Average Wage                      0.408476  \n",
       "ethnic_concentration_hhi               -0.082327  \n",
       "political_fragmentation_hhi            -0.305429  \n",
       "Percentage of Agricultural Businesses  -0.394956  \n",
       "Employees                               1.000000  "
      ]
     },
     "execution_count": 19,
     "metadata": {},
     "output_type": "execute_result"
    }
   ],
   "source": [
    "gdf[\n",
    "    [\n",
    "        \"Gross Average Wage\",\n",
    "        \"ethnic_concentration_hhi\",\n",
    "        \"political_fragmentation_hhi\",\n",
    "        \"Percentage of Agricultural Businesses\",\n",
    "        \"Employees\",\n",
    "    ]\n",
    "].corr()"
   ]
  },
  {
   "cell_type": "markdown",
   "id": "4e43619b-6c88-41ba-a0a0-655db2d5d604",
   "metadata": {},
   "source": [
    "## Step 3: Discuss the relationship between variables for each of the 3 criteria listed in the previous step.\n",
    "\n",
    "The write-up should include any relevant discussion points worth noting from the exploratory analysis in Step 2."
   ]
  },
  {
   "cell_type": "markdown",
   "id": "2dfb941d-690c-4b3d-a756-2fa27dacba1f",
   "metadata": {},
   "source": [
    "### Why are we looking at these variables and why they are relevant to your analysis?\n",
    "\n",
    "For example, does the relationship say something about your argument's assertion, supporting points, model assumptions, theoretical reasoning, validity concerns, etc."
   ]
  },
  {
   "cell_type": "markdown",
   "id": "802d425c-d034-4fc5-82f6-dcd24c2f0ac2",
   "metadata": {},
   "source": [
    "Gross Average Wage was the only dependent variable at the municipal level that I could use as a proxy for growth. Taecharungroj (2024) and Adjei and Mensah (2014) used similar approaches for focusing on income at different political levels when GDP data or more traditional growth variables were not available.\n",
    "\n",
    "My ethnic and political fragmentation variables are important to my analysis because I decided after PA3 to pivot to exploring how fragmentation and conflict can affect growth. My current working hypothesis is that areas with higher ethnic diversity, lower values of ethnic and political index variables, in BiH will experience less growth due to having more conflict as a result of not having a single dominant group in a municipality. From my correlation matrix, it looks like both of these variables are slightly negatively correlated with my dependent variable as I would expect from my hypothesis and the literature. In my choroleth maps it does also appear that some regions are very correlated with their ethnic index and their political index, indicating that areas with higher concentrations of one ehnicity vote for one type of presidential candidate.\n",
    "\n",
    "I include the percentage of agricultural businesses as a proxy for human capital. My idea was that municipalities with higher percentages of these businesses would likely employee workers that do not need specialized skills or knowledge compared to other industries. The correlation value with my dependent variable is very small and I'd argue very close to zero although the sign is what I would expect.\n",
    "\n",
    "The number of employees was included as a variable because I had the data and since I am using wage data, it would make sense to control for to isolate the effects for the quanity of workers in a municipality. It is decently correlated with my depenent variable and might capture the effect of municipalities with larger populations compared to others."
   ]
  },
  {
   "cell_type": "markdown",
   "id": "c26f9c3a-9730-4f10-92b6-fa9293d095cc",
   "metadata": {},
   "source": [
    "### Compare/contrast your exploratory analysis to relationships described in the literature or standard theory. Include the citations to each literature/theory referenced."
   ]
  },
  {
   "cell_type": "markdown",
   "id": "29cea872-16a2-4f6b-9def-4fb5bf78bf8b",
   "metadata": {},
   "source": [
    "The signs for my fragmentation variables align with the literature in that areas with more diverse ethnic backgrounds are prone to more conflict Guarnieri (2025) and that this conflict, whether physical or political, has a negative effect on growth through political instability Karnane and Quinn (2019).\n",
    "\n",
    "From my microeconomic courses, I remember that wages were the price of labor and the quantity demanded or supplied in that market was the amount of workers. According to my correlation matrix, Higher amounts of employed people were positively associated with gross average wages. This seems counterintuitive following the theory that the more workers there are supplying work, the lower wages would be.\n",
    "\n",
    "My agricultural variable as a proxy for human capital has the right sign and aligns with the study by Griliches and Mason (1972) on the effect of education and ability on income. Although my data focuses on municipalties intead of individuals, the sign matches in that those with lower education and skill are associated with earning less."
   ]
  },
  {
   "cell_type": "markdown",
   "id": "0769b2d8-ba92-4c8b-b46b-aa69d56e46dd",
   "metadata": {},
   "source": [
    "### Assess the overall data adequacy for your project.\n",
    "\n",
    "This might refer to the quantity, quality, availability, and/or the organization of the data on-hand.\n",
    "\n",
    "Do you believe the data can verify the hypothesis and worth exploring further with more sophisticated statistical methods?"
   ]
  },
  {
   "cell_type": "markdown",
   "id": "33e8bb0a-7ed6-4278-bef7-128086662aeb",
   "metadata": {},
   "source": [
    "I feel confident in the quanity and quality of data I have currently. It is not perfect but I am comfortable with the proxies I have and understand that any conclusions I reach will be limited as a result of the data I am using. I am a bit worried if I will need more data in the future for this project, that getting them will be very difficult as I have exhausted most of the official sources for municipal data (economic, political, and geographic).\n",
    "\n",
    "I think this is enough data to verify my hypothesis and is worth running some panel regressions on to see what results I can get. Before doing so, I think I should definitely make my dependent variable a percentage and a real variable instead of simply comparing average montthly income in a year. It may also be interesting to try and incorporate some geographic type of variable in my analysis given I have the data to make visualizations.\n",
    "\n",
    "Also my idea for including the ethnic variable (constant) was to possibly interact this with the political variable in my regressions. I don't know if this is a good idea and would appreciate any feedback on keeping or removing the ethnic variable from my model."
   ]
  }
 ],
 "metadata": {
  "kernelspec": {
   "display_name": "Python 3 (ipykernel)",
   "language": "python",
   "name": "python3"
  },
  "language_info": {
   "codemirror_mode": {
    "name": "ipython",
    "version": 3
   },
   "file_extension": ".py",
   "mimetype": "text/x-python",
   "name": "python",
   "nbconvert_exporter": "python",
   "pygments_lexer": "ipython3",
   "version": "3.11.14"
  }
 },
 "nbformat": 4,
 "nbformat_minor": 5
}
